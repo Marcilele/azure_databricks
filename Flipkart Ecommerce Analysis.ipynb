{
 "cells": [
  {
   "cell_type": "code",
   "execution_count": 0,
   "metadata": {
    "application/vnd.databricks.v1+cell": {
     "cellMetadata": {
      "byteLimit": 2048000,
      "rowLimit": 10000
     },
     "inputWidgets": {},
     "nuid": "260eb0e4-f13f-44b8-8cb1-bc3fbcec89ed",
     "showTitle": false,
     "title": ""
    }
   },
   "outputs": [
    {
     "output_type": "display_data",
     "data": {
      "text/html": [
       "<style scoped>\n",
       "  .table-result-container {\n",
       "    max-height: 300px;\n",
       "    overflow: auto;\n",
       "  }\n",
       "  table, th, td {\n",
       "    border: 1px solid black;\n",
       "    border-collapse: collapse;\n",
       "  }\n",
       "  th, td {\n",
       "    padding: 5px;\n",
       "  }\n",
       "  th {\n",
       "    text-align: left;\n",
       "  }\n",
       "</style><div class='table-result-container'><table class='table-result'><thead style='background-color: white'><tr><th>path</th><th>name</th><th>size</th><th>modificationTime</th></tr></thead><tbody><tr><td>abfss://datalake@datalakegen2storagelele.dfs.core.windows.net/example/</td><td>example/</td><td>0</td><td>1697901489000</td></tr></tbody></table></div>"
      ]
     },
     "metadata": {
      "application/vnd.databricks.v1+output": {
       "addedWidgets": {},
       "aggData": [],
       "aggError": "",
       "aggOverflow": false,
       "aggSchema": [],
       "aggSeriesLimitReached": false,
       "aggType": "",
       "arguments": {},
       "columnCustomDisplayInfos": {},
       "data": [
        [
         "abfss://datalake@datalakegen2storagelele.dfs.core.windows.net/example/",
         "example/",
         0,
         1697901489000
        ]
       ],
       "datasetInfos": [],
       "dbfsResultPath": null,
       "isJsonSchema": true,
       "metadata": {
        "isDbfsCommandResult": false
       },
       "overflow": false,
       "plotOptions": {
        "customPlotOptions": {},
        "displayType": "table",
        "pivotAggregation": null,
        "pivotColumns": null,
        "xColumns": null,
        "yColumns": null
       },
       "removedWidgets": [],
       "schema": [
        {
         "metadata": "{}",
         "name": "path",
         "type": "\"string\""
        },
        {
         "metadata": "{}",
         "name": "name",
         "type": "\"string\""
        },
        {
         "metadata": "{}",
         "name": "size",
         "type": "\"long\""
        },
        {
         "metadata": "{}",
         "name": "modificationTime",
         "type": "\"long\""
        }
       ],
       "type": "table"
      }
     },
     "output_type": "display_data"
    }
   ],
   "source": [
    "%fs ls abfss://datalake@datalakegen2storagelele.dfs.core.windows.net"
   ]
  },
  {
   "cell_type": "code",
   "execution_count": 0,
   "metadata": {
    "application/vnd.databricks.v1+cell": {
     "cellMetadata": {
      "byteLimit": 2048000,
      "rowLimit": 10000
     },
     "inputWidgets": {},
     "nuid": "4301ae1f-4f89-426a-8345-61ddfd3d32c4",
     "showTitle": false,
     "title": ""
    }
   },
   "outputs": [
    {
     "output_type": "display_data",
     "data": {
      "text/plain": [
       "\u001B[0;31m---------------------------------------------------------------------------\u001B[0m\n",
       "\u001B[0;31mExecutionError\u001B[0m                            Traceback (most recent call last)\n",
       "File \u001B[0;32m<command-4367303151985346>, line 5\u001B[0m\n",
       "\u001B[1;32m      1\u001B[0m configs \u001B[38;5;241m=\u001B[39m {\n",
       "\u001B[1;32m      2\u001B[0m     \u001B[38;5;124m\"\u001B[39m\u001B[38;5;124mfs.azure.account.auth.type\u001B[39m\u001B[38;5;124m\"\u001B[39m: \u001B[38;5;124m\"\u001B[39m\u001B[38;5;124mCustomAccessToken\u001B[39m\u001B[38;5;124m\"\u001B[39m,\n",
       "\u001B[1;32m      3\u001B[0m     \u001B[38;5;124m\"\u001B[39m\u001B[38;5;124mfs.azure.account.custom.token.provider.class\u001B[39m\u001B[38;5;124m\"\u001B[39m: spark\u001B[38;5;241m.\u001B[39mconf\u001B[38;5;241m.\u001B[39mget(\u001B[38;5;124m\"\u001B[39m\u001B[38;5;124mspark.databricks.passthrough.adls.gen2.tokenProviderClassName\u001B[39m\u001B[38;5;124m\"\u001B[39m)\n",
       "\u001B[1;32m      4\u001B[0m }\n",
       "\u001B[0;32m----> 5\u001B[0m dbutils\u001B[38;5;241m.\u001B[39mfs\u001B[38;5;241m.\u001B[39mmount(\n",
       "\u001B[1;32m      6\u001B[0m     source \u001B[38;5;241m=\u001B[39m \u001B[38;5;124m\"\u001B[39m\u001B[38;5;124mabfss://datalake@datalakegen2storagelele.dfs.core.windows.net/\u001B[39m\u001B[38;5;124m\"\u001B[39m,\n",
       "\u001B[1;32m      7\u001B[0m     mount_point \u001B[38;5;241m=\u001B[39m \u001B[38;5;124m\"\u001B[39m\u001B[38;5;124m/mnt/datalake\u001B[39m\u001B[38;5;124m\"\u001B[39m,\n",
       "\u001B[1;32m      8\u001B[0m     extra_configs \u001B[38;5;241m=\u001B[39m configs\n",
       "\u001B[1;32m      9\u001B[0m )\n",
       "\n",
       "File \u001B[0;32m/databricks/python_shell/dbruntime/dbutils.py:362\u001B[0m, in \u001B[0;36mDBUtils.FSHandler.prettify_exception_message.<locals>.f_with_exception_handling\u001B[0;34m(*args, **kwargs)\u001B[0m\n",
       "\u001B[1;32m    360\u001B[0m exc\u001B[38;5;241m.\u001B[39m__context__ \u001B[38;5;241m=\u001B[39m \u001B[38;5;28;01mNone\u001B[39;00m\n",
       "\u001B[1;32m    361\u001B[0m exc\u001B[38;5;241m.\u001B[39m__cause__ \u001B[38;5;241m=\u001B[39m \u001B[38;5;28;01mNone\u001B[39;00m\n",
       "\u001B[0;32m--> 362\u001B[0m \u001B[38;5;28;01mraise\u001B[39;00m exc\n",
       "\n",
       "\u001B[0;31mExecutionError\u001B[0m: An error occurred while calling o404.mount.\n",
       ": java.rmi.RemoteException: java.lang.IllegalArgumentException: requirement failed: Directory already mounted: /mnt/datalake; nested exception is: \n",
       "\tjava.lang.IllegalArgumentException: requirement failed: Directory already mounted: /mnt/datalake\n",
       "\tat com.databricks.backend.daemon.data.client.DbfsClient.send0(DbfsClient.scala:135)\n",
       "\tat com.databricks.backend.daemon.data.client.DbfsClient.sendIdempotent(DbfsClient.scala:69)\n",
       "\tat com.databricks.backend.daemon.dbutils.DBUtilsCore.createOrUpdateMount(DBUtilsCore.scala:1057)\n",
       "\tat com.databricks.backend.daemon.dbutils.DBUtilsCore.$anonfun$mount$1(DBUtilsCore.scala:1083)\n",
       "\tat com.databricks.logging.UsageLogging.$anonfun$recordOperation$1(UsageLogging.scala:571)\n",
       "\tat com.databricks.logging.UsageLogging.executeThunkAndCaptureResultTags$1(UsageLogging.scala:666)\n",
       "\tat com.databricks.logging.UsageLogging.$anonfun$recordOperationWithResultTags$4(UsageLogging.scala:684)\n",
       "\tat com.databricks.logging.UsageLogging.$anonfun$withAttributionContext$1(UsageLogging.scala:426)\n",
       "\tat scala.util.DynamicVariable.withValue(DynamicVariable.scala:62)\n",
       "\tat com.databricks.logging.AttributionContext$.withValue(AttributionContext.scala:196)\n",
       "\tat com.databricks.logging.UsageLogging.withAttributionContext(UsageLogging.scala:424)\n",
       "\tat com.databricks.logging.UsageLogging.withAttributionContext$(UsageLogging.scala:418)\n",
       "\tat com.databricks.backend.daemon.dbutils.FSUtils.withAttributionContext(DBUtilsCore.scala:69)\n",
       "\tat com.databricks.logging.UsageLogging.withAttributionTags(UsageLogging.scala:470)\n",
       "\tat com.databricks.logging.UsageLogging.withAttributionTags$(UsageLogging.scala:455)\n",
       "\tat com.databricks.backend.daemon.dbutils.FSUtils.withAttributionTags(DBUtilsCore.scala:69)\n",
       "\tat com.databricks.logging.UsageLogging.recordOperationWithResultTags(UsageLogging.scala:661)\n",
       "\tat com.databricks.logging.UsageLogging.recordOperationWithResultTags$(UsageLogging.scala:580)\n",
       "\tat com.databricks.backend.daemon.dbutils.FSUtils.recordOperationWithResultTags(DBUtilsCore.scala:69)\n",
       "\tat com.databricks.logging.UsageLogging.recordOperation(UsageLogging.scala:571)\n",
       "\tat com.databricks.logging.UsageLogging.recordOperation$(UsageLogging.scala:540)\n",
       "\tat com.databricks.backend.daemon.dbutils.FSUtils.recordOperation(DBUtilsCore.scala:69)\n",
       "\tat com.databricks.backend.daemon.dbutils.FSUtils.recordDbutilsFsOp(DBUtilsCore.scala:133)\n",
       "\tat com.databricks.backend.daemon.dbutils.DBUtilsCore.mount(DBUtilsCore.scala:1077)\n",
       "\tat sun.reflect.NativeMethodAccessorImpl.invoke0(Native Method)\n",
       "\tat sun.reflect.NativeMethodAccessorImpl.invoke(NativeMethodAccessorImpl.java:62)\n",
       "\tat sun.reflect.DelegatingMethodAccessorImpl.invoke(DelegatingMethodAccessorImpl.java:43)\n",
       "\tat java.lang.reflect.Method.invoke(Method.java:498)\n",
       "\tat py4j.reflection.MethodInvoker.invoke(MethodInvoker.java:244)\n",
       "\tat py4j.reflection.ReflectionEngine.invoke(ReflectionEngine.java:397)\n",
       "\tat py4j.Gateway.invoke(Gateway.java:306)\n",
       "\tat py4j.commands.AbstractCommand.invokeMethod(AbstractCommand.java:132)\n",
       "\tat py4j.commands.CallCommand.execute(CallCommand.java:79)\n",
       "\tat py4j.ClientServerConnection.waitForCommands(ClientServerConnection.java:195)\n",
       "\tat py4j.ClientServerConnection.run(ClientServerConnection.java:115)\n",
       "\tat java.lang.Thread.run(Thread.java:750)\n",
       "Caused by: java.lang.IllegalArgumentException: requirement failed: Directory already mounted: /mnt/datalake\n",
       "\tat scala.Predef$.require(Predef.scala:281)\n",
       "\tat com.databricks.backend.daemon.data.server.DefaultMetadataManager.$anonfun$insertMount$1(MetadataManager.scala:596)\n",
       "\tat com.databricks.backend.daemon.data.server.DefaultMetadataManager.$anonfun$modifyAndVerify$2(MetadataManager.scala:972)\n",
       "\tat scala.runtime.java8.JFunction0$mcV$sp.apply(JFunction0$mcV$sp.java:23)\n",
       "\tat com.databricks.backend.daemon.data.server.DefaultMetadataManager.withRetries(MetadataManager.scala:745)\n",
       "\tat com.databricks.backend.daemon.data.server.DefaultMetadataManager.modifyAndVerify(MetadataManager.scala:961)\n",
       "\tat com.databricks.backend.daemon.data.server.DefaultMetadataManager.insertMount(MetadataManager.scala:604)\n",
       "\tat com.databricks.backend.daemon.data.server.handler.MountHandler.receive(MountHandler.scala:120)\n",
       "\tat com.databricks.backend.daemon.data.server.session.SessionContext.$anonfun$queryHandlers$1(SessionContext.scala:54)\n",
       "\tat com.databricks.backend.daemon.data.server.session.SessionContext.$anonfun$queryHandlers$1$adapted(SessionContext.scala:53)\n",
       "\tat scala.collection.immutable.List.foreach(List.scala:431)\n",
       "\tat com.databricks.backend.daemon.data.server.session.SessionContext.queryHandlers(SessionContext.scala:53)\n",
       "\tat com.databricks.backend.daemon.data.server.DbfsServerBackend$$anonfun$receive$4.$anonfun$applyOrElse$5(DbfsServerBackend.scala:383)\n",
       "\tat com.databricks.logging.UsageLogging.$anonfun$withAttributionContext$1(UsageLogging.scala:426)\n",
       "\tat scala.util.DynamicVariable.withValue(DynamicVariable.scala:62)\n",
       "\tat com.databricks.logging.AttributionContext$.withValue(AttributionContext.scala:216)\n",
       "\tat com.databricks.logging.UsageLogging.withAttributionContext(UsageLogging.scala:424)\n",
       "\tat com.databricks.logging.UsageLogging.withAttributionContext$(UsageLogging.scala:418)\n",
       "\tat com.databricks.rpc.ServerBackend.withAttributionContext(ServerBackend.scala:22)\n",
       "\tat com.databricks.logging.UsageLogging.withAttributionTags(UsageLogging.scala:472)\n",
       "\tat com.databricks.logging.UsageLogging.withAttributionTags$(UsageLogging.scala:455)\n",
       "\tat com.databricks.rpc.ServerBackend.withAttributionTags(ServerBackend.scala:22)\n",
       "\tat com.databricks.backend.daemon.data.server.DbfsServerBackend$$anonfun$receive$4.applyOrElse(DbfsServerBackend.scala:383)\n",
       "\tat com.databricks.backend.daemon.data.server.DbfsServerBackend$$anonfun$receive$4.applyOrElse(DbfsServerBackend.scala:327)\n",
       "\tat com.databricks.rpc.ServerBackend.$anonfun$internalReceive0$2(ServerBackend.scala:174)\n",
       "\tat com.databricks.rpc.ServerBackend$$anonfun$commonReceive$1.applyOrElse(ServerBackend.scala:200)\n",
       "\tat com.databricks.rpc.ServerBackend$$anonfun$commonReceive$1.applyOrElse(ServerBackend.scala:200)\n",
       "\tat com.databricks.rpc.ServerBackend.internalReceive0(ServerBackend.scala:171)\n",
       "\tat com.databricks.rpc.ServerBackend.$anonfun$internalReceive$1(ServerBackend.scala:147)\n",
       "\tat com.databricks.logging.UsageLogging.$anonfun$recordOperation$1(UsageLogging.scala:573)\n",
       "\tat com.databricks.logging.UsageLogging.executeThunkAndCaptureResultTags$1(UsageLogging.scala:668)\n",
       "\tat com.databricks.logging.UsageLogging.$anonfun$recordOperationWithResultTags$4(UsageLogging.scala:686)\n",
       "\tat com.databricks.logging.UsageLogging.$anonfun$withAttributionContext$1(UsageLogging.scala:426)\n",
       "\tat scala.util.DynamicVariable.withValue(DynamicVariable.scala:62)\n",
       "\tat com.databricks.logging.AttributionContext$.withValue(AttributionContext.scala:216)\n",
       "\tat com.databricks.logging.UsageLogging.withAttributionContext(UsageLogging.scala:424)\n",
       "\tat com.databricks.logging.UsageLogging.withAttributionContext$(UsageLogging.scala:418)\n",
       "\tat com.databricks.rpc.ServerBackend.withAttributionContext(ServerBackend.scala:22)\n",
       "\tat com.databricks.logging.UsageLogging.withAttributionTags(UsageLogging.scala:472)\n",
       "\tat com.databricks.logging.UsageLogging.withAttributionTags$(UsageLogging.scala:455)\n",
       "\tat com.databricks.rpc.ServerBackend.withAttributionTags(ServerBackend.scala:22)\n",
       "\tat com.databricks.logging.UsageLogging.recordOperationWithResultTags(UsageLogging.scala:663)\n",
       "\tat com.databricks.logging.UsageLogging.recordOperationWithResultTags$(UsageLogging.scala:582)\n",
       "\tat com.databricks.rpc.ServerBackend.recordOperationWithResultTags(ServerBackend.scala:22)\n",
       "\tat com.databricks.logging.UsageLogging.recordOperation(UsageLogging.scala:573)\n",
       "\tat com.databricks.logging.UsageLogging.recordOperation$(UsageLogging.scala:542)\n",
       "\tat com.databricks.rpc.ServerBackend.recordOperation(ServerBackend.scala:22)\n",
       "\tat com.databricks.rpc.ServerBackend.internalReceive(ServerBackend.scala:147)\n",
       "\tat com.databricks.rpc.JettyServer$RequestManager.handleRPC(JettyServer.scala:1020)\n",
       "\tat com.databricks.rpc.JettyServer$RequestManager.handleRequestAndRespond(JettyServer.scala:941)\n",
       "\tat com.databricks.rpc.JettyServer$RequestManager.$anonfun$handleHttp$6(JettyServer.scala:545)\n",
       "\tat com.databricks.rpc.JettyServer$RequestManager.$anonfun$handleHttp$6$adapted(JettyServer.scala:514)\n",
       "\tat com.databricks.logging.activity.ActivityContextFactory$.$anonfun$withActivityInternal$4(ActivityContextFactory.scala:402)\n",
       "\tat com.databricks.logging.UsageLogging.$anonfun$withAttributionContext$1(UsageLogging.scala:426)\n",
       "\tat scala.util.DynamicVariable.withValue(DynamicVariable.scala:62)\n",
       "\tat com.databricks.logging.AttributionContext$.withValue(AttributionContext.scala:216)\n",
       "\tat com.databricks.logging.UsageLogging.withAttributionContext(UsageLogging.scala:424)\n",
       "\tat com.databricks.logging.UsageLogging.withAttributionContext$(UsageLogging.scala:418)\n",
       "\tat com.databricks.logging.activity.ActivityContextFactory$.withAttributionContext(ActivityContextFactory.scala:56)\n",
       "\tat com.databricks.logging.activity.ActivityContextFactory$.$anonfun$withActivityInternal$1(ActivityContextFactory.scala:402)\n",
       "\tat com.databricks.context.integrity.IntegrityCheckContext$ThreadLocalStorage$.withValue(IntegrityCheckContext.scala:44)\n",
       "\tat com.databricks.logging.activity.ActivityContextFactory$.withActivityInternal(ActivityContextFactory.scala:377)\n",
       "\tat com.databricks.logging.activity.ActivityContextFactory$.withServiceRequestActivity(ActivityContextFactory.scala:157)\n",
       "\tat com.databricks.rpc.JettyServer$RequestManager.handleHttp(JettyServer.scala:514)\n",
       "\tat com.databricks.rpc.JettyServer$RequestManager.doPost(JettyServer.scala:404)\n",
       "\tat javax.servlet.http.HttpServlet.service(HttpServlet.java:665)\n",
       "\tat com.databricks.rpc.HttpServletWithPatch.service(HttpServletWithPatch.scala:33)\n",
       "\tat javax.servlet.http.HttpServlet.service(HttpServlet.java:750)\n",
       "\tat org.eclipse.jetty.servlet.ServletHolder.handle(ServletHolder.java:848)\n",
       "\tat org.eclipse.jetty.servlet.ServletHandler.doHandle(ServletHandler.java:585)\n",
       "\tat org.eclipse.jetty.servlet.ServletHandler.doScope(ServletHandler.java:515)\n",
       "\tat org.eclipse.jetty.server.handler.ScopedHandler.handle(ScopedHandler.java:141)\n",
       "\tat org.eclipse.jetty.server.handler.HandlerWrapper.handle(HandlerWrapper.java:134)\n",
       "\tat org.eclipse.jetty.server.Server.handle(Server.java:539)\n",
       "\tat org.eclipse.jetty.server.HttpChannel.handle(HttpChannel.java:333)\n",
       "\tat org.eclipse.jetty.server.HttpConnection.onFillable(HttpConnection.java:251)\n",
       "\tat org.eclipse.jetty.io.AbstractConnection$ReadCallback.succeeded(AbstractConnection.java:283)\n",
       "\tat org.eclipse.jetty.io.FillInterest.fillable(FillInterest.java:108)\n",
       "\tat org.eclipse.jetty.io.SelectChannelEndPoint$2.run(SelectChannelEndPoint.java:93)\n",
       "\tat org.eclipse.jetty.util.thread.strategy.ExecuteProduceConsume.executeProduceConsume(ExecuteProduceConsume.java:303)\n",
       "\tat org.eclipse.jetty.util.thread.strategy.ExecuteProduceConsume.produceConsume(ExecuteProduceConsume.java:148)\n",
       "\tat org.eclipse.jetty.util.thread.strategy.ExecuteProduceConsume.run(ExecuteProduceConsume.java:136)\n",
       "\tat com.databricks.rpc.InstrumentedQueuedThreadPool$$anon$1.$anonfun$run$1(InstrumentedQueuedThreadPool.scala:81)\n",
       "\tat scala.runtime.java8.JFunction0$mcV$sp.apply(JFunction0$mcV$sp.java:23)\n",
       "\tat com.databricks.instrumentation.QueuedThreadPoolInstrumenter.trackActiveThreads(QueuedThreadPoolInstrumenter.scala:66)\n",
       "\tat com.databricks.instrumentation.QueuedThreadPoolInstrumenter.trackActiveThreads$(QueuedThreadPoolInstrumenter.scala:63)\n",
       "\tat com.databricks.rpc.InstrumentedQueuedThreadPool.trackActiveThreads(InstrumentedQueuedThreadPool.scala:47)\n",
       "\tat com.databricks.rpc.InstrumentedQueuedThreadPool$$anon$1.run(InstrumentedQueuedThreadPool.scala:76)\n",
       "\tat org.eclipse.jetty.util.thread.QueuedThreadPool.runJob(QueuedThreadPool.java:671)\n",
       "\tat org.eclipse.jetty.util.thread.QueuedThreadPool$2.run(QueuedThreadPool.java:589)\n",
       "\t... 1 more\n"
      ]
     },
     "metadata": {
      "application/vnd.databricks.v1+output": {
       "arguments": {},
       "data": "\u001B[0;31m---------------------------------------------------------------------------\u001B[0m\n\u001B[0;31mExecutionError\u001B[0m                            Traceback (most recent call last)\nFile \u001B[0;32m<command-4367303151985346>, line 5\u001B[0m\n\u001B[1;32m      1\u001B[0m configs \u001B[38;5;241m=\u001B[39m {\n\u001B[1;32m      2\u001B[0m     \u001B[38;5;124m\"\u001B[39m\u001B[38;5;124mfs.azure.account.auth.type\u001B[39m\u001B[38;5;124m\"\u001B[39m: \u001B[38;5;124m\"\u001B[39m\u001B[38;5;124mCustomAccessToken\u001B[39m\u001B[38;5;124m\"\u001B[39m,\n\u001B[1;32m      3\u001B[0m     \u001B[38;5;124m\"\u001B[39m\u001B[38;5;124mfs.azure.account.custom.token.provider.class\u001B[39m\u001B[38;5;124m\"\u001B[39m: spark\u001B[38;5;241m.\u001B[39mconf\u001B[38;5;241m.\u001B[39mget(\u001B[38;5;124m\"\u001B[39m\u001B[38;5;124mspark.databricks.passthrough.adls.gen2.tokenProviderClassName\u001B[39m\u001B[38;5;124m\"\u001B[39m)\n\u001B[1;32m      4\u001B[0m }\n\u001B[0;32m----> 5\u001B[0m dbutils\u001B[38;5;241m.\u001B[39mfs\u001B[38;5;241m.\u001B[39mmount(\n\u001B[1;32m      6\u001B[0m     source \u001B[38;5;241m=\u001B[39m \u001B[38;5;124m\"\u001B[39m\u001B[38;5;124mabfss://datalake@datalakegen2storagelele.dfs.core.windows.net/\u001B[39m\u001B[38;5;124m\"\u001B[39m,\n\u001B[1;32m      7\u001B[0m     mount_point \u001B[38;5;241m=\u001B[39m \u001B[38;5;124m\"\u001B[39m\u001B[38;5;124m/mnt/datalake\u001B[39m\u001B[38;5;124m\"\u001B[39m,\n\u001B[1;32m      8\u001B[0m     extra_configs \u001B[38;5;241m=\u001B[39m configs\n\u001B[1;32m      9\u001B[0m )\n\nFile \u001B[0;32m/databricks/python_shell/dbruntime/dbutils.py:362\u001B[0m, in \u001B[0;36mDBUtils.FSHandler.prettify_exception_message.<locals>.f_with_exception_handling\u001B[0;34m(*args, **kwargs)\u001B[0m\n\u001B[1;32m    360\u001B[0m exc\u001B[38;5;241m.\u001B[39m__context__ \u001B[38;5;241m=\u001B[39m \u001B[38;5;28;01mNone\u001B[39;00m\n\u001B[1;32m    361\u001B[0m exc\u001B[38;5;241m.\u001B[39m__cause__ \u001B[38;5;241m=\u001B[39m \u001B[38;5;28;01mNone\u001B[39;00m\n\u001B[0;32m--> 362\u001B[0m \u001B[38;5;28;01mraise\u001B[39;00m exc\n\n\u001B[0;31mExecutionError\u001B[0m: An error occurred while calling o404.mount.\n: java.rmi.RemoteException: java.lang.IllegalArgumentException: requirement failed: Directory already mounted: /mnt/datalake; nested exception is: \n\tjava.lang.IllegalArgumentException: requirement failed: Directory already mounted: /mnt/datalake\n\tat com.databricks.backend.daemon.data.client.DbfsClient.send0(DbfsClient.scala:135)\n\tat com.databricks.backend.daemon.data.client.DbfsClient.sendIdempotent(DbfsClient.scala:69)\n\tat com.databricks.backend.daemon.dbutils.DBUtilsCore.createOrUpdateMount(DBUtilsCore.scala:1057)\n\tat com.databricks.backend.daemon.dbutils.DBUtilsCore.$anonfun$mount$1(DBUtilsCore.scala:1083)\n\tat com.databricks.logging.UsageLogging.$anonfun$recordOperation$1(UsageLogging.scala:571)\n\tat com.databricks.logging.UsageLogging.executeThunkAndCaptureResultTags$1(UsageLogging.scala:666)\n\tat com.databricks.logging.UsageLogging.$anonfun$recordOperationWithResultTags$4(UsageLogging.scala:684)\n\tat com.databricks.logging.UsageLogging.$anonfun$withAttributionContext$1(UsageLogging.scala:426)\n\tat scala.util.DynamicVariable.withValue(DynamicVariable.scala:62)\n\tat com.databricks.logging.AttributionContext$.withValue(AttributionContext.scala:196)\n\tat com.databricks.logging.UsageLogging.withAttributionContext(UsageLogging.scala:424)\n\tat com.databricks.logging.UsageLogging.withAttributionContext$(UsageLogging.scala:418)\n\tat com.databricks.backend.daemon.dbutils.FSUtils.withAttributionContext(DBUtilsCore.scala:69)\n\tat com.databricks.logging.UsageLogging.withAttributionTags(UsageLogging.scala:470)\n\tat com.databricks.logging.UsageLogging.withAttributionTags$(UsageLogging.scala:455)\n\tat com.databricks.backend.daemon.dbutils.FSUtils.withAttributionTags(DBUtilsCore.scala:69)\n\tat com.databricks.logging.UsageLogging.recordOperationWithResultTags(UsageLogging.scala:661)\n\tat com.databricks.logging.UsageLogging.recordOperationWithResultTags$(UsageLogging.scala:580)\n\tat com.databricks.backend.daemon.dbutils.FSUtils.recordOperationWithResultTags(DBUtilsCore.scala:69)\n\tat com.databricks.logging.UsageLogging.recordOperation(UsageLogging.scala:571)\n\tat com.databricks.logging.UsageLogging.recordOperation$(UsageLogging.scala:540)\n\tat com.databricks.backend.daemon.dbutils.FSUtils.recordOperation(DBUtilsCore.scala:69)\n\tat com.databricks.backend.daemon.dbutils.FSUtils.recordDbutilsFsOp(DBUtilsCore.scala:133)\n\tat com.databricks.backend.daemon.dbutils.DBUtilsCore.mount(DBUtilsCore.scala:1077)\n\tat sun.reflect.NativeMethodAccessorImpl.invoke0(Native Method)\n\tat sun.reflect.NativeMethodAccessorImpl.invoke(NativeMethodAccessorImpl.java:62)\n\tat sun.reflect.DelegatingMethodAccessorImpl.invoke(DelegatingMethodAccessorImpl.java:43)\n\tat java.lang.reflect.Method.invoke(Method.java:498)\n\tat py4j.reflection.MethodInvoker.invoke(MethodInvoker.java:244)\n\tat py4j.reflection.ReflectionEngine.invoke(ReflectionEngine.java:397)\n\tat py4j.Gateway.invoke(Gateway.java:306)\n\tat py4j.commands.AbstractCommand.invokeMethod(AbstractCommand.java:132)\n\tat py4j.commands.CallCommand.execute(CallCommand.java:79)\n\tat py4j.ClientServerConnection.waitForCommands(ClientServerConnection.java:195)\n\tat py4j.ClientServerConnection.run(ClientServerConnection.java:115)\n\tat java.lang.Thread.run(Thread.java:750)\nCaused by: java.lang.IllegalArgumentException: requirement failed: Directory already mounted: /mnt/datalake\n\tat scala.Predef$.require(Predef.scala:281)\n\tat com.databricks.backend.daemon.data.server.DefaultMetadataManager.$anonfun$insertMount$1(MetadataManager.scala:596)\n\tat com.databricks.backend.daemon.data.server.DefaultMetadataManager.$anonfun$modifyAndVerify$2(MetadataManager.scala:972)\n\tat scala.runtime.java8.JFunction0$mcV$sp.apply(JFunction0$mcV$sp.java:23)\n\tat com.databricks.backend.daemon.data.server.DefaultMetadataManager.withRetries(MetadataManager.scala:745)\n\tat com.databricks.backend.daemon.data.server.DefaultMetadataManager.modifyAndVerify(MetadataManager.scala:961)\n\tat com.databricks.backend.daemon.data.server.DefaultMetadataManager.insertMount(MetadataManager.scala:604)\n\tat com.databricks.backend.daemon.data.server.handler.MountHandler.receive(MountHandler.scala:120)\n\tat com.databricks.backend.daemon.data.server.session.SessionContext.$anonfun$queryHandlers$1(SessionContext.scala:54)\n\tat com.databricks.backend.daemon.data.server.session.SessionContext.$anonfun$queryHandlers$1$adapted(SessionContext.scala:53)\n\tat scala.collection.immutable.List.foreach(List.scala:431)\n\tat com.databricks.backend.daemon.data.server.session.SessionContext.queryHandlers(SessionContext.scala:53)\n\tat com.databricks.backend.daemon.data.server.DbfsServerBackend$$anonfun$receive$4.$anonfun$applyOrElse$5(DbfsServerBackend.scala:383)\n\tat com.databricks.logging.UsageLogging.$anonfun$withAttributionContext$1(UsageLogging.scala:426)\n\tat scala.util.DynamicVariable.withValue(DynamicVariable.scala:62)\n\tat com.databricks.logging.AttributionContext$.withValue(AttributionContext.scala:216)\n\tat com.databricks.logging.UsageLogging.withAttributionContext(UsageLogging.scala:424)\n\tat com.databricks.logging.UsageLogging.withAttributionContext$(UsageLogging.scala:418)\n\tat com.databricks.rpc.ServerBackend.withAttributionContext(ServerBackend.scala:22)\n\tat com.databricks.logging.UsageLogging.withAttributionTags(UsageLogging.scala:472)\n\tat com.databricks.logging.UsageLogging.withAttributionTags$(UsageLogging.scala:455)\n\tat com.databricks.rpc.ServerBackend.withAttributionTags(ServerBackend.scala:22)\n\tat com.databricks.backend.daemon.data.server.DbfsServerBackend$$anonfun$receive$4.applyOrElse(DbfsServerBackend.scala:383)\n\tat com.databricks.backend.daemon.data.server.DbfsServerBackend$$anonfun$receive$4.applyOrElse(DbfsServerBackend.scala:327)\n\tat com.databricks.rpc.ServerBackend.$anonfun$internalReceive0$2(ServerBackend.scala:174)\n\tat com.databricks.rpc.ServerBackend$$anonfun$commonReceive$1.applyOrElse(ServerBackend.scala:200)\n\tat com.databricks.rpc.ServerBackend$$anonfun$commonReceive$1.applyOrElse(ServerBackend.scala:200)\n\tat com.databricks.rpc.ServerBackend.internalReceive0(ServerBackend.scala:171)\n\tat com.databricks.rpc.ServerBackend.$anonfun$internalReceive$1(ServerBackend.scala:147)\n\tat com.databricks.logging.UsageLogging.$anonfun$recordOperation$1(UsageLogging.scala:573)\n\tat com.databricks.logging.UsageLogging.executeThunkAndCaptureResultTags$1(UsageLogging.scala:668)\n\tat com.databricks.logging.UsageLogging.$anonfun$recordOperationWithResultTags$4(UsageLogging.scala:686)\n\tat com.databricks.logging.UsageLogging.$anonfun$withAttributionContext$1(UsageLogging.scala:426)\n\tat scala.util.DynamicVariable.withValue(DynamicVariable.scala:62)\n\tat com.databricks.logging.AttributionContext$.withValue(AttributionContext.scala:216)\n\tat com.databricks.logging.UsageLogging.withAttributionContext(UsageLogging.scala:424)\n\tat com.databricks.logging.UsageLogging.withAttributionContext$(UsageLogging.scala:418)\n\tat com.databricks.rpc.ServerBackend.withAttributionContext(ServerBackend.scala:22)\n\tat com.databricks.logging.UsageLogging.withAttributionTags(UsageLogging.scala:472)\n\tat com.databricks.logging.UsageLogging.withAttributionTags$(UsageLogging.scala:455)\n\tat com.databricks.rpc.ServerBackend.withAttributionTags(ServerBackend.scala:22)\n\tat com.databricks.logging.UsageLogging.recordOperationWithResultTags(UsageLogging.scala:663)\n\tat com.databricks.logging.UsageLogging.recordOperationWithResultTags$(UsageLogging.scala:582)\n\tat com.databricks.rpc.ServerBackend.recordOperationWithResultTags(ServerBackend.scala:22)\n\tat com.databricks.logging.UsageLogging.recordOperation(UsageLogging.scala:573)\n\tat com.databricks.logging.UsageLogging.recordOperation$(UsageLogging.scala:542)\n\tat com.databricks.rpc.ServerBackend.recordOperation(ServerBackend.scala:22)\n\tat com.databricks.rpc.ServerBackend.internalReceive(ServerBackend.scala:147)\n\tat com.databricks.rpc.JettyServer$RequestManager.handleRPC(JettyServer.scala:1020)\n\tat com.databricks.rpc.JettyServer$RequestManager.handleRequestAndRespond(JettyServer.scala:941)\n\tat com.databricks.rpc.JettyServer$RequestManager.$anonfun$handleHttp$6(JettyServer.scala:545)\n\tat com.databricks.rpc.JettyServer$RequestManager.$anonfun$handleHttp$6$adapted(JettyServer.scala:514)\n\tat com.databricks.logging.activity.ActivityContextFactory$.$anonfun$withActivityInternal$4(ActivityContextFactory.scala:402)\n\tat com.databricks.logging.UsageLogging.$anonfun$withAttributionContext$1(UsageLogging.scala:426)\n\tat scala.util.DynamicVariable.withValue(DynamicVariable.scala:62)\n\tat com.databricks.logging.AttributionContext$.withValue(AttributionContext.scala:216)\n\tat com.databricks.logging.UsageLogging.withAttributionContext(UsageLogging.scala:424)\n\tat com.databricks.logging.UsageLogging.withAttributionContext$(UsageLogging.scala:418)\n\tat com.databricks.logging.activity.ActivityContextFactory$.withAttributionContext(ActivityContextFactory.scala:56)\n\tat com.databricks.logging.activity.ActivityContextFactory$.$anonfun$withActivityInternal$1(ActivityContextFactory.scala:402)\n\tat com.databricks.context.integrity.IntegrityCheckContext$ThreadLocalStorage$.withValue(IntegrityCheckContext.scala:44)\n\tat com.databricks.logging.activity.ActivityContextFactory$.withActivityInternal(ActivityContextFactory.scala:377)\n\tat com.databricks.logging.activity.ActivityContextFactory$.withServiceRequestActivity(ActivityContextFactory.scala:157)\n\tat com.databricks.rpc.JettyServer$RequestManager.handleHttp(JettyServer.scala:514)\n\tat com.databricks.rpc.JettyServer$RequestManager.doPost(JettyServer.scala:404)\n\tat javax.servlet.http.HttpServlet.service(HttpServlet.java:665)\n\tat com.databricks.rpc.HttpServletWithPatch.service(HttpServletWithPatch.scala:33)\n\tat javax.servlet.http.HttpServlet.service(HttpServlet.java:750)\n\tat org.eclipse.jetty.servlet.ServletHolder.handle(ServletHolder.java:848)\n\tat org.eclipse.jetty.servlet.ServletHandler.doHandle(ServletHandler.java:585)\n\tat org.eclipse.jetty.servlet.ServletHandler.doScope(ServletHandler.java:515)\n\tat org.eclipse.jetty.server.handler.ScopedHandler.handle(ScopedHandler.java:141)\n\tat org.eclipse.jetty.server.handler.HandlerWrapper.handle(HandlerWrapper.java:134)\n\tat org.eclipse.jetty.server.Server.handle(Server.java:539)\n\tat org.eclipse.jetty.server.HttpChannel.handle(HttpChannel.java:333)\n\tat org.eclipse.jetty.server.HttpConnection.onFillable(HttpConnection.java:251)\n\tat org.eclipse.jetty.io.AbstractConnection$ReadCallback.succeeded(AbstractConnection.java:283)\n\tat org.eclipse.jetty.io.FillInterest.fillable(FillInterest.java:108)\n\tat org.eclipse.jetty.io.SelectChannelEndPoint$2.run(SelectChannelEndPoint.java:93)\n\tat org.eclipse.jetty.util.thread.strategy.ExecuteProduceConsume.executeProduceConsume(ExecuteProduceConsume.java:303)\n\tat org.eclipse.jetty.util.thread.strategy.ExecuteProduceConsume.produceConsume(ExecuteProduceConsume.java:148)\n\tat org.eclipse.jetty.util.thread.strategy.ExecuteProduceConsume.run(ExecuteProduceConsume.java:136)\n\tat com.databricks.rpc.InstrumentedQueuedThreadPool$$anon$1.$anonfun$run$1(InstrumentedQueuedThreadPool.scala:81)\n\tat scala.runtime.java8.JFunction0$mcV$sp.apply(JFunction0$mcV$sp.java:23)\n\tat com.databricks.instrumentation.QueuedThreadPoolInstrumenter.trackActiveThreads(QueuedThreadPoolInstrumenter.scala:66)\n\tat com.databricks.instrumentation.QueuedThreadPoolInstrumenter.trackActiveThreads$(QueuedThreadPoolInstrumenter.scala:63)\n\tat com.databricks.rpc.InstrumentedQueuedThreadPool.trackActiveThreads(InstrumentedQueuedThreadPool.scala:47)\n\tat com.databricks.rpc.InstrumentedQueuedThreadPool$$anon$1.run(InstrumentedQueuedThreadPool.scala:76)\n\tat org.eclipse.jetty.util.thread.QueuedThreadPool.runJob(QueuedThreadPool.java:671)\n\tat org.eclipse.jetty.util.thread.QueuedThreadPool$2.run(QueuedThreadPool.java:589)\n\t... 1 more\n",
       "errorSummary": "java.rmi.RemoteException: java.lang.IllegalArgumentException: requirement failed: Directory already mounted: /mnt/datalake; nested exception is: ",
       "errorTraceType": "ansi",
       "metadata": {},
       "type": "ipynbError"
      }
     },
     "output_type": "display_data"
    }
   ],
   "source": [
    "%python\n",
    "configs = {\n",
    "    \"fs.azure.account.auth.type\": \"CustomAccessToken\",\n",
    "    \"fs.azure.account.custom.token.provider.class\": spark.conf.get(\"spark.databricks.passthrough.adls.gen2.tokenProviderClassName\")\n",
    "}\n",
    "dbutils.fs.mount(\n",
    "    source = \"abfss://datalake@datalakegen2storagelele.dfs.core.windows.net/\",\n",
    "    mount_point = \"/mnt/datalake\",\n",
    "    extra_configs = configs\n",
    ")"
   ]
  },
  {
   "cell_type": "code",
   "execution_count": 0,
   "metadata": {
    "application/vnd.databricks.v1+cell": {
     "cellMetadata": {
      "byteLimit": 2048000,
      "rowLimit": 10000
     },
     "inputWidgets": {},
     "nuid": "c7aa0823-46d3-4c97-a9c0-61d0a35ea371",
     "showTitle": false,
     "title": ""
    }
   },
   "outputs": [
    {
     "output_type": "execute_result",
     "data": {
      "text/plain": [
       "'com.databricks.backend.daemon.data.client.adl.AdlGen2CredentialContextTokenProvider'"
      ]
     },
     "execution_count": 2,
     "metadata": {},
     "output_type": "execute_result"
    }
   ],
   "source": [
    "%python\n",
    "spark.conf.get(\"spark.databricks.passthrough.adls.gen2.tokenProviderClassName\")\n"
   ]
  },
  {
   "cell_type": "code",
   "execution_count": 0,
   "metadata": {
    "application/vnd.databricks.v1+cell": {
     "cellMetadata": {
      "byteLimit": 2048000,
      "rowLimit": 10000
     },
     "inputWidgets": {},
     "nuid": "0bf8ab9c-1f66-4325-806c-4eca1e2aef05",
     "showTitle": false,
     "title": ""
    }
   },
   "outputs": [
    {
     "output_type": "display_data",
     "data": {
      "text/html": [
       "<style scoped>\n",
       "  .table-result-container {\n",
       "    max-height: 300px;\n",
       "    overflow: auto;\n",
       "  }\n",
       "  table, th, td {\n",
       "    border: 1px solid black;\n",
       "    border-collapse: collapse;\n",
       "  }\n",
       "  th, td {\n",
       "    padding: 5px;\n",
       "  }\n",
       "  th {\n",
       "    text-align: left;\n",
       "  }\n",
       "</style><div class='table-result-container'><table class='table-result'><thead style='background-color: white'><tr><th>path</th><th>name</th><th>size</th><th>modificationTime</th></tr></thead><tbody><tr><td>dbfs:/mnt/datalake/example/flipkart_fashion_products_dataset.json</td><td>flipkart_fashion_products_dataset.json</td><td>82720262</td><td>1697909569000</td></tr><tr><td>dbfs:/mnt/datalake/example/test.json</td><td>test.json</td><td>476</td><td>1697983136000</td></tr></tbody></table></div>"
      ]
     },
     "metadata": {
      "application/vnd.databricks.v1+output": {
       "addedWidgets": {},
       "aggData": [],
       "aggError": "",
       "aggOverflow": false,
       "aggSchema": [],
       "aggSeriesLimitReached": false,
       "aggType": "",
       "arguments": {},
       "columnCustomDisplayInfos": {},
       "data": [
        [
         "dbfs:/mnt/datalake/example/flipkart_fashion_products_dataset.json",
         "flipkart_fashion_products_dataset.json",
         82720262,
         1697909569000
        ],
        [
         "dbfs:/mnt/datalake/example/test.json",
         "test.json",
         476,
         1697983136000
        ]
       ],
       "datasetInfos": [],
       "dbfsResultPath": null,
       "isJsonSchema": true,
       "metadata": {
        "isDbfsCommandResult": false
       },
       "overflow": false,
       "plotOptions": {
        "customPlotOptions": {},
        "displayType": "table",
        "pivotAggregation": null,
        "pivotColumns": null,
        "xColumns": null,
        "yColumns": null
       },
       "removedWidgets": [],
       "schema": [
        {
         "metadata": "{}",
         "name": "path",
         "type": "\"string\""
        },
        {
         "metadata": "{}",
         "name": "name",
         "type": "\"string\""
        },
        {
         "metadata": "{}",
         "name": "size",
         "type": "\"long\""
        },
        {
         "metadata": "{}",
         "name": "modificationTime",
         "type": "\"long\""
        }
       ],
       "type": "table"
      }
     },
     "output_type": "display_data"
    }
   ],
   "source": [
    "%fs ls /mnt/datalake/example"
   ]
  },
  {
   "cell_type": "code",
   "execution_count": 0,
   "metadata": {
    "application/vnd.databricks.v1+cell": {
     "cellMetadata": {
      "byteLimit": 2048000,
      "rowLimit": 10000
     },
     "inputWidgets": {},
     "nuid": "44f6a444-e099-4685-9f1d-2ac5204b0880",
     "showTitle": false,
     "title": ""
    }
   },
   "outputs": [
    {
     "output_type": "stream",
     "name": "stdout",
     "output_type": "stream",
     "text": [
      "+--------------------+------------+--------------+-----+--------------------+--------------------+--------------------+--------+--------------------+------------+----------------+--------------------+-----------------+-------------+------------+--------------------+--------------------+\n|                 _id|actual_price|average_rating|brand|            category|          crawled_at|         description|discount|              images|out_of_stock|             pid|     product_details|           seller|selling_price|sub_category|               title|                 url|\n+--------------------+------------+--------------+-----+--------------------+--------------------+--------------------+--------+--------------------+------------+----------------+--------------------+-----------------+-------------+------------+--------------------+--------------------+\n|fa8e22d6-c0b6-522...|       2,999|           3.9| York|Clothing and Acce...|02/10/2021, 20:11:51|Yorker trackpants...| 69% off|[https://rukminim...|       false|TKPFCZ9EA7H5FYZH|[{NULL, NULL, NUL...|Shyam Enterprises|          921|  Bottomwear|Solid Men Multico...|https://www.flipk...|\n|893e6980-f2a0-531...|       1,499|           3.9| York|Clothing and Acce...|02/10/2021, 20:11:52|Yorker trackpants...| 66% off|[https://rukminim...|       false|TKPFCZ9EJZV2UVRZ|[{NULL, NULL, NUL...|Shyam Enterprises|          499|  Bottomwear|Solid Men Blue Tr...|https://www.flipk...|\n|eb4c8eab-8206-59d...|       2,999|           3.9| York|Clothing and Acce...|02/10/2021, 20:11:52|Yorker trackpants...| 68% off|[https://rukminim...|       false|TKPFCZ9EHFCY5Z4Y|[{NULL, NULL, NUL...|Shyam Enterprises|          931|  Bottomwear|Solid Men Multico...|https://www.flipk...|\n|3f3f97bb-5faf-57d...|       2,999|           3.9| York|Clothing and Acce...|02/10/2021, 20:11:53|Yorker trackpants...| 69% off|[https://rukminim...|       false|TKPFCZ9ESZZ7YWEF|[{NULL, NULL, NUL...|Shyam Enterprises|          911|  Bottomwear|Solid Men Multico...|https://www.flipk...|\n|750caa3d-6264-53c...|       2,999|           3.9| York|Clothing and Acce...|02/10/2021, 20:11:53|Yorker trackpants...| 68% off|[https://rukminim...|       false|TKPFCZ9EVXKBSUD7|[{NULL, NULL, NUL...|Shyam Enterprises|          943|  Bottomwear|Solid Men Brown, ...|https://www.flipk...|\n|9af4ac75-230b-5d5...|       4,499|           3.8| York|Clothing and Acce...|02/10/2021, 20:11:54|Yorker trackpants...| 74% off|[https://rukminim...|       false|TKPFCZ9EFK9DNWDA|[{NULL, NULL, NUL...|Shyam Enterprises|        1,169|  Bottomwear|Solid Men Multico...|https://www.flipk...|\n|1b1d40cc-4eaa-54c...|       1,499|           3.8| York|Clothing and Acce...|02/10/2021, 20:11:54|Yorker trackpants...| 68% off|[https://rukminim...|       false|TKPFDABN3GXYPFHE|[{NULL, NULL, NUL...|Shyam Enterprises|          466|  Bottomwear|Solid Men Dark Bl...|https://www.flipk...|\n|a33cf2e2-c5e4-5f0...|       1,499|           3.8| York|Clothing and Acce...|02/10/2021, 20:11:55|Yorker trackpants...| 63% off|[https://rukminim...|       false|TKPFCZ9ESGZYT8NH|[{NULL, NULL, NUL...|Shyam Enterprises|          545|  Bottomwear|Solid Men Beige T...|https://www.flipk...|\n|ab4f0cca-6a84-51e...|       1,499|           3.8| York|Clothing and Acce...|02/10/2021, 20:11:55|Yorker trackpants...| 67% off|[https://rukminim...|       false|TKPFCZ9DYU33FFXS|[{NULL, NULL, NUL...|Shyam Enterprises|          489|  Bottomwear|Solid Men Black T...|https://www.flipk...|\n|f8a91e89-c5db-5fa...|       1,499|           3.7| York|Clothing and Acce...|02/10/2021, 20:11:56|Yorker trackpants...| 64% off|[https://rukminim...|       false|TKPFDABN4NQFVKZY|[{NULL, NULL, NUL...|Shyam Enterprises|          531|  Bottomwear|Solid Men Grey Tr...|https://www.flipk...|\n|002b976d-e1b3-500...|       4,499|           3.8| York|Clothing and Acce...|02/10/2021, 20:11:56|Yorker trackpants...| 76% off|[https://rukminim...|       false|TKPFCZ9ENWGMX23W|[{NULL, NULL, NUL...|Shyam Enterprises|        1,074|  Bottomwear|Checkered Men Blu...|https://www.flipk...|\n|1259d286-33b5-5ba...|       1,800|           3.3| York|Clothing and Acce...|02/10/2021, 20:11:57|                    | 49% off|[https://rukminim...|       false|TKPFZFSHHACG3FHC|[{NULL, NULL, NUL...|Shyam Enterprises|          911|  Bottomwear|Solid Men Multico...|https://www.flipk...|\n|79ed89b0-1e6e-592...|       1,800|           3.3| York|Clothing and Acce...|02/10/2021, 20:11:57|                    | 49% off|[https://rukminim...|       false|TKPFZFSHQPDRGZTM|[{NULL, NULL, NUL...|Shyam Enterprises|          911|  Bottomwear|Solid Men Multico...|https://www.flipk...|\n|798fb84a-9a86-5fa...|       2,700|           3.3| York|Clothing and Acce...|02/10/2021, 20:11:58|                    | 61% off|[https://rukminim...|       false|TKPFZ4YTRF3ZRTTH|[{NULL, NULL, NUL...|Shyam Enterprises|        1,042|  Bottomwear|Self Design Men M...|https://www.flipk...|\n|f764aca2-e9c4-5f1...|       2,700|           3.3| York|Clothing and Acce...|02/10/2021, 20:11:58|                    | 61% off|[https://rukminim...|       false|TKPFZ4YTJZWBFYFZ|[{NULL, NULL, NUL...|Shyam Enterprises|        1,043|  Bottomwear|Self Design Men M...|https://www.flipk...|\n|05301848-4de8-50f...|       1,800|           3.3| York|Clothing and Acce...|02/10/2021, 20:11:59|                    | 48% off|[https://rukminim...|       false|TKPFZFSH3F9ZA7C6|[{NULL, NULL, NUL...|Shyam Enterprises|          921|  Bottomwear|Solid Men Multico...|https://www.flipk...|\n|6b303174-c28d-56a...|       2,700|           3.3| York|Clothing and Acce...|02/10/2021, 20:11:59|                    | 61% off|[https://rukminim...|       false|TKPFZ4YT7ZNYXG27|[{NULL, NULL, NUL...|Shyam Enterprises|        1,046|  Bottomwear|Self Design Men M...|https://www.flipk...|\n|420f2354-2c8e-55b...|       2,700|           3.3| York|Clothing and Acce...|02/10/2021, 20:12:00|                    | 61% off|[https://rukminim...|       false|TKPFZ4YTGNZJDZDU|[{NULL, NULL, NUL...|Shyam Enterprises|        1,044|  Bottomwear|Self Design Men M...|https://www.flipk...|\n|c8f15cb0-3465-5cb...|       2,700|           3.3| York|Clothing and Acce...|02/10/2021, 20:12:00|                    | 61% off|[https://rukminim...|       false|TKPFZ4YTX94CY9JX|[{NULL, NULL, NUL...|Shyam Enterprises|        1,039|  Bottomwear|Self Design Men M...|https://www.flipk...|\n|2cc3eb4c-42b5-5bc...|       2,999|           3.9| York|Clothing and Acce...|02/10/2021, 20:12:01|Yorker trackpants...| 69% off|[https://rukminim...|       false|TKPFCZ9EHCNAPKPU|[{NULL, NULL, NUL...|Shyam Enterprises|          921|  Bottomwear|Solid Men Multico...|https://www.flipk...|\n+--------------------+------------+--------------+-----+--------------------+--------------------+--------------------+--------+--------------------+------------+----------------+--------------------+-----------------+-------------+------------+--------------------+--------------------+\nonly showing top 20 rows\n\n"
     ]
    }
   ],
   "source": [
    "%python\n",
    "df = spark.read.json(sc.wholeTextFiles(\"/mnt/datalake/example/flipkart_fashion_products_dataset.json\").values())\n",
    "df.show()\n"
   ]
  },
  {
   "cell_type": "markdown",
   "metadata": {
    "application/vnd.databricks.v1+cell": {
     "cellMetadata": {},
     "inputWidgets": {},
     "nuid": "82067a16-fb36-49b8-809b-7fffd1eae6a8",
     "showTitle": false,
     "title": ""
    }
   },
   "source": [
    "## Calculate Top 10 Brands with the Highest Product Offerings"
   ]
  },
  {
   "cell_type": "code",
   "execution_count": 0,
   "metadata": {
    "application/vnd.databricks.v1+cell": {
     "cellMetadata": {
      "byteLimit": 2048000,
      "rowLimit": 10000
     },
     "inputWidgets": {},
     "nuid": "f57794ee-e0fc-4463-807e-011636c9774e",
     "showTitle": false,
     "title": ""
    }
   },
   "outputs": [
    {
     "output_type": "stream",
     "name": "stdout",
     "output_type": "stream",
     "text": [
      "root\n |-- _id: string (nullable = true)\n |-- actual_price: string (nullable = true)\n |-- average_rating: string (nullable = true)\n |-- brand: string (nullable = true)\n |-- category: string (nullable = true)\n |-- crawled_at: string (nullable = true)\n |-- description: string (nullable = true)\n |-- discount: string (nullable = true)\n |-- images: array (nullable = true)\n |    |-- element: string (containsNull = true)\n |-- out_of_stock: boolean (nullable = true)\n |-- pid: string (nullable = true)\n |-- product_details: array (nullable = true)\n |    |-- element: struct (containsNull = true)\n |    |    |--  : string (nullable = true)\n |    |    |-- Alteration Required: string (nullable = true)\n |    |    |-- Animal Source: string (nullable = true)\n |    |    |-- Belt Loops: string (nullable = true)\n |    |    |-- Bottom Fabric: string (nullable = true)\n |    |    |-- Bottom Length: string (nullable = true)\n |    |    |-- Bottom Type: string (nullable = true)\n |    |    |-- Brand: string (nullable = true)\n |    |    |-- Brand Color: string (nullable = true)\n |    |    |-- Brand Fit: string (nullable = true)\n |    |    |-- Bust in inch: string (nullable = true)\n |    |    |-- Care Instructions: string (nullable = true)\n |    |    |-- Care instructions: string (nullable = true)\n |    |    |-- Character: string (nullable = true)\n |    |    |-- Clasp Material: string (nullable = true)\n |    |    |-- Clasp Type: string (nullable = true)\n |    |    |-- Closure: string (nullable = true)\n |    |    |-- Coat Type: string (nullable = true)\n |    |    |-- Collar: string (nullable = true)\n |    |    |-- Color: string (nullable = true)\n |    |    |-- Country of Origin: string (nullable = true)\n |    |    |-- Covered in Warranty: string (nullable = true)\n |    |    |-- Cuff: string (nullable = true)\n |    |    |-- Depth: string (nullable = true)\n |    |    |-- Design: string (nullable = true)\n |    |    |-- Distressed: string (nullable = true)\n |    |    |-- Domestic Warranty: string (nullable = true)\n |    |    |-- Dupatta Length: string (nullable = true)\n |    |    |-- Fabric: string (nullable = true)\n |    |    |-- Fabric Care: string (nullable = true)\n |    |    |-- Fabric Details: string (nullable = true)\n |    |    |-- Fabric care: string (nullable = true)\n |    |    |-- Faded: string (nullable = true)\n |    |    |-- Fastener: string (nullable = true)\n |    |    |-- Fit: string (nullable = true)\n |    |    |-- Fly: string (nullable = true)\n |    |    |-- Foot Coverage: string (nullable = true)\n |    |    |-- Generic Name: string (nullable = true)\n |    |    |-- Heel Pattern: string (nullable = true)\n |    |    |-- Height: string (nullable = true)\n |    |    |-- Hem: string (nullable = true)\n |    |    |-- Hip in inch: string (nullable = true)\n |    |    |-- Hooded: string (nullable = true)\n |    |    |-- Ideal For: string (nullable = true)\n |    |    |-- Inner Material: string (nullable = true)\n |    |    |-- Inseam Length: string (nullable = true)\n |    |    |-- Inside Leg in inch: string (nullable = true)\n |    |    |-- International Warranty: string (nullable = true)\n |    |    |-- Knit Type: string (nullable = true)\n |    |    |-- Leather Type: string (nullable = true)\n |    |    |-- Length: string (nullable = true)\n |    |    |-- Length Type: string (nullable = true)\n |    |    |-- Length in inch: string (nullable = true)\n |    |    |-- Lining: string (nullable = true)\n |    |    |-- Lining Material: string (nullable = true)\n |    |    |-- Material: string (nullable = true)\n |    |    |-- Maximum Age: string (nullable = true)\n |    |    |-- Minimum Age: string (nullable = true)\n |    |    |-- Model Details: string (nullable = true)\n |    |    |-- Model Name: string (nullable = true)\n |    |    |-- Model Number: string (nullable = true)\n |    |    |-- Neck: string (nullable = true)\n |    |    |-- Neck Type: string (nullable = true)\n |    |    |-- Not Covered in Warranty: string (nullable = true)\n |    |    |-- Number of Contents in Sales Package: string (nullable = true)\n |    |    |-- Occasion: string (nullable = true)\n |    |    |-- Other Details: string (nullable = true)\n |    |    |-- Other Dimensions: string (nullable = true)\n |    |    |-- Other Features: string (nullable = true)\n |    |    |-- Outer Material: string (nullable = true)\n |    |    |-- Pack Of: string (nullable = true)\n |    |    |-- Pack of: string (nullable = true)\n |    |    |-- Package contains: string (nullable = true)\n |    |    |-- Pattern: string (nullable = true)\n |    |    |-- Placket: string (nullable = true)\n |    |    |-- Pleated: string (nullable = true)\n |    |    |-- Pleats: string (nullable = true)\n |    |    |-- Pocket Type: string (nullable = true)\n |    |    |-- Pockets: string (nullable = true)\n |    |    |-- Region: string (nullable = true)\n |    |    |-- Reversible: string (nullable = true)\n |    |    |-- Rise: string (nullable = true)\n |    |    |-- Rise in inch: string (nullable = true)\n |    |    |-- Sales Package: string (nullable = true)\n |    |    |-- School Shoe: string (nullable = true)\n |    |    |-- Season: string (nullable = true)\n |    |    |-- Secondary Color: string (nullable = true)\n |    |    |-- Series: string (nullable = true)\n |    |    |-- Shade: string (nullable = true)\n |    |    |-- Shoe Length: string (nullable = true)\n |    |    |-- Shoulder in inch: string (nullable = true)\n |    |    |-- Size: string (nullable = true)\n |    |    |-- Sleeve: string (nullable = true)\n |    |    |-- Sleeve Type: string (nullable = true)\n |    |    |-- Sleeve in inch: string (nullable = true)\n |    |    |-- Sole Material: string (nullable = true)\n |    |    |-- Speciality Footwear: string (nullable = true)\n |    |    |-- Stitching Type: string (nullable = true)\n |    |    |-- Strap Material: string (nullable = true)\n |    |    |-- Stretchable: string (nullable = true)\n |    |    |-- Style: string (nullable = true)\n |    |    |-- Style Code: string (nullable = true)\n |    |    |-- Suitable For: string (nullable = true)\n |    |    |-- Tanning Process: string (nullable = true)\n |    |    |-- Technology Used: string (nullable = true)\n |    |    |-- Thigh in inch: string (nullable = true)\n |    |    |-- Thumb Hole: string (nullable = true)\n |    |    |-- Tip Shape: string (nullable = true)\n |    |    |-- Top Closure: string (nullable = true)\n |    |    |-- Top Fabric: string (nullable = true)\n |    |    |-- Top Length: string (nullable = true)\n |    |    |-- Top Type: string (nullable = true)\n |    |    |-- Type: string (nullable = true)\n |    |    |-- Type for Flats: string (nullable = true)\n |    |    |-- Upper Pattern: string (nullable = true)\n |    |    |-- Vents: string (nullable = true)\n |    |    |-- Waist in inch: string (nullable = true)\n |    |    |-- Waistband: string (nullable = true)\n |    |    |-- Warranty Service Type: string (nullable = true)\n |    |    |-- Warranty Summary: string (nullable = true)\n |    |    |-- Weave Type: string (nullable = true)\n |    |    |-- Weave type: string (nullable = true)\n |    |    |-- Weight: string (nullable = true)\n |    |    |-- Width: string (nullable = true)\n |    |    |-- Width at Base: string (nullable = true)\n |    |    |-- Width in inch: string (nullable = true)\n |-- seller: string (nullable = true)\n |-- selling_price: string (nullable = true)\n |-- sub_category: string (nullable = true)\n |-- title: string (nullable = true)\n |-- url: string (nullable = true)\n\n"
     ]
    }
   ],
   "source": [
    "df.printSchema()"
   ]
  },
  {
   "cell_type": "code",
   "execution_count": 0,
   "metadata": {
    "application/vnd.databricks.v1+cell": {
     "cellMetadata": {
      "byteLimit": 2048000,
      "rowLimit": 10000
     },
     "inputWidgets": {},
     "nuid": "df9c3e18-26c7-4cc1-b08b-32cb6a9fc3fb",
     "showTitle": false,
     "title": ""
    }
   },
   "outputs": [],
   "source": [
    "from pyspark.sql.functions import col"
   ]
  },
  {
   "cell_type": "code",
   "execution_count": 0,
   "metadata": {
    "application/vnd.databricks.v1+cell": {
     "cellMetadata": {
      "byteLimit": 2048000,
      "rowLimit": 10000
     },
     "inputWidgets": {},
     "nuid": "ef52d50a-13e3-4458-a44c-cdd57746643c",
     "showTitle": false,
     "title": ""
    }
   },
   "outputs": [],
   "source": [
    "filter_df =df.filter(col(\"brand\").isNotNull() & (col(\"brand\") != \"\"))"
   ]
  },
  {
   "cell_type": "code",
   "execution_count": 0,
   "metadata": {
    "application/vnd.databricks.v1+cell": {
     "cellMetadata": {
      "byteLimit": 2048000,
      "rowLimit": 10000
     },
     "inputWidgets": {},
     "nuid": "fe31a300-1ff0-4516-bf2c-7c7aae55b66a",
     "showTitle": false,
     "title": ""
    }
   },
   "outputs": [
    {
     "output_type": "stream",
     "name": "stdout",
     "output_type": "stream",
     "text": [
      "+--------------------+------------+--------------+-----+--------------------+--------------------+--------------------+--------+--------------------+------------+----------------+--------------------+-----------------+-------------+------------+--------------------+--------------------+\n|                 _id|actual_price|average_rating|brand|            category|          crawled_at|         description|discount|              images|out_of_stock|             pid|     product_details|           seller|selling_price|sub_category|               title|                 url|\n+--------------------+------------+--------------+-----+--------------------+--------------------+--------------------+--------+--------------------+------------+----------------+--------------------+-----------------+-------------+------------+--------------------+--------------------+\n|fa8e22d6-c0b6-522...|       2,999|           3.9| York|Clothing and Acce...|02/10/2021, 20:11:51|Yorker trackpants...| 69% off|[https://rukminim...|       false|TKPFCZ9EA7H5FYZH|[{NULL, NULL, NUL...|Shyam Enterprises|          921|  Bottomwear|Solid Men Multico...|https://www.flipk...|\n|893e6980-f2a0-531...|       1,499|           3.9| York|Clothing and Acce...|02/10/2021, 20:11:52|Yorker trackpants...| 66% off|[https://rukminim...|       false|TKPFCZ9EJZV2UVRZ|[{NULL, NULL, NUL...|Shyam Enterprises|          499|  Bottomwear|Solid Men Blue Tr...|https://www.flipk...|\n|eb4c8eab-8206-59d...|       2,999|           3.9| York|Clothing and Acce...|02/10/2021, 20:11:52|Yorker trackpants...| 68% off|[https://rukminim...|       false|TKPFCZ9EHFCY5Z4Y|[{NULL, NULL, NUL...|Shyam Enterprises|          931|  Bottomwear|Solid Men Multico...|https://www.flipk...|\n|3f3f97bb-5faf-57d...|       2,999|           3.9| York|Clothing and Acce...|02/10/2021, 20:11:53|Yorker trackpants...| 69% off|[https://rukminim...|       false|TKPFCZ9ESZZ7YWEF|[{NULL, NULL, NUL...|Shyam Enterprises|          911|  Bottomwear|Solid Men Multico...|https://www.flipk...|\n|750caa3d-6264-53c...|       2,999|           3.9| York|Clothing and Acce...|02/10/2021, 20:11:53|Yorker trackpants...| 68% off|[https://rukminim...|       false|TKPFCZ9EVXKBSUD7|[{NULL, NULL, NUL...|Shyam Enterprises|          943|  Bottomwear|Solid Men Brown, ...|https://www.flipk...|\n|9af4ac75-230b-5d5...|       4,499|           3.8| York|Clothing and Acce...|02/10/2021, 20:11:54|Yorker trackpants...| 74% off|[https://rukminim...|       false|TKPFCZ9EFK9DNWDA|[{NULL, NULL, NUL...|Shyam Enterprises|        1,169|  Bottomwear|Solid Men Multico...|https://www.flipk...|\n|1b1d40cc-4eaa-54c...|       1,499|           3.8| York|Clothing and Acce...|02/10/2021, 20:11:54|Yorker trackpants...| 68% off|[https://rukminim...|       false|TKPFDABN3GXYPFHE|[{NULL, NULL, NUL...|Shyam Enterprises|          466|  Bottomwear|Solid Men Dark Bl...|https://www.flipk...|\n|a33cf2e2-c5e4-5f0...|       1,499|           3.8| York|Clothing and Acce...|02/10/2021, 20:11:55|Yorker trackpants...| 63% off|[https://rukminim...|       false|TKPFCZ9ESGZYT8NH|[{NULL, NULL, NUL...|Shyam Enterprises|          545|  Bottomwear|Solid Men Beige T...|https://www.flipk...|\n|ab4f0cca-6a84-51e...|       1,499|           3.8| York|Clothing and Acce...|02/10/2021, 20:11:55|Yorker trackpants...| 67% off|[https://rukminim...|       false|TKPFCZ9DYU33FFXS|[{NULL, NULL, NUL...|Shyam Enterprises|          489|  Bottomwear|Solid Men Black T...|https://www.flipk...|\n|f8a91e89-c5db-5fa...|       1,499|           3.7| York|Clothing and Acce...|02/10/2021, 20:11:56|Yorker trackpants...| 64% off|[https://rukminim...|       false|TKPFDABN4NQFVKZY|[{NULL, NULL, NUL...|Shyam Enterprises|          531|  Bottomwear|Solid Men Grey Tr...|https://www.flipk...|\n+--------------------+------------+--------------+-----+--------------------+--------------------+--------------------+--------+--------------------+------------+----------------+--------------------+-----------------+-------------+------------+--------------------+--------------------+\n\n"
     ]
    }
   ],
   "source": [
    "filter_df.limit(10).show()"
   ]
  },
  {
   "cell_type": "code",
   "execution_count": 0,
   "metadata": {
    "application/vnd.databricks.v1+cell": {
     "cellMetadata": {
      "byteLimit": 2048000,
      "rowLimit": 10000
     },
     "inputWidgets": {},
     "nuid": "50d26041-74cd-463f-bbcc-6a4250e5bbcf",
     "showTitle": false,
     "title": ""
    }
   },
   "outputs": [
    {
     "output_type": "stream",
     "name": "stdout",
     "output_type": "stream",
     "text": [
      "+--------------------+-----+\n|               brand|count|\n+--------------------+-----+\n|                   K|   46|\n|            T10 Spor|  285|\n|                 fas|    5|\n|                MILD|    9|\n|            ECKO Unl|  993|\n|    ertugrul ghazi c|   26|\n|SATDEVANGIKHADIBHAND|  200|\n|veerutess landing...|   14|\n|          Marca Disa|  444|\n|            Uber Urb|  223|\n|              Aeload|    4|\n|              SOXCRA|    1|\n|          fashion mu|    2|\n|            A J STYL|   91|\n|      Jagdish Garmen|  157|\n|               LIVST|   22|\n|           Modest Ci|    1|\n|             FITLETH|    1|\n|                ALMO|   15|\n|                  Pu|  996|\n+--------------------+-----+\nonly showing top 20 rows\n\n"
     ]
    }
   ],
   "source": [
    "# calculate the total number of brands \n",
    "brand_count = filter_df.groupBy(\"brand\").count()\n",
    "brand_count.show()"
   ]
  },
  {
   "cell_type": "code",
   "execution_count": 0,
   "metadata": {
    "application/vnd.databricks.v1+cell": {
     "cellMetadata": {
      "byteLimit": 2048000,
      "rowLimit": 10000
     },
     "inputWidgets": {},
     "nuid": "dcbc259a-ef81-4bcc-b2b9-047b9e6309a3",
     "showTitle": false,
     "title": ""
    }
   },
   "outputs": [
    {
     "output_type": "stream",
     "name": "stdout",
     "output_type": "stream",
     "text": [
      "+------------+-----+\n|       brand|count|\n+------------+-----+\n|        ARBO|  999|\n|          Pu|  996|\n|        REEB|  996|\n|     True Bl|  996|\n|    ECKO Unl|  993|\n|Free Authori|  864|\n|         Keo|  668|\n|         Amp|  621|\n|  Black Beat|  560|\n|        PixF|  528|\n+------------+-----+\n\n"
     ]
    }
   ],
   "source": [
    "# Top 10 brands with the most products\n",
    "brand_df = brand_count.sort(col(\"count\").desc()).limit(10)\n",
    "brand_df.show()"
   ]
  },
  {
   "cell_type": "code",
   "execution_count": 0,
   "metadata": {
    "application/vnd.databricks.v1+cell": {
     "cellMetadata": {
      "byteLimit": 2048000,
      "rowLimit": 10000
     },
     "inputWidgets": {},
     "nuid": "d72b2d4e-793d-40c2-bea6-a6f9d1eb5693",
     "showTitle": false,
     "title": ""
    }
   },
   "outputs": [],
   "source": [
    "brand_df.write.format(\"delta\").mode(\"overwrite\").save(\"/mnt/datalake/delta/brand_count\")"
   ]
  },
  {
   "cell_type": "code",
   "execution_count": 0,
   "metadata": {
    "application/vnd.databricks.v1+cell": {
     "cellMetadata": {
      "byteLimit": 2048000,
      "rowLimit": 10000
     },
     "inputWidgets": {},
     "nuid": "18d51a86-2906-4c05-9435-b9e46c2904bf",
     "showTitle": false,
     "title": ""
    }
   },
   "outputs": [
    {
     "output_type": "execute_result",
     "data": {
      "text/plain": [
       "[FileInfo(path='dbfs:/mnt/datalake/delta/brand_count/_delta_log/', name='_delta_log/', size=0, modificationTime=1697997388000),\n",
       " FileInfo(path='dbfs:/mnt/datalake/delta/brand_count/part-00000-0dfd9eea-02a9-49b0-a514-295309e63511.c000.snappy.parquet', name='part-00000-0dfd9eea-02a9-49b0-a514-295309e63511.c000.snappy.parquet', size=891, modificationTime=1697997393000)]"
      ]
     },
     "execution_count": 15,
     "metadata": {},
     "output_type": "execute_result"
    }
   ],
   "source": [
    "dbutils.fs.ls(\"/mnt/datalake/delta/brand_count\")"
   ]
  },
  {
   "cell_type": "code",
   "execution_count": 0,
   "metadata": {
    "application/vnd.databricks.v1+cell": {
     "cellMetadata": {
      "byteLimit": 2048000,
      "rowLimit": 10000
     },
     "inputWidgets": {},
     "nuid": "822869e2-7b9d-4cc0-ac63-76d27353fb72",
     "showTitle": false,
     "title": ""
    }
   },
   "outputs": [
    {
     "output_type": "stream",
     "name": "stdout",
     "output_type": "stream",
     "text": [
      "+------------+-----+\n|       brand|count|\n+------------+-----+\n|        ARBO|  999|\n|          Pu|  996|\n|        REEB|  996|\n|     True Bl|  996|\n|    ECKO Unl|  993|\n|Free Authori|  864|\n|         Keo|  668|\n|         Amp|  621|\n|  Black Beat|  560|\n|        PixF|  528|\n+------------+-----+\n\n"
     ]
    }
   ],
   "source": [
    "df_delta = spark.read.format(\"delta\").load(\"/mnt/datalake/delta/brand_count\").show()"
   ]
  },
  {
   "cell_type": "markdown",
   "metadata": {
    "application/vnd.databricks.v1+cell": {
     "cellMetadata": {},
     "inputWidgets": {},
     "nuid": "881dc6c4-d9fb-4085-a93b-ea3979531b36",
     "showTitle": false,
     "title": ""
    }
   },
   "source": [
    "## Average Product Rating Across Categories"
   ]
  },
  {
   "cell_type": "code",
   "execution_count": 0,
   "metadata": {
    "application/vnd.databricks.v1+cell": {
     "cellMetadata": {
      "byteLimit": 2048000,
      "rowLimit": 10000
     },
     "inputWidgets": {},
     "nuid": "75ca6a7a-b70e-41c2-b771-ad1de9023acf",
     "showTitle": false,
     "title": ""
    }
   },
   "outputs": [
    {
     "output_type": "stream",
     "name": "stdout",
     "output_type": "stream",
     "text": [
      "root\n |-- _id: string (nullable = true)\n |-- actual_price: string (nullable = true)\n |-- average_rating: string (nullable = true)\n |-- brand: string (nullable = true)\n |-- category: string (nullable = true)\n |-- crawled_at: string (nullable = true)\n |-- description: string (nullable = true)\n |-- discount: string (nullable = true)\n |-- images: array (nullable = true)\n |    |-- element: string (containsNull = true)\n |-- out_of_stock: boolean (nullable = true)\n |-- pid: string (nullable = true)\n |-- product_details: array (nullable = true)\n |    |-- element: struct (containsNull = true)\n |    |    |--  : string (nullable = true)\n |    |    |-- Alteration Required: string (nullable = true)\n |    |    |-- Animal Source: string (nullable = true)\n |    |    |-- Belt Loops: string (nullable = true)\n |    |    |-- Bottom Fabric: string (nullable = true)\n |    |    |-- Bottom Length: string (nullable = true)\n |    |    |-- Bottom Type: string (nullable = true)\n |    |    |-- Brand: string (nullable = true)\n |    |    |-- Brand Color: string (nullable = true)\n |    |    |-- Brand Fit: string (nullable = true)\n |    |    |-- Bust in inch: string (nullable = true)\n |    |    |-- Care Instructions: string (nullable = true)\n |    |    |-- Care instructions: string (nullable = true)\n |    |    |-- Character: string (nullable = true)\n |    |    |-- Clasp Material: string (nullable = true)\n |    |    |-- Clasp Type: string (nullable = true)\n |    |    |-- Closure: string (nullable = true)\n |    |    |-- Coat Type: string (nullable = true)\n |    |    |-- Collar: string (nullable = true)\n |    |    |-- Color: string (nullable = true)\n |    |    |-- Country of Origin: string (nullable = true)\n |    |    |-- Covered in Warranty: string (nullable = true)\n |    |    |-- Cuff: string (nullable = true)\n |    |    |-- Depth: string (nullable = true)\n |    |    |-- Design: string (nullable = true)\n |    |    |-- Distressed: string (nullable = true)\n |    |    |-- Domestic Warranty: string (nullable = true)\n |    |    |-- Dupatta Length: string (nullable = true)\n |    |    |-- Fabric: string (nullable = true)\n |    |    |-- Fabric Care: string (nullable = true)\n |    |    |-- Fabric Details: string (nullable = true)\n |    |    |-- Fabric care: string (nullable = true)\n |    |    |-- Faded: string (nullable = true)\n |    |    |-- Fastener: string (nullable = true)\n |    |    |-- Fit: string (nullable = true)\n |    |    |-- Fly: string (nullable = true)\n |    |    |-- Foot Coverage: string (nullable = true)\n |    |    |-- Generic Name: string (nullable = true)\n |    |    |-- Heel Pattern: string (nullable = true)\n |    |    |-- Height: string (nullable = true)\n |    |    |-- Hem: string (nullable = true)\n |    |    |-- Hip in inch: string (nullable = true)\n |    |    |-- Hooded: string (nullable = true)\n |    |    |-- Ideal For: string (nullable = true)\n |    |    |-- Inner Material: string (nullable = true)\n |    |    |-- Inseam Length: string (nullable = true)\n |    |    |-- Inside Leg in inch: string (nullable = true)\n |    |    |-- International Warranty: string (nullable = true)\n |    |    |-- Knit Type: string (nullable = true)\n |    |    |-- Leather Type: string (nullable = true)\n |    |    |-- Length: string (nullable = true)\n |    |    |-- Length Type: string (nullable = true)\n |    |    |-- Length in inch: string (nullable = true)\n |    |    |-- Lining: string (nullable = true)\n |    |    |-- Lining Material: string (nullable = true)\n |    |    |-- Material: string (nullable = true)\n |    |    |-- Maximum Age: string (nullable = true)\n |    |    |-- Minimum Age: string (nullable = true)\n |    |    |-- Model Details: string (nullable = true)\n |    |    |-- Model Name: string (nullable = true)\n |    |    |-- Model Number: string (nullable = true)\n |    |    |-- Neck: string (nullable = true)\n |    |    |-- Neck Type: string (nullable = true)\n |    |    |-- Not Covered in Warranty: string (nullable = true)\n |    |    |-- Number of Contents in Sales Package: string (nullable = true)\n |    |    |-- Occasion: string (nullable = true)\n |    |    |-- Other Details: string (nullable = true)\n |    |    |-- Other Dimensions: string (nullable = true)\n |    |    |-- Other Features: string (nullable = true)\n |    |    |-- Outer Material: string (nullable = true)\n |    |    |-- Pack Of: string (nullable = true)\n |    |    |-- Pack of: string (nullable = true)\n |    |    |-- Package contains: string (nullable = true)\n |    |    |-- Pattern: string (nullable = true)\n |    |    |-- Placket: string (nullable = true)\n |    |    |-- Pleated: string (nullable = true)\n |    |    |-- Pleats: string (nullable = true)\n |    |    |-- Pocket Type: string (nullable = true)\n |    |    |-- Pockets: string (nullable = true)\n |    |    |-- Region: string (nullable = true)\n |    |    |-- Reversible: string (nullable = true)\n |    |    |-- Rise: string (nullable = true)\n |    |    |-- Rise in inch: string (nullable = true)\n |    |    |-- Sales Package: string (nullable = true)\n |    |    |-- School Shoe: string (nullable = true)\n |    |    |-- Season: string (nullable = true)\n |    |    |-- Secondary Color: string (nullable = true)\n |    |    |-- Series: string (nullable = true)\n |    |    |-- Shade: string (nullable = true)\n |    |    |-- Shoe Length: string (nullable = true)\n |    |    |-- Shoulder in inch: string (nullable = true)\n |    |    |-- Size: string (nullable = true)\n |    |    |-- Sleeve: string (nullable = true)\n |    |    |-- Sleeve Type: string (nullable = true)\n |    |    |-- Sleeve in inch: string (nullable = true)\n |    |    |-- Sole Material: string (nullable = true)\n |    |    |-- Speciality Footwear: string (nullable = true)\n |    |    |-- Stitching Type: string (nullable = true)\n |    |    |-- Strap Material: string (nullable = true)\n |    |    |-- Stretchable: string (nullable = true)\n |    |    |-- Style: string (nullable = true)\n |    |    |-- Style Code: string (nullable = true)\n |    |    |-- Suitable For: string (nullable = true)\n |    |    |-- Tanning Process: string (nullable = true)\n |    |    |-- Technology Used: string (nullable = true)\n |    |    |-- Thigh in inch: string (nullable = true)\n |    |    |-- Thumb Hole: string (nullable = true)\n |    |    |-- Tip Shape: string (nullable = true)\n |    |    |-- Top Closure: string (nullable = true)\n |    |    |-- Top Fabric: string (nullable = true)\n |    |    |-- Top Length: string (nullable = true)\n |    |    |-- Top Type: string (nullable = true)\n |    |    |-- Type: string (nullable = true)\n |    |    |-- Type for Flats: string (nullable = true)\n |    |    |-- Upper Pattern: string (nullable = true)\n |    |    |-- Vents: string (nullable = true)\n |    |    |-- Waist in inch: string (nullable = true)\n |    |    |-- Waistband: string (nullable = true)\n |    |    |-- Warranty Service Type: string (nullable = true)\n |    |    |-- Warranty Summary: string (nullable = true)\n |    |    |-- Weave Type: string (nullable = true)\n |    |    |-- Weave type: string (nullable = true)\n |    |    |-- Weight: string (nullable = true)\n |    |    |-- Width: string (nullable = true)\n |    |    |-- Width at Base: string (nullable = true)\n |    |    |-- Width in inch: string (nullable = true)\n |-- seller: string (nullable = true)\n |-- selling_price: string (nullable = true)\n |-- sub_category: string (nullable = true)\n |-- title: string (nullable = true)\n |-- url: string (nullable = true)\n\n"
     ]
    }
   ],
   "source": [
    "# calculate average category rating (CategoryAverageRating)\n",
    "df.printSchema()"
   ]
  },
  {
   "cell_type": "code",
   "execution_count": 0,
   "metadata": {
    "application/vnd.databricks.v1+cell": {
     "cellMetadata": {
      "byteLimit": 2048000,
      "rowLimit": 10000
     },
     "inputWidgets": {},
     "nuid": "8a51c3e4-e7cd-4454-a7b0-7de6e5b82c19",
     "showTitle": false,
     "title": ""
    }
   },
   "outputs": [
    {
     "output_type": "stream",
     "name": "stdout",
     "output_type": "stream",
     "text": [
      "+--------------------+--------------+\n|            category|average_rating|\n+--------------------+--------------+\n|Clothing and Acce...|           3.9|\n|Clothing and Acce...|           3.9|\n|Clothing and Acce...|           3.9|\n|Clothing and Acce...|           3.9|\n|Clothing and Acce...|           3.9|\n|Clothing and Acce...|           3.8|\n|Clothing and Acce...|           3.8|\n|Clothing and Acce...|           3.8|\n|Clothing and Acce...|           3.8|\n|Clothing and Acce...|           3.7|\n|Clothing and Acce...|           3.8|\n|Clothing and Acce...|           3.3|\n|Clothing and Acce...|           3.3|\n|Clothing and Acce...|           3.3|\n|Clothing and Acce...|           3.3|\n|Clothing and Acce...|           3.3|\n|Clothing and Acce...|           3.3|\n|Clothing and Acce...|           3.3|\n|Clothing and Acce...|           3.3|\n|Clothing and Acce...|           3.9|\n+--------------------+--------------+\nonly showing top 20 rows\n\n"
     ]
    }
   ],
   "source": [
    "average_category_rating = df.select(\"category\", \"average_rating\")\n",
    "average_category_rating.show()"
   ]
  },
  {
   "cell_type": "code",
   "execution_count": 0,
   "metadata": {
    "application/vnd.databricks.v1+cell": {
     "cellMetadata": {
      "byteLimit": 2048000,
      "rowLimit": 10000
     },
     "inputWidgets": {},
     "nuid": "9cf62858-bc48-421d-b622-bcce7157d2a1",
     "showTitle": false,
     "title": ""
    }
   },
   "outputs": [],
   "source": [
    "# convert the ratings column to float\n",
    "average_category_rating_df = average_category_rating.withColumn(\"average_rating\", col(\"average_rating\").cast(\"float\"))"
   ]
  },
  {
   "cell_type": "code",
   "execution_count": 0,
   "metadata": {
    "application/vnd.databricks.v1+cell": {
     "cellMetadata": {
      "byteLimit": 2048000,
      "rowLimit": 10000
     },
     "inputWidgets": {},
     "nuid": "ca184364-76ca-41e4-b377-7d143907d858",
     "showTitle": false,
     "title": ""
    }
   },
   "outputs": [
    {
     "output_type": "stream",
     "name": "stdout",
     "output_type": "stream",
     "text": [
      "root\n |-- category: string (nullable = true)\n |-- average_rating: float (nullable = true)\n\n"
     ]
    }
   ],
   "source": [
    "average_category_rating_df.printSchema()"
   ]
  },
  {
   "cell_type": "code",
   "execution_count": 0,
   "metadata": {
    "application/vnd.databricks.v1+cell": {
     "cellMetadata": {
      "byteLimit": 2048000,
      "rowLimit": 10000
     },
     "inputWidgets": {},
     "nuid": "e98d120f-e67e-428d-802e-ffe82c2a34a0",
     "showTitle": false,
     "title": ""
    }
   },
   "outputs": [],
   "source": [
    "from pyspark.sql.functions import col, avg, round\n",
    "result_df = average_category_rating_df.groupby(\"category\").agg(round(avg(\"average_rating\"), 2).alias(\"average_rating\"))"
   ]
  },
  {
   "cell_type": "code",
   "execution_count": 0,
   "metadata": {
    "application/vnd.databricks.v1+cell": {
     "cellMetadata": {
      "byteLimit": 2048000,
      "rowLimit": 10000
     },
     "inputWidgets": {},
     "nuid": "22aac53c-aeaf-43d3-b51b-aec8b2afba3a",
     "showTitle": false,
     "title": ""
    }
   },
   "outputs": [
    {
     "output_type": "stream",
     "name": "stdout",
     "output_type": "stream",
     "text": [
      "+--------------------+--------------+\n|            category|average_rating|\n+--------------------+--------------+\n|            Footwear|          3.88|\n|Bags, Wallets & B...|          4.13|\n|Clothing and Acce...|          3.63|\n|                Toys|           3.6|\n+--------------------+--------------+\n\n"
     ]
    }
   ],
   "source": [
    "result_df.show()"
   ]
  },
  {
   "cell_type": "code",
   "execution_count": 0,
   "metadata": {
    "application/vnd.databricks.v1+cell": {
     "cellMetadata": {
      "byteLimit": 2048000,
      "rowLimit": 10000
     },
     "inputWidgets": {},
     "nuid": "f9ce03fa-b2db-4346-90b7-9fddfe916519",
     "showTitle": false,
     "title": ""
    }
   },
   "outputs": [],
   "source": [
    "category_delta=result_df.write.format(\"delta\").mode(\"overwrite\").save(\"/mnt/datalake/delta/category_avg_rating\")"
   ]
  },
  {
   "cell_type": "code",
   "execution_count": 0,
   "metadata": {
    "application/vnd.databricks.v1+cell": {
     "cellMetadata": {
      "byteLimit": 2048000,
      "rowLimit": 10000
     },
     "inputWidgets": {},
     "nuid": "dd4427b1-095a-4d1d-90e3-146273636eef",
     "showTitle": false,
     "title": ""
    }
   },
   "outputs": [
    {
     "output_type": "stream",
     "name": "stdout",
     "output_type": "stream",
     "text": [
      "+--------------------+--------------+\n|            category|average_rating|\n+--------------------+--------------+\n|            Footwear|          3.88|\n|Bags, Wallets & B...|          4.13|\n|Clothing and Acce...|          3.63|\n|                Toys|           3.6|\n+--------------------+--------------+\n\n"
     ]
    }
   ],
   "source": [
    "spark.read.format(\"delta\").load(\"/mnt/datalake/delta/category_avg_rating\").show()"
   ]
  },
  {
   "cell_type": "code",
   "execution_count": 0,
   "metadata": {
    "application/vnd.databricks.v1+cell": {
     "cellMetadata": {
      "byteLimit": 2048000,
      "rowLimit": 10000
     },
     "inputWidgets": {},
     "nuid": "d63d9365-d7f9-4d77-8d2c-4735d3f115ef",
     "showTitle": false,
     "title": ""
    }
   },
   "outputs": [
    {
     "output_type": "display_data",
     "data": {
      "text/html": [
       "<style scoped>\n",
       "  .table-result-container {\n",
       "    max-height: 300px;\n",
       "    overflow: auto;\n",
       "  }\n",
       "  table, th, td {\n",
       "    border: 1px solid black;\n",
       "    border-collapse: collapse;\n",
       "  }\n",
       "  th, td {\n",
       "    padding: 5px;\n",
       "  }\n",
       "  th {\n",
       "    text-align: left;\n",
       "  }\n",
       "</style><div class='table-result-container'><table class='table-result'><thead style='background-color: white'><tr><th>path</th><th>name</th><th>size</th><th>modificationTime</th></tr></thead><tbody><tr><td>dbfs:/mnt/datalake/delta/brand_count/</td><td>brand_count/</td><td>0</td><td>1697997388000</td></tr><tr><td>dbfs:/mnt/datalake/delta/category_avg_rating/</td><td>category_avg_rating/</td><td>0</td><td>1697999208000</td></tr></tbody></table></div>"
      ]
     },
     "metadata": {
      "application/vnd.databricks.v1+output": {
       "addedWidgets": {},
       "aggData": [],
       "aggError": "",
       "aggOverflow": false,
       "aggSchema": [],
       "aggSeriesLimitReached": false,
       "aggType": "",
       "arguments": {},
       "columnCustomDisplayInfos": {},
       "data": [
        [
         "dbfs:/mnt/datalake/delta/brand_count/",
         "brand_count/",
         0,
         1697997388000
        ],
        [
         "dbfs:/mnt/datalake/delta/category_avg_rating/",
         "category_avg_rating/",
         0,
         1697999208000
        ]
       ],
       "datasetInfos": [],
       "dbfsResultPath": null,
       "isJsonSchema": true,
       "metadata": {
        "isDbfsCommandResult": false
       },
       "overflow": false,
       "plotOptions": {
        "customPlotOptions": {},
        "displayType": "table",
        "pivotAggregation": null,
        "pivotColumns": null,
        "xColumns": null,
        "yColumns": null
       },
       "removedWidgets": [],
       "schema": [
        {
         "metadata": "{}",
         "name": "path",
         "type": "\"string\""
        },
        {
         "metadata": "{}",
         "name": "name",
         "type": "\"string\""
        },
        {
         "metadata": "{}",
         "name": "size",
         "type": "\"long\""
        },
        {
         "metadata": "{}",
         "name": "modificationTime",
         "type": "\"long\""
        }
       ],
       "type": "table"
      }
     },
     "output_type": "display_data"
    }
   ],
   "source": [
    "%fs ls /mnt/datalake/delta"
   ]
  },
  {
   "cell_type": "markdown",
   "metadata": {
    "application/vnd.databricks.v1+cell": {
     "cellMetadata": {},
     "inputWidgets": {},
     "nuid": "ab80cfab-a32a-4db5-a488-3903f6b646cf",
     "showTitle": false,
     "title": ""
    }
   },
   "source": [
    "## Total Count of Products Utilizing specific Discounts"
   ]
  },
  {
   "cell_type": "code",
   "execution_count": 0,
   "metadata": {
    "application/vnd.databricks.v1+cell": {
     "cellMetadata": {
      "byteLimit": 2048000,
      "rowLimit": 10000
     },
     "inputWidgets": {},
     "nuid": "231f5a67-7261-446b-b5ea-32491cf1ae05",
     "showTitle": false,
     "title": ""
    }
   },
   "outputs": [
    {
     "output_type": "stream",
     "name": "stdout",
     "output_type": "stream",
     "text": [
      "root\n |-- _id: string (nullable = true)\n |-- actual_price: string (nullable = true)\n |-- average_rating: string (nullable = true)\n |-- brand: string (nullable = true)\n |-- category: string (nullable = true)\n |-- crawled_at: string (nullable = true)\n |-- description: string (nullable = true)\n |-- discount: string (nullable = true)\n |-- images: array (nullable = true)\n |    |-- element: string (containsNull = true)\n |-- out_of_stock: boolean (nullable = true)\n |-- pid: string (nullable = true)\n |-- product_details: array (nullable = true)\n |    |-- element: struct (containsNull = true)\n |    |    |--  : string (nullable = true)\n |    |    |-- Alteration Required: string (nullable = true)\n |    |    |-- Animal Source: string (nullable = true)\n |    |    |-- Belt Loops: string (nullable = true)\n |    |    |-- Bottom Fabric: string (nullable = true)\n |    |    |-- Bottom Length: string (nullable = true)\n |    |    |-- Bottom Type: string (nullable = true)\n |    |    |-- Brand: string (nullable = true)\n |    |    |-- Brand Color: string (nullable = true)\n |    |    |-- Brand Fit: string (nullable = true)\n |    |    |-- Bust in inch: string (nullable = true)\n |    |    |-- Care Instructions: string (nullable = true)\n |    |    |-- Care instructions: string (nullable = true)\n |    |    |-- Character: string (nullable = true)\n |    |    |-- Clasp Material: string (nullable = true)\n |    |    |-- Clasp Type: string (nullable = true)\n |    |    |-- Closure: string (nullable = true)\n |    |    |-- Coat Type: string (nullable = true)\n |    |    |-- Collar: string (nullable = true)\n |    |    |-- Color: string (nullable = true)\n |    |    |-- Country of Origin: string (nullable = true)\n |    |    |-- Covered in Warranty: string (nullable = true)\n |    |    |-- Cuff: string (nullable = true)\n |    |    |-- Depth: string (nullable = true)\n |    |    |-- Design: string (nullable = true)\n |    |    |-- Distressed: string (nullable = true)\n |    |    |-- Domestic Warranty: string (nullable = true)\n |    |    |-- Dupatta Length: string (nullable = true)\n |    |    |-- Fabric: string (nullable = true)\n |    |    |-- Fabric Care: string (nullable = true)\n |    |    |-- Fabric Details: string (nullable = true)\n |    |    |-- Fabric care: string (nullable = true)\n |    |    |-- Faded: string (nullable = true)\n |    |    |-- Fastener: string (nullable = true)\n |    |    |-- Fit: string (nullable = true)\n |    |    |-- Fly: string (nullable = true)\n |    |    |-- Foot Coverage: string (nullable = true)\n |    |    |-- Generic Name: string (nullable = true)\n |    |    |-- Heel Pattern: string (nullable = true)\n |    |    |-- Height: string (nullable = true)\n |    |    |-- Hem: string (nullable = true)\n |    |    |-- Hip in inch: string (nullable = true)\n |    |    |-- Hooded: string (nullable = true)\n |    |    |-- Ideal For: string (nullable = true)\n |    |    |-- Inner Material: string (nullable = true)\n |    |    |-- Inseam Length: string (nullable = true)\n |    |    |-- Inside Leg in inch: string (nullable = true)\n |    |    |-- International Warranty: string (nullable = true)\n |    |    |-- Knit Type: string (nullable = true)\n |    |    |-- Leather Type: string (nullable = true)\n |    |    |-- Length: string (nullable = true)\n |    |    |-- Length Type: string (nullable = true)\n |    |    |-- Length in inch: string (nullable = true)\n |    |    |-- Lining: string (nullable = true)\n |    |    |-- Lining Material: string (nullable = true)\n |    |    |-- Material: string (nullable = true)\n |    |    |-- Maximum Age: string (nullable = true)\n |    |    |-- Minimum Age: string (nullable = true)\n |    |    |-- Model Details: string (nullable = true)\n |    |    |-- Model Name: string (nullable = true)\n |    |    |-- Model Number: string (nullable = true)\n |    |    |-- Neck: string (nullable = true)\n |    |    |-- Neck Type: string (nullable = true)\n |    |    |-- Not Covered in Warranty: string (nullable = true)\n |    |    |-- Number of Contents in Sales Package: string (nullable = true)\n |    |    |-- Occasion: string (nullable = true)\n |    |    |-- Other Details: string (nullable = true)\n |    |    |-- Other Dimensions: string (nullable = true)\n |    |    |-- Other Features: string (nullable = true)\n |    |    |-- Outer Material: string (nullable = true)\n |    |    |-- Pack Of: string (nullable = true)\n |    |    |-- Pack of: string (nullable = true)\n |    |    |-- Package contains: string (nullable = true)\n |    |    |-- Pattern: string (nullable = true)\n |    |    |-- Placket: string (nullable = true)\n |    |    |-- Pleated: string (nullable = true)\n |    |    |-- Pleats: string (nullable = true)\n |    |    |-- Pocket Type: string (nullable = true)\n |    |    |-- Pockets: string (nullable = true)\n |    |    |-- Region: string (nullable = true)\n |    |    |-- Reversible: string (nullable = true)\n |    |    |-- Rise: string (nullable = true)\n |    |    |-- Rise in inch: string (nullable = true)\n |    |    |-- Sales Package: string (nullable = true)\n |    |    |-- School Shoe: string (nullable = true)\n |    |    |-- Season: string (nullable = true)\n |    |    |-- Secondary Color: string (nullable = true)\n |    |    |-- Series: string (nullable = true)\n |    |    |-- Shade: string (nullable = true)\n |    |    |-- Shoe Length: string (nullable = true)\n |    |    |-- Shoulder in inch: string (nullable = true)\n |    |    |-- Size: string (nullable = true)\n |    |    |-- Sleeve: string (nullable = true)\n |    |    |-- Sleeve Type: string (nullable = true)\n |    |    |-- Sleeve in inch: string (nullable = true)\n |    |    |-- Sole Material: string (nullable = true)\n |    |    |-- Speciality Footwear: string (nullable = true)\n |    |    |-- Stitching Type: string (nullable = true)\n |    |    |-- Strap Material: string (nullable = true)\n |    |    |-- Stretchable: string (nullable = true)\n |    |    |-- Style: string (nullable = true)\n |    |    |-- Style Code: string (nullable = true)\n |    |    |-- Suitable For: string (nullable = true)\n |    |    |-- Tanning Process: string (nullable = true)\n |    |    |-- Technology Used: string (nullable = true)\n |    |    |-- Thigh in inch: string (nullable = true)\n |    |    |-- Thumb Hole: string (nullable = true)\n |    |    |-- Tip Shape: string (nullable = true)\n |    |    |-- Top Closure: string (nullable = true)\n |    |    |-- Top Fabric: string (nullable = true)\n |    |    |-- Top Length: string (nullable = true)\n |    |    |-- Top Type: string (nullable = true)\n |    |    |-- Type: string (nullable = true)\n |    |    |-- Type for Flats: string (nullable = true)\n |    |    |-- Upper Pattern: string (nullable = true)\n |    |    |-- Vents: string (nullable = true)\n |    |    |-- Waist in inch: string (nullable = true)\n |    |    |-- Waistband: string (nullable = true)\n |    |    |-- Warranty Service Type: string (nullable = true)\n |    |    |-- Warranty Summary: string (nullable = true)\n |    |    |-- Weave Type: string (nullable = true)\n |    |    |-- Weave type: string (nullable = true)\n |    |    |-- Weight: string (nullable = true)\n |    |    |-- Width: string (nullable = true)\n |    |    |-- Width at Base: string (nullable = true)\n |    |    |-- Width in inch: string (nullable = true)\n |-- seller: string (nullable = true)\n |-- selling_price: string (nullable = true)\n |-- sub_category: string (nullable = true)\n |-- title: string (nullable = true)\n |-- url: string (nullable = true)\n\n"
     ]
    }
   ],
   "source": [
    "df.printSchema()"
   ]
  },
  {
   "cell_type": "code",
   "execution_count": 0,
   "metadata": {
    "application/vnd.databricks.v1+cell": {
     "cellMetadata": {
      "byteLimit": 2048000,
      "rowLimit": 10000
     },
     "inputWidgets": {},
     "nuid": "018b13cc-a210-457a-85f9-2c8bc2582ce0",
     "showTitle": false,
     "title": ""
    }
   },
   "outputs": [
    {
     "output_type": "stream",
     "name": "stdout",
     "output_type": "stream",
     "text": [
      "+--------------------+------------+--------------+-----+--------------------+--------------------+--------------------+--------+--------------------+------------+----------------+--------------------+-----------------+-------------+------------+--------------------+--------------------+\n|                 _id|actual_price|average_rating|brand|            category|          crawled_at|         description|discount|              images|out_of_stock|             pid|     product_details|           seller|selling_price|sub_category|               title|                 url|\n+--------------------+------------+--------------+-----+--------------------+--------------------+--------------------+--------+--------------------+------------+----------------+--------------------+-----------------+-------------+------------+--------------------+--------------------+\n|fa8e22d6-c0b6-522...|       2,999|           3.9| York|Clothing and Acce...|02/10/2021, 20:11:51|Yorker trackpants...| 69% off|[https://rukminim...|       false|TKPFCZ9EA7H5FYZH|[{NULL, NULL, NUL...|Shyam Enterprises|          921|  Bottomwear|Solid Men Multico...|https://www.flipk...|\n|893e6980-f2a0-531...|       1,499|           3.9| York|Clothing and Acce...|02/10/2021, 20:11:52|Yorker trackpants...| 66% off|[https://rukminim...|       false|TKPFCZ9EJZV2UVRZ|[{NULL, NULL, NUL...|Shyam Enterprises|          499|  Bottomwear|Solid Men Blue Tr...|https://www.flipk...|\n|eb4c8eab-8206-59d...|       2,999|           3.9| York|Clothing and Acce...|02/10/2021, 20:11:52|Yorker trackpants...| 68% off|[https://rukminim...|       false|TKPFCZ9EHFCY5Z4Y|[{NULL, NULL, NUL...|Shyam Enterprises|          931|  Bottomwear|Solid Men Multico...|https://www.flipk...|\n|3f3f97bb-5faf-57d...|       2,999|           3.9| York|Clothing and Acce...|02/10/2021, 20:11:53|Yorker trackpants...| 69% off|[https://rukminim...|       false|TKPFCZ9ESZZ7YWEF|[{NULL, NULL, NUL...|Shyam Enterprises|          911|  Bottomwear|Solid Men Multico...|https://www.flipk...|\n|750caa3d-6264-53c...|       2,999|           3.9| York|Clothing and Acce...|02/10/2021, 20:11:53|Yorker trackpants...| 68% off|[https://rukminim...|       false|TKPFCZ9EVXKBSUD7|[{NULL, NULL, NUL...|Shyam Enterprises|          943|  Bottomwear|Solid Men Brown, ...|https://www.flipk...|\n|9af4ac75-230b-5d5...|       4,499|           3.8| York|Clothing and Acce...|02/10/2021, 20:11:54|Yorker trackpants...| 74% off|[https://rukminim...|       false|TKPFCZ9EFK9DNWDA|[{NULL, NULL, NUL...|Shyam Enterprises|        1,169|  Bottomwear|Solid Men Multico...|https://www.flipk...|\n|1b1d40cc-4eaa-54c...|       1,499|           3.8| York|Clothing and Acce...|02/10/2021, 20:11:54|Yorker trackpants...| 68% off|[https://rukminim...|       false|TKPFDABN3GXYPFHE|[{NULL, NULL, NUL...|Shyam Enterprises|          466|  Bottomwear|Solid Men Dark Bl...|https://www.flipk...|\n|a33cf2e2-c5e4-5f0...|       1,499|           3.8| York|Clothing and Acce...|02/10/2021, 20:11:55|Yorker trackpants...| 63% off|[https://rukminim...|       false|TKPFCZ9ESGZYT8NH|[{NULL, NULL, NUL...|Shyam Enterprises|          545|  Bottomwear|Solid Men Beige T...|https://www.flipk...|\n|ab4f0cca-6a84-51e...|       1,499|           3.8| York|Clothing and Acce...|02/10/2021, 20:11:55|Yorker trackpants...| 67% off|[https://rukminim...|       false|TKPFCZ9DYU33FFXS|[{NULL, NULL, NUL...|Shyam Enterprises|          489|  Bottomwear|Solid Men Black T...|https://www.flipk...|\n|f8a91e89-c5db-5fa...|       1,499|           3.7| York|Clothing and Acce...|02/10/2021, 20:11:56|Yorker trackpants...| 64% off|[https://rukminim...|       false|TKPFDABN4NQFVKZY|[{NULL, NULL, NUL...|Shyam Enterprises|          531|  Bottomwear|Solid Men Grey Tr...|https://www.flipk...|\n|002b976d-e1b3-500...|       4,499|           3.8| York|Clothing and Acce...|02/10/2021, 20:11:56|Yorker trackpants...| 76% off|[https://rukminim...|       false|TKPFCZ9ENWGMX23W|[{NULL, NULL, NUL...|Shyam Enterprises|        1,074|  Bottomwear|Checkered Men Blu...|https://www.flipk...|\n|1259d286-33b5-5ba...|       1,800|           3.3| York|Clothing and Acce...|02/10/2021, 20:11:57|                    | 49% off|[https://rukminim...|       false|TKPFZFSHHACG3FHC|[{NULL, NULL, NUL...|Shyam Enterprises|          911|  Bottomwear|Solid Men Multico...|https://www.flipk...|\n|79ed89b0-1e6e-592...|       1,800|           3.3| York|Clothing and Acce...|02/10/2021, 20:11:57|                    | 49% off|[https://rukminim...|       false|TKPFZFSHQPDRGZTM|[{NULL, NULL, NUL...|Shyam Enterprises|          911|  Bottomwear|Solid Men Multico...|https://www.flipk...|\n|798fb84a-9a86-5fa...|       2,700|           3.3| York|Clothing and Acce...|02/10/2021, 20:11:58|                    | 61% off|[https://rukminim...|       false|TKPFZ4YTRF3ZRTTH|[{NULL, NULL, NUL...|Shyam Enterprises|        1,042|  Bottomwear|Self Design Men M...|https://www.flipk...|\n|f764aca2-e9c4-5f1...|       2,700|           3.3| York|Clothing and Acce...|02/10/2021, 20:11:58|                    | 61% off|[https://rukminim...|       false|TKPFZ4YTJZWBFYFZ|[{NULL, NULL, NUL...|Shyam Enterprises|        1,043|  Bottomwear|Self Design Men M...|https://www.flipk...|\n|05301848-4de8-50f...|       1,800|           3.3| York|Clothing and Acce...|02/10/2021, 20:11:59|                    | 48% off|[https://rukminim...|       false|TKPFZFSH3F9ZA7C6|[{NULL, NULL, NUL...|Shyam Enterprises|          921|  Bottomwear|Solid Men Multico...|https://www.flipk...|\n|6b303174-c28d-56a...|       2,700|           3.3| York|Clothing and Acce...|02/10/2021, 20:11:59|                    | 61% off|[https://rukminim...|       false|TKPFZ4YT7ZNYXG27|[{NULL, NULL, NUL...|Shyam Enterprises|        1,046|  Bottomwear|Self Design Men M...|https://www.flipk...|\n|420f2354-2c8e-55b...|       2,700|           3.3| York|Clothing and Acce...|02/10/2021, 20:12:00|                    | 61% off|[https://rukminim...|       false|TKPFZ4YTGNZJDZDU|[{NULL, NULL, NUL...|Shyam Enterprises|        1,044|  Bottomwear|Self Design Men M...|https://www.flipk...|\n|c8f15cb0-3465-5cb...|       2,700|           3.3| York|Clothing and Acce...|02/10/2021, 20:12:00|                    | 61% off|[https://rukminim...|       false|TKPFZ4YTX94CY9JX|[{NULL, NULL, NUL...|Shyam Enterprises|        1,039|  Bottomwear|Self Design Men M...|https://www.flipk...|\n|2cc3eb4c-42b5-5bc...|       2,999|           3.9| York|Clothing and Acce...|02/10/2021, 20:12:01|Yorker trackpants...| 69% off|[https://rukminim...|       false|TKPFCZ9EHCNAPKPU|[{NULL, NULL, NUL...|Shyam Enterprises|          921|  Bottomwear|Solid Men Multico...|https://www.flipk...|\n+--------------------+------------+--------------+-----+--------------------+--------------------+--------------------+--------+--------------------+------------+----------------+--------------------+-----------------+-------------+------------+--------------------+--------------------+\nonly showing top 20 rows\n\n"
     ]
    }
   ],
   "source": [
    "df_filter_id = df.filter(col(\"_id\").isNotNull() & (col(\"_id\") != \"\"))\n",
    "df_filter_id.show()\n"
   ]
  },
  {
   "cell_type": "code",
   "execution_count": 0,
   "metadata": {
    "application/vnd.databricks.v1+cell": {
     "cellMetadata": {
      "byteLimit": 2048000,
      "rowLimit": 10000
     },
     "inputWidgets": {},
     "nuid": "2419495b-a880-4664-9997-17edc4f4e583",
     "showTitle": false,
     "title": ""
    }
   },
   "outputs": [],
   "source": [
    "df_filter_id.createOrReplaceTempView(\"temp_table\")"
   ]
  },
  {
   "cell_type": "code",
   "execution_count": 0,
   "metadata": {
    "application/vnd.databricks.v1+cell": {
     "cellMetadata": {
      "byteLimit": 2048000,
      "rowLimit": 10000
     },
     "inputWidgets": {},
     "nuid": "5654c222-507d-437d-93ed-c8fd08f46d11",
     "showTitle": false,
     "title": ""
    }
   },
   "outputs": [
    {
     "output_type": "display_data",
     "data": {
      "text/html": [
       "<style scoped>\n",
       "  .ansiout {\n",
       "    display: block;\n",
       "    unicode-bidi: embed;\n",
       "    white-space: pre-wrap;\n",
       "    word-wrap: break-word;\n",
       "    word-break: break-all;\n",
       "    font-family: \"Source Code Pro\", \"Menlo\", monospace;;\n",
       "    font-size: 13px;\n",
       "    color: #555;\n",
       "    margin-left: 4px;\n",
       "    line-height: 19px;\n",
       "  }\n",
       "</style>\n",
       "<div class=\"ansiout\">+----------+-----+\n",
       "percentage|count|\n",
       "+----------+-----+\n",
       "        60| 2335|\n",
       "        50| 2164|\n",
       "        35| 1154|\n",
       "        63| 1017|\n",
       "        57|  888|\n",
       "        44|  817|\n",
       "        40|  805|\n",
       "        55|  804|\n",
       "        66|  795|\n",
       "        64|  787|\n",
       "        65|  768|\n",
       "        45|  736|\n",
       "        52|  710|\n",
       "        30|  701|\n",
       "        61|  683|\n",
       "        76|  594|\n",
       "        62|  555|\n",
       "        53|  516|\n",
       "        58|  490|\n",
       "        20|  490|\n",
       "+----------+-----+\n",
       "only showing top 20 rows\n",
       "\n",
       "import org.apache.spark.sql.functions._\n",
       "df: org.apache.spark.sql.DataFrame = [_id: string, actual_price: string ... 15 more fields]\n",
       "result_discount_df: org.apache.spark.sql.Dataset[org.apache.spark.sql.Row] = [percentage: int, count: bigint]\n",
       "</div>"
      ]
     },
     "metadata": {
      "application/vnd.databricks.v1+output": {
       "addedWidgets": {},
       "arguments": {},
       "data": "<div class=\"ansiout\">+----------+-----+\n|percentage|count|\n+----------+-----+\n|        60| 2335|\n|        50| 2164|\n|        35| 1154|\n|        63| 1017|\n|        57|  888|\n|        44|  817|\n|        40|  805|\n|        55|  804|\n|        66|  795|\n|        64|  787|\n|        65|  768|\n|        45|  736|\n|        52|  710|\n|        30|  701|\n|        61|  683|\n|        76|  594|\n|        62|  555|\n|        53|  516|\n|        58|  490|\n|        20|  490|\n+----------+-----+\nonly showing top 20 rows\n\nimport org.apache.spark.sql.functions._\ndf: org.apache.spark.sql.DataFrame = [_id: string, actual_price: string ... 15 more fields]\nresult_discount_df: org.apache.spark.sql.Dataset[org.apache.spark.sql.Row] = [percentage: int, count: bigint]\n</div>",
       "datasetInfos": [
        {
         "name": "df",
         "schema": {
          "fields": [
           {
            "metadata": {},
            "name": "_id",
            "nullable": true,
            "type": "string"
           },
           {
            "metadata": {},
            "name": "actual_price",
            "nullable": true,
            "type": "string"
           },
           {
            "metadata": {},
            "name": "average_rating",
            "nullable": true,
            "type": "string"
           },
           {
            "metadata": {},
            "name": "brand",
            "nullable": true,
            "type": "string"
           },
           {
            "metadata": {},
            "name": "category",
            "nullable": true,
            "type": "string"
           },
           {
            "metadata": {},
            "name": "crawled_at",
            "nullable": true,
            "type": "string"
           },
           {
            "metadata": {},
            "name": "description",
            "nullable": true,
            "type": "string"
           },
           {
            "metadata": {},
            "name": "discount",
            "nullable": true,
            "type": "string"
           },
           {
            "metadata": {},
            "name": "images",
            "nullable": true,
            "type": {
             "containsNull": true,
             "elementType": "string",
             "type": "array"
            }
           },
           {
            "metadata": {},
            "name": "out_of_stock",
            "nullable": true,
            "type": "boolean"
           },
           {
            "metadata": {},
            "name": "pid",
            "nullable": true,
            "type": "string"
           },
           {
            "metadata": {},
            "name": "product_details",
            "nullable": true,
            "type": {
             "containsNull": true,
             "elementType": {
              "fields": [
               {
                "metadata": {},
                "name": " ",
                "nullable": true,
                "type": "string"
               },
               {
                "metadata": {},
                "name": "Alteration Required",
                "nullable": true,
                "type": "string"
               },
               {
                "metadata": {},
                "name": "Animal Source",
                "nullable": true,
                "type": "string"
               },
               {
                "metadata": {},
                "name": "Belt Loops",
                "nullable": true,
                "type": "string"
               },
               {
                "metadata": {},
                "name": "Bottom Fabric",
                "nullable": true,
                "type": "string"
               },
               {
                "metadata": {},
                "name": "Bottom Length",
                "nullable": true,
                "type": "string"
               },
               {
                "metadata": {},
                "name": "Bottom Type",
                "nullable": true,
                "type": "string"
               },
               {
                "metadata": {},
                "name": "Brand",
                "nullable": true,
                "type": "string"
               },
               {
                "metadata": {},
                "name": "Brand Color",
                "nullable": true,
                "type": "string"
               },
               {
                "metadata": {},
                "name": "Brand Fit",
                "nullable": true,
                "type": "string"
               },
               {
                "metadata": {},
                "name": "Bust in inch",
                "nullable": true,
                "type": "string"
               },
               {
                "metadata": {},
                "name": "Care Instructions",
                "nullable": true,
                "type": "string"
               },
               {
                "metadata": {},
                "name": "Care instructions",
                "nullable": true,
                "type": "string"
               },
               {
                "metadata": {},
                "name": "Character",
                "nullable": true,
                "type": "string"
               },
               {
                "metadata": {},
                "name": "Clasp Material",
                "nullable": true,
                "type": "string"
               },
               {
                "metadata": {},
                "name": "Clasp Type",
                "nullable": true,
                "type": "string"
               },
               {
                "metadata": {},
                "name": "Closure",
                "nullable": true,
                "type": "string"
               },
               {
                "metadata": {},
                "name": "Coat Type",
                "nullable": true,
                "type": "string"
               },
               {
                "metadata": {},
                "name": "Collar",
                "nullable": true,
                "type": "string"
               },
               {
                "metadata": {},
                "name": "Color",
                "nullable": true,
                "type": "string"
               },
               {
                "metadata": {},
                "name": "Country of Origin",
                "nullable": true,
                "type": "string"
               },
               {
                "metadata": {},
                "name": "Covered in Warranty",
                "nullable": true,
                "type": "string"
               },
               {
                "metadata": {},
                "name": "Cuff",
                "nullable": true,
                "type": "string"
               },
               {
                "metadata": {},
                "name": "Depth",
                "nullable": true,
                "type": "string"
               },
               {
                "metadata": {},
                "name": "Design",
                "nullable": true,
                "type": "string"
               },
               {
                "metadata": {},
                "name": "Distressed",
                "nullable": true,
                "type": "string"
               },
               {
                "metadata": {},
                "name": "Domestic Warranty",
                "nullable": true,
                "type": "string"
               },
               {
                "metadata": {},
                "name": "Dupatta Length",
                "nullable": true,
                "type": "string"
               },
               {
                "metadata": {},
                "name": "Fabric",
                "nullable": true,
                "type": "string"
               },
               {
                "metadata": {},
                "name": "Fabric Care",
                "nullable": true,
                "type": "string"
               },
               {
                "metadata": {},
                "name": "Fabric Details",
                "nullable": true,
                "type": "string"
               },
               {
                "metadata": {},
                "name": "Fabric care",
                "nullable": true,
                "type": "string"
               },
               {
                "metadata": {},
                "name": "Faded",
                "nullable": true,
                "type": "string"
               },
               {
                "metadata": {},
                "name": "Fastener",
                "nullable": true,
                "type": "string"
               },
               {
                "metadata": {},
                "name": "Fit",
                "nullable": true,
                "type": "string"
               },
               {
                "metadata": {},
                "name": "Fly",
                "nullable": true,
                "type": "string"
               },
               {
                "metadata": {},
                "name": "Foot Coverage",
                "nullable": true,
                "type": "string"
               },
               {
                "metadata": {},
                "name": "Generic Name",
                "nullable": true,
                "type": "string"
               },
               {
                "metadata": {},
                "name": "Heel Pattern",
                "nullable": true,
                "type": "string"
               },
               {
                "metadata": {},
                "name": "Height",
                "nullable": true,
                "type": "string"
               },
               {
                "metadata": {},
                "name": "Hem",
                "nullable": true,
                "type": "string"
               },
               {
                "metadata": {},
                "name": "Hip in inch",
                "nullable": true,
                "type": "string"
               },
               {
                "metadata": {},
                "name": "Hooded",
                "nullable": true,
                "type": "string"
               },
               {
                "metadata": {},
                "name": "Ideal For",
                "nullable": true,
                "type": "string"
               },
               {
                "metadata": {},
                "name": "Inner Material",
                "nullable": true,
                "type": "string"
               },
               {
                "metadata": {},
                "name": "Inseam Length",
                "nullable": true,
                "type": "string"
               },
               {
                "metadata": {},
                "name": "Inside Leg in inch",
                "nullable": true,
                "type": "string"
               },
               {
                "metadata": {},
                "name": "International Warranty",
                "nullable": true,
                "type": "string"
               },
               {
                "metadata": {},
                "name": "Knit Type",
                "nullable": true,
                "type": "string"
               },
               {
                "metadata": {},
                "name": "Leather Type",
                "nullable": true,
                "type": "string"
               },
               {
                "metadata": {},
                "name": "Length",
                "nullable": true,
                "type": "string"
               },
               {
                "metadata": {},
                "name": "Length Type",
                "nullable": true,
                "type": "string"
               },
               {
                "metadata": {},
                "name": "Length in inch",
                "nullable": true,
                "type": "string"
               },
               {
                "metadata": {},
                "name": "Lining",
                "nullable": true,
                "type": "string"
               },
               {
                "metadata": {},
                "name": "Lining Material",
                "nullable": true,
                "type": "string"
               },
               {
                "metadata": {},
                "name": "Material",
                "nullable": true,
                "type": "string"
               },
               {
                "metadata": {},
                "name": "Maximum Age",
                "nullable": true,
                "type": "string"
               },
               {
                "metadata": {},
                "name": "Minimum Age",
                "nullable": true,
                "type": "string"
               },
               {
                "metadata": {},
                "name": "Model Details",
                "nullable": true,
                "type": "string"
               },
               {
                "metadata": {},
                "name": "Model Name",
                "nullable": true,
                "type": "string"
               },
               {
                "metadata": {},
                "name": "Model Number",
                "nullable": true,
                "type": "string"
               },
               {
                "metadata": {},
                "name": "Neck",
                "nullable": true,
                "type": "string"
               },
               {
                "metadata": {},
                "name": "Neck Type",
                "nullable": true,
                "type": "string"
               },
               {
                "metadata": {},
                "name": "Not Covered in Warranty",
                "nullable": true,
                "type": "string"
               },
               {
                "metadata": {},
                "name": "Number of Contents in Sales Package",
                "nullable": true,
                "type": "string"
               },
               {
                "metadata": {},
                "name": "Occasion",
                "nullable": true,
                "type": "string"
               },
               {
                "metadata": {},
                "name": "Other Details",
                "nullable": true,
                "type": "string"
               },
               {
                "metadata": {},
                "name": "Other Dimensions",
                "nullable": true,
                "type": "string"
               },
               {
                "metadata": {},
                "name": "Other Features",
                "nullable": true,
                "type": "string"
               },
               {
                "metadata": {},
                "name": "Outer Material",
                "nullable": true,
                "type": "string"
               },
               {
                "metadata": {},
                "name": "Pack Of",
                "nullable": true,
                "type": "string"
               },
               {
                "metadata": {},
                "name": "Pack of",
                "nullable": true,
                "type": "string"
               },
               {
                "metadata": {},
                "name": "Package contains",
                "nullable": true,
                "type": "string"
               },
               {
                "metadata": {},
                "name": "Pattern",
                "nullable": true,
                "type": "string"
               },
               {
                "metadata": {},
                "name": "Placket",
                "nullable": true,
                "type": "string"
               },
               {
                "metadata": {},
                "name": "Pleated",
                "nullable": true,
                "type": "string"
               },
               {
                "metadata": {},
                "name": "Pleats",
                "nullable": true,
                "type": "string"
               },
               {
                "metadata": {},
                "name": "Pocket Type",
                "nullable": true,
                "type": "string"
               },
               {
                "metadata": {},
                "name": "Pockets",
                "nullable": true,
                "type": "string"
               },
               {
                "metadata": {},
                "name": "Region",
                "nullable": true,
                "type": "string"
               },
               {
                "metadata": {},
                "name": "Reversible",
                "nullable": true,
                "type": "string"
               },
               {
                "metadata": {},
                "name": "Rise",
                "nullable": true,
                "type": "string"
               },
               {
                "metadata": {},
                "name": "Rise in inch",
                "nullable": true,
                "type": "string"
               },
               {
                "metadata": {},
                "name": "Sales Package",
                "nullable": true,
                "type": "string"
               },
               {
                "metadata": {},
                "name": "School Shoe",
                "nullable": true,
                "type": "string"
               },
               {
                "metadata": {},
                "name": "Season",
                "nullable": true,
                "type": "string"
               },
               {
                "metadata": {},
                "name": "Secondary Color",
                "nullable": true,
                "type": "string"
               },
               {
                "metadata": {},
                "name": "Series",
                "nullable": true,
                "type": "string"
               },
               {
                "metadata": {},
                "name": "Shade",
                "nullable": true,
                "type": "string"
               },
               {
                "metadata": {},
                "name": "Shoe Length",
                "nullable": true,
                "type": "string"
               },
               {
                "metadata": {},
                "name": "Shoulder in inch",
                "nullable": true,
                "type": "string"
               },
               {
                "metadata": {},
                "name": "Size",
                "nullable": true,
                "type": "string"
               },
               {
                "metadata": {},
                "name": "Sleeve",
                "nullable": true,
                "type": "string"
               },
               {
                "metadata": {},
                "name": "Sleeve Type",
                "nullable": true,
                "type": "string"
               },
               {
                "metadata": {},
                "name": "Sleeve in inch",
                "nullable": true,
                "type": "string"
               },
               {
                "metadata": {},
                "name": "Sole Material",
                "nullable": true,
                "type": "string"
               },
               {
                "metadata": {},
                "name": "Speciality Footwear",
                "nullable": true,
                "type": "string"
               },
               {
                "metadata": {},
                "name": "Stitching Type",
                "nullable": true,
                "type": "string"
               },
               {
                "metadata": {},
                "name": "Strap Material",
                "nullable": true,
                "type": "string"
               },
               {
                "metadata": {},
                "name": "Stretchable",
                "nullable": true,
                "type": "string"
               },
               {
                "metadata": {},
                "name": "Style",
                "nullable": true,
                "type": "string"
               },
               {
                "metadata": {},
                "name": "Style Code",
                "nullable": true,
                "type": "string"
               },
               {
                "metadata": {},
                "name": "Suitable For",
                "nullable": true,
                "type": "string"
               },
               {
                "metadata": {},
                "name": "Tanning Process",
                "nullable": true,
                "type": "string"
               },
               {
                "metadata": {},
                "name": "Technology Used",
                "nullable": true,
                "type": "string"
               },
               {
                "metadata": {},
                "name": "Thigh in inch",
                "nullable": true,
                "type": "string"
               },
               {
                "metadata": {},
                "name": "Thumb Hole",
                "nullable": true,
                "type": "string"
               },
               {
                "metadata": {},
                "name": "Tip Shape",
                "nullable": true,
                "type": "string"
               },
               {
                "metadata": {},
                "name": "Top Closure",
                "nullable": true,
                "type": "string"
               },
               {
                "metadata": {},
                "name": "Top Fabric",
                "nullable": true,
                "type": "string"
               },
               {
                "metadata": {},
                "name": "Top Length",
                "nullable": true,
                "type": "string"
               },
               {
                "metadata": {},
                "name": "Top Type",
                "nullable": true,
                "type": "string"
               },
               {
                "metadata": {},
                "name": "Type",
                "nullable": true,
                "type": "string"
               },
               {
                "metadata": {},
                "name": "Type for Flats",
                "nullable": true,
                "type": "string"
               },
               {
                "metadata": {},
                "name": "Upper Pattern",
                "nullable": true,
                "type": "string"
               },
               {
                "metadata": {},
                "name": "Vents",
                "nullable": true,
                "type": "string"
               },
               {
                "metadata": {},
                "name": "Waist in inch",
                "nullable": true,
                "type": "string"
               },
               {
                "metadata": {},
                "name": "Waistband",
                "nullable": true,
                "type": "string"
               },
               {
                "metadata": {},
                "name": "Warranty Service Type",
                "nullable": true,
                "type": "string"
               },
               {
                "metadata": {},
                "name": "Warranty Summary",
                "nullable": true,
                "type": "string"
               },
               {
                "metadata": {},
                "name": "Weave Type",
                "nullable": true,
                "type": "string"
               },
               {
                "metadata": {},
                "name": "Weave type",
                "nullable": true,
                "type": "string"
               },
               {
                "metadata": {},
                "name": "Weight",
                "nullable": true,
                "type": "string"
               },
               {
                "metadata": {},
                "name": "Width",
                "nullable": true,
                "type": "string"
               },
               {
                "metadata": {},
                "name": "Width at Base",
                "nullable": true,
                "type": "string"
               },
               {
                "metadata": {},
                "name": "Width in inch",
                "nullable": true,
                "type": "string"
               }
              ],
              "type": "struct"
             },
             "type": "array"
            }
           },
           {
            "metadata": {},
            "name": "seller",
            "nullable": true,
            "type": "string"
           },
           {
            "metadata": {},
            "name": "selling_price",
            "nullable": true,
            "type": "string"
           },
           {
            "metadata": {},
            "name": "sub_category",
            "nullable": true,
            "type": "string"
           },
           {
            "metadata": {},
            "name": "title",
            "nullable": true,
            "type": "string"
           },
           {
            "metadata": {},
            "name": "url",
            "nullable": true,
            "type": "string"
           }
          ],
          "type": "struct"
         },
         "tableIdentifier": null,
         "typeStr": "org.apache.spark.sql.DataFrame"
        },
        {
         "name": "result_discount_df",
         "schema": {
          "fields": [
           {
            "metadata": {},
            "name": "percentage",
            "nullable": true,
            "type": "integer"
           },
           {
            "metadata": {},
            "name": "count",
            "nullable": false,
            "type": "long"
           }
          ],
          "type": "struct"
         },
         "tableIdentifier": null,
         "typeStr": "org.apache.spark.sql.Dataset[org.apache.spark.sql.Row]"
        }
       ],
       "metadata": {},
       "removedWidgets": [],
       "type": "html"
      }
     },
     "output_type": "display_data"
    }
   ],
   "source": [
    "%scala\n",
    "import org.apache.spark.sql.functions._\n",
    "\n",
    "val df = spark.sql(\"select * from temp_table\")\n",
    "\n",
    "val result_discount_df = df.withColumn(\"percentage\", regexp_extract(col(\"discount\"), \"(\\\\d+)%\", 1).cast(\"int\"))\n",
    ".filter(col(\"percentage\").isNotNull)\n",
    ".groupBy(\"percentage\")\n",
    ".agg(count(\"_id\").alias(\"count\"))\n",
    ".sort(col(\"count\").desc)\n",
    "\n",
    "result_discount_df.show()"
   ]
  },
  {
   "cell_type": "code",
   "execution_count": 0,
   "metadata": {
    "application/vnd.databricks.v1+cell": {
     "cellMetadata": {
      "byteLimit": 2048000,
      "rowLimit": 10000
     },
     "inputWidgets": {},
     "nuid": "65141d14-0f4a-4e3e-b061-bde516efb10d",
     "showTitle": false,
     "title": ""
    }
   },
   "outputs": [
    {
     "output_type": "display_data",
     "data": {
      "text/html": [
       "<style scoped>\n",
       "  .ansiout {\n",
       "    display: block;\n",
       "    unicode-bidi: embed;\n",
       "    white-space: pre-wrap;\n",
       "    word-wrap: break-word;\n",
       "    word-break: break-all;\n",
       "    font-family: \"Source Code Pro\", \"Menlo\", monospace;;\n",
       "    font-size: 13px;\n",
       "    color: #555;\n",
       "    margin-left: 4px;\n",
       "    line-height: 19px;\n",
       "  }\n",
       "</style>\n",
       "<div class=\"ansiout\"></div>"
      ]
     },
     "metadata": {
      "application/vnd.databricks.v1+output": {
       "addedWidgets": {},
       "arguments": {},
       "data": "<div class=\"ansiout\"></div>",
       "datasetInfos": [],
       "metadata": {
        "isDbfsCommandResult": false
       },
       "removedWidgets": [],
       "type": "html"
      }
     },
     "output_type": "display_data"
    }
   ],
   "source": [
    "%scala\n",
    "result_discount_df.write.format(\"delta\").mode(\"overwrite\").save(\"/mnt/datalake/delta/discount_count\")"
   ]
  },
  {
   "cell_type": "code",
   "execution_count": 0,
   "metadata": {
    "application/vnd.databricks.v1+cell": {
     "cellMetadata": {
      "byteLimit": 2048000,
      "rowLimit": 10000
     },
     "inputWidgets": {},
     "nuid": "1ba442da-8dd3-471c-9a56-2f0f2138a4bf",
     "showTitle": false,
     "title": ""
    }
   },
   "outputs": [
    {
     "output_type": "stream",
     "name": "stdout",
     "output_type": "stream",
     "text": [
      "+----------+-----+\n|percentage|count|\n+----------+-----+\n|        60| 2335|\n|        50| 2164|\n|        35| 1154|\n|        63| 1017|\n|        57|  888|\n|        44|  817|\n|        40|  805|\n|        55|  804|\n|        66|  795|\n|        64|  787|\n|        65|  768|\n|        45|  736|\n|        52|  710|\n|        30|  701|\n|        61|  683|\n|        76|  594|\n|        62|  555|\n|        53|  516|\n|        20|  490|\n|        58|  490|\n+----------+-----+\nonly showing top 20 rows\n\n"
     ]
    }
   ],
   "source": [
    "spark.read.format(\"delta\").load(\"/mnt/datalake/delta/discount_count\").show()"
   ]
  },
  {
   "cell_type": "markdown",
   "metadata": {
    "application/vnd.databricks.v1+cell": {
     "cellMetadata": {},
     "inputWidgets": {},
     "nuid": "641d3e46-2c78-43fe-ab96-6915345e3918",
     "showTitle": false,
     "title": ""
    }
   },
   "source": [
    "## Product Count Across Various Categories"
   ]
  },
  {
   "cell_type": "code",
   "execution_count": 0,
   "metadata": {
    "application/vnd.databricks.v1+cell": {
     "cellMetadata": {
      "byteLimit": 2048000,
      "rowLimit": 10000
     },
     "inputWidgets": {},
     "nuid": "926bdb39-edae-4c24-8c5f-cc3702bd7889",
     "showTitle": false,
     "title": ""
    }
   },
   "outputs": [
    {
     "output_type": "display_data",
     "data": {
      "text/html": [
       "<style scoped>\n",
       "  .ansiout {\n",
       "    display: block;\n",
       "    unicode-bidi: embed;\n",
       "    white-space: pre-wrap;\n",
       "    word-wrap: break-word;\n",
       "    word-break: break-all;\n",
       "    font-family: \"Source Code Pro\", \"Menlo\", monospace;;\n",
       "    font-size: 13px;\n",
       "    color: #555;\n",
       "    margin-left: 4px;\n",
       "    line-height: 19px;\n",
       "  }\n",
       "</style>\n",
       "<div class=\"ansiout\"></div>"
      ]
     },
     "metadata": {
      "application/vnd.databricks.v1+output": {
       "addedWidgets": {},
       "arguments": {},
       "data": "<div class=\"ansiout\"></div>",
       "datasetInfos": [],
       "metadata": {
        "isDbfsCommandResult": false
       },
       "removedWidgets": [],
       "type": "html"
      }
     },
     "output_type": "display_data"
    }
   ],
   "source": [
    "%scala\n",
    "df.createOrReplaceTempView(\"my_table\")"
   ]
  },
  {
   "cell_type": "code",
   "execution_count": 0,
   "metadata": {
    "application/vnd.databricks.v1+cell": {
     "cellMetadata": {
      "byteLimit": 2048000,
      "rowLimit": 10000
     },
     "inputWidgets": {},
     "nuid": "df0d4907-3da4-4dc9-bc65-9b3f33b7ca24",
     "showTitle": false,
     "title": ""
    }
   },
   "outputs": [
    {
     "output_type": "display_data",
     "data": {
      "text/html": [
       "<style scoped>\n",
       "  .ansiout {\n",
       "    display: block;\n",
       "    unicode-bidi: embed;\n",
       "    white-space: pre-wrap;\n",
       "    word-wrap: break-word;\n",
       "    word-break: break-all;\n",
       "    font-family: \"Source Code Pro\", \"Menlo\", monospace;;\n",
       "    font-size: 13px;\n",
       "    color: #555;\n",
       "    margin-left: 4px;\n",
       "    line-height: 19px;\n",
       "  }\n",
       "</style>\n",
       "<div class=\"ansiout\">import org.apache.spark.sql.functions._\n",
       "df: org.apache.spark.sql.DataFrame = [_id: string, actual_price: string ... 15 more fields]\n",
       "</div>"
      ]
     },
     "metadata": {
      "application/vnd.databricks.v1+output": {
       "addedWidgets": {},
       "arguments": {},
       "data": "<div class=\"ansiout\">import org.apache.spark.sql.functions._\ndf: org.apache.spark.sql.DataFrame = [_id: string, actual_price: string ... 15 more fields]\n</div>",
       "datasetInfos": [
        {
         "name": "df",
         "schema": {
          "fields": [
           {
            "metadata": {},
            "name": "_id",
            "nullable": true,
            "type": "string"
           },
           {
            "metadata": {},
            "name": "actual_price",
            "nullable": true,
            "type": "string"
           },
           {
            "metadata": {},
            "name": "average_rating",
            "nullable": true,
            "type": "string"
           },
           {
            "metadata": {},
            "name": "brand",
            "nullable": true,
            "type": "string"
           },
           {
            "metadata": {},
            "name": "category",
            "nullable": true,
            "type": "string"
           },
           {
            "metadata": {},
            "name": "crawled_at",
            "nullable": true,
            "type": "string"
           },
           {
            "metadata": {},
            "name": "description",
            "nullable": true,
            "type": "string"
           },
           {
            "metadata": {},
            "name": "discount",
            "nullable": true,
            "type": "string"
           },
           {
            "metadata": {},
            "name": "images",
            "nullable": true,
            "type": {
             "containsNull": true,
             "elementType": "string",
             "type": "array"
            }
           },
           {
            "metadata": {},
            "name": "out_of_stock",
            "nullable": true,
            "type": "boolean"
           },
           {
            "metadata": {},
            "name": "pid",
            "nullable": true,
            "type": "string"
           },
           {
            "metadata": {},
            "name": "product_details",
            "nullable": true,
            "type": {
             "containsNull": true,
             "elementType": {
              "fields": [
               {
                "metadata": {},
                "name": " ",
                "nullable": true,
                "type": "string"
               },
               {
                "metadata": {},
                "name": "Alteration Required",
                "nullable": true,
                "type": "string"
               },
               {
                "metadata": {},
                "name": "Animal Source",
                "nullable": true,
                "type": "string"
               },
               {
                "metadata": {},
                "name": "Belt Loops",
                "nullable": true,
                "type": "string"
               },
               {
                "metadata": {},
                "name": "Bottom Fabric",
                "nullable": true,
                "type": "string"
               },
               {
                "metadata": {},
                "name": "Bottom Length",
                "nullable": true,
                "type": "string"
               },
               {
                "metadata": {},
                "name": "Bottom Type",
                "nullable": true,
                "type": "string"
               },
               {
                "metadata": {},
                "name": "Brand",
                "nullable": true,
                "type": "string"
               },
               {
                "metadata": {},
                "name": "Brand Color",
                "nullable": true,
                "type": "string"
               },
               {
                "metadata": {},
                "name": "Brand Fit",
                "nullable": true,
                "type": "string"
               },
               {
                "metadata": {},
                "name": "Bust in inch",
                "nullable": true,
                "type": "string"
               },
               {
                "metadata": {},
                "name": "Care Instructions",
                "nullable": true,
                "type": "string"
               },
               {
                "metadata": {},
                "name": "Care instructions",
                "nullable": true,
                "type": "string"
               },
               {
                "metadata": {},
                "name": "Character",
                "nullable": true,
                "type": "string"
               },
               {
                "metadata": {},
                "name": "Clasp Material",
                "nullable": true,
                "type": "string"
               },
               {
                "metadata": {},
                "name": "Clasp Type",
                "nullable": true,
                "type": "string"
               },
               {
                "metadata": {},
                "name": "Closure",
                "nullable": true,
                "type": "string"
               },
               {
                "metadata": {},
                "name": "Coat Type",
                "nullable": true,
                "type": "string"
               },
               {
                "metadata": {},
                "name": "Collar",
                "nullable": true,
                "type": "string"
               },
               {
                "metadata": {},
                "name": "Color",
                "nullable": true,
                "type": "string"
               },
               {
                "metadata": {},
                "name": "Country of Origin",
                "nullable": true,
                "type": "string"
               },
               {
                "metadata": {},
                "name": "Covered in Warranty",
                "nullable": true,
                "type": "string"
               },
               {
                "metadata": {},
                "name": "Cuff",
                "nullable": true,
                "type": "string"
               },
               {
                "metadata": {},
                "name": "Depth",
                "nullable": true,
                "type": "string"
               },
               {
                "metadata": {},
                "name": "Design",
                "nullable": true,
                "type": "string"
               },
               {
                "metadata": {},
                "name": "Distressed",
                "nullable": true,
                "type": "string"
               },
               {
                "metadata": {},
                "name": "Domestic Warranty",
                "nullable": true,
                "type": "string"
               },
               {
                "metadata": {},
                "name": "Dupatta Length",
                "nullable": true,
                "type": "string"
               },
               {
                "metadata": {},
                "name": "Fabric",
                "nullable": true,
                "type": "string"
               },
               {
                "metadata": {},
                "name": "Fabric Care",
                "nullable": true,
                "type": "string"
               },
               {
                "metadata": {},
                "name": "Fabric Details",
                "nullable": true,
                "type": "string"
               },
               {
                "metadata": {},
                "name": "Fabric care",
                "nullable": true,
                "type": "string"
               },
               {
                "metadata": {},
                "name": "Faded",
                "nullable": true,
                "type": "string"
               },
               {
                "metadata": {},
                "name": "Fastener",
                "nullable": true,
                "type": "string"
               },
               {
                "metadata": {},
                "name": "Fit",
                "nullable": true,
                "type": "string"
               },
               {
                "metadata": {},
                "name": "Fly",
                "nullable": true,
                "type": "string"
               },
               {
                "metadata": {},
                "name": "Foot Coverage",
                "nullable": true,
                "type": "string"
               },
               {
                "metadata": {},
                "name": "Generic Name",
                "nullable": true,
                "type": "string"
               },
               {
                "metadata": {},
                "name": "Heel Pattern",
                "nullable": true,
                "type": "string"
               },
               {
                "metadata": {},
                "name": "Height",
                "nullable": true,
                "type": "string"
               },
               {
                "metadata": {},
                "name": "Hem",
                "nullable": true,
                "type": "string"
               },
               {
                "metadata": {},
                "name": "Hip in inch",
                "nullable": true,
                "type": "string"
               },
               {
                "metadata": {},
                "name": "Hooded",
                "nullable": true,
                "type": "string"
               },
               {
                "metadata": {},
                "name": "Ideal For",
                "nullable": true,
                "type": "string"
               },
               {
                "metadata": {},
                "name": "Inner Material",
                "nullable": true,
                "type": "string"
               },
               {
                "metadata": {},
                "name": "Inseam Length",
                "nullable": true,
                "type": "string"
               },
               {
                "metadata": {},
                "name": "Inside Leg in inch",
                "nullable": true,
                "type": "string"
               },
               {
                "metadata": {},
                "name": "International Warranty",
                "nullable": true,
                "type": "string"
               },
               {
                "metadata": {},
                "name": "Knit Type",
                "nullable": true,
                "type": "string"
               },
               {
                "metadata": {},
                "name": "Leather Type",
                "nullable": true,
                "type": "string"
               },
               {
                "metadata": {},
                "name": "Length",
                "nullable": true,
                "type": "string"
               },
               {
                "metadata": {},
                "name": "Length Type",
                "nullable": true,
                "type": "string"
               },
               {
                "metadata": {},
                "name": "Length in inch",
                "nullable": true,
                "type": "string"
               },
               {
                "metadata": {},
                "name": "Lining",
                "nullable": true,
                "type": "string"
               },
               {
                "metadata": {},
                "name": "Lining Material",
                "nullable": true,
                "type": "string"
               },
               {
                "metadata": {},
                "name": "Material",
                "nullable": true,
                "type": "string"
               },
               {
                "metadata": {},
                "name": "Maximum Age",
                "nullable": true,
                "type": "string"
               },
               {
                "metadata": {},
                "name": "Minimum Age",
                "nullable": true,
                "type": "string"
               },
               {
                "metadata": {},
                "name": "Model Details",
                "nullable": true,
                "type": "string"
               },
               {
                "metadata": {},
                "name": "Model Name",
                "nullable": true,
                "type": "string"
               },
               {
                "metadata": {},
                "name": "Model Number",
                "nullable": true,
                "type": "string"
               },
               {
                "metadata": {},
                "name": "Neck",
                "nullable": true,
                "type": "string"
               },
               {
                "metadata": {},
                "name": "Neck Type",
                "nullable": true,
                "type": "string"
               },
               {
                "metadata": {},
                "name": "Not Covered in Warranty",
                "nullable": true,
                "type": "string"
               },
               {
                "metadata": {},
                "name": "Number of Contents in Sales Package",
                "nullable": true,
                "type": "string"
               },
               {
                "metadata": {},
                "name": "Occasion",
                "nullable": true,
                "type": "string"
               },
               {
                "metadata": {},
                "name": "Other Details",
                "nullable": true,
                "type": "string"
               },
               {
                "metadata": {},
                "name": "Other Dimensions",
                "nullable": true,
                "type": "string"
               },
               {
                "metadata": {},
                "name": "Other Features",
                "nullable": true,
                "type": "string"
               },
               {
                "metadata": {},
                "name": "Outer Material",
                "nullable": true,
                "type": "string"
               },
               {
                "metadata": {},
                "name": "Pack Of",
                "nullable": true,
                "type": "string"
               },
               {
                "metadata": {},
                "name": "Pack of",
                "nullable": true,
                "type": "string"
               },
               {
                "metadata": {},
                "name": "Package contains",
                "nullable": true,
                "type": "string"
               },
               {
                "metadata": {},
                "name": "Pattern",
                "nullable": true,
                "type": "string"
               },
               {
                "metadata": {},
                "name": "Placket",
                "nullable": true,
                "type": "string"
               },
               {
                "metadata": {},
                "name": "Pleated",
                "nullable": true,
                "type": "string"
               },
               {
                "metadata": {},
                "name": "Pleats",
                "nullable": true,
                "type": "string"
               },
               {
                "metadata": {},
                "name": "Pocket Type",
                "nullable": true,
                "type": "string"
               },
               {
                "metadata": {},
                "name": "Pockets",
                "nullable": true,
                "type": "string"
               },
               {
                "metadata": {},
                "name": "Region",
                "nullable": true,
                "type": "string"
               },
               {
                "metadata": {},
                "name": "Reversible",
                "nullable": true,
                "type": "string"
               },
               {
                "metadata": {},
                "name": "Rise",
                "nullable": true,
                "type": "string"
               },
               {
                "metadata": {},
                "name": "Rise in inch",
                "nullable": true,
                "type": "string"
               },
               {
                "metadata": {},
                "name": "Sales Package",
                "nullable": true,
                "type": "string"
               },
               {
                "metadata": {},
                "name": "School Shoe",
                "nullable": true,
                "type": "string"
               },
               {
                "metadata": {},
                "name": "Season",
                "nullable": true,
                "type": "string"
               },
               {
                "metadata": {},
                "name": "Secondary Color",
                "nullable": true,
                "type": "string"
               },
               {
                "metadata": {},
                "name": "Series",
                "nullable": true,
                "type": "string"
               },
               {
                "metadata": {},
                "name": "Shade",
                "nullable": true,
                "type": "string"
               },
               {
                "metadata": {},
                "name": "Shoe Length",
                "nullable": true,
                "type": "string"
               },
               {
                "metadata": {},
                "name": "Shoulder in inch",
                "nullable": true,
                "type": "string"
               },
               {
                "metadata": {},
                "name": "Size",
                "nullable": true,
                "type": "string"
               },
               {
                "metadata": {},
                "name": "Sleeve",
                "nullable": true,
                "type": "string"
               },
               {
                "metadata": {},
                "name": "Sleeve Type",
                "nullable": true,
                "type": "string"
               },
               {
                "metadata": {},
                "name": "Sleeve in inch",
                "nullable": true,
                "type": "string"
               },
               {
                "metadata": {},
                "name": "Sole Material",
                "nullable": true,
                "type": "string"
               },
               {
                "metadata": {},
                "name": "Speciality Footwear",
                "nullable": true,
                "type": "string"
               },
               {
                "metadata": {},
                "name": "Stitching Type",
                "nullable": true,
                "type": "string"
               },
               {
                "metadata": {},
                "name": "Strap Material",
                "nullable": true,
                "type": "string"
               },
               {
                "metadata": {},
                "name": "Stretchable",
                "nullable": true,
                "type": "string"
               },
               {
                "metadata": {},
                "name": "Style",
                "nullable": true,
                "type": "string"
               },
               {
                "metadata": {},
                "name": "Style Code",
                "nullable": true,
                "type": "string"
               },
               {
                "metadata": {},
                "name": "Suitable For",
                "nullable": true,
                "type": "string"
               },
               {
                "metadata": {},
                "name": "Tanning Process",
                "nullable": true,
                "type": "string"
               },
               {
                "metadata": {},
                "name": "Technology Used",
                "nullable": true,
                "type": "string"
               },
               {
                "metadata": {},
                "name": "Thigh in inch",
                "nullable": true,
                "type": "string"
               },
               {
                "metadata": {},
                "name": "Thumb Hole",
                "nullable": true,
                "type": "string"
               },
               {
                "metadata": {},
                "name": "Tip Shape",
                "nullable": true,
                "type": "string"
               },
               {
                "metadata": {},
                "name": "Top Closure",
                "nullable": true,
                "type": "string"
               },
               {
                "metadata": {},
                "name": "Top Fabric",
                "nullable": true,
                "type": "string"
               },
               {
                "metadata": {},
                "name": "Top Length",
                "nullable": true,
                "type": "string"
               },
               {
                "metadata": {},
                "name": "Top Type",
                "nullable": true,
                "type": "string"
               },
               {
                "metadata": {},
                "name": "Type",
                "nullable": true,
                "type": "string"
               },
               {
                "metadata": {},
                "name": "Type for Flats",
                "nullable": true,
                "type": "string"
               },
               {
                "metadata": {},
                "name": "Upper Pattern",
                "nullable": true,
                "type": "string"
               },
               {
                "metadata": {},
                "name": "Vents",
                "nullable": true,
                "type": "string"
               },
               {
                "metadata": {},
                "name": "Waist in inch",
                "nullable": true,
                "type": "string"
               },
               {
                "metadata": {},
                "name": "Waistband",
                "nullable": true,
                "type": "string"
               },
               {
                "metadata": {},
                "name": "Warranty Service Type",
                "nullable": true,
                "type": "string"
               },
               {
                "metadata": {},
                "name": "Warranty Summary",
                "nullable": true,
                "type": "string"
               },
               {
                "metadata": {},
                "name": "Weave Type",
                "nullable": true,
                "type": "string"
               },
               {
                "metadata": {},
                "name": "Weave type",
                "nullable": true,
                "type": "string"
               },
               {
                "metadata": {},
                "name": "Weight",
                "nullable": true,
                "type": "string"
               },
               {
                "metadata": {},
                "name": "Width",
                "nullable": true,
                "type": "string"
               },
               {
                "metadata": {},
                "name": "Width at Base",
                "nullable": true,
                "type": "string"
               },
               {
                "metadata": {},
                "name": "Width in inch",
                "nullable": true,
                "type": "string"
               }
              ],
              "type": "struct"
             },
             "type": "array"
            }
           },
           {
            "metadata": {},
            "name": "seller",
            "nullable": true,
            "type": "string"
           },
           {
            "metadata": {},
            "name": "selling_price",
            "nullable": true,
            "type": "string"
           },
           {
            "metadata": {},
            "name": "sub_category",
            "nullable": true,
            "type": "string"
           },
           {
            "metadata": {},
            "name": "title",
            "nullable": true,
            "type": "string"
           },
           {
            "metadata": {},
            "name": "url",
            "nullable": true,
            "type": "string"
           }
          ],
          "type": "struct"
         },
         "tableIdentifier": null,
         "typeStr": "org.apache.spark.sql.DataFrame"
        }
       ],
       "metadata": {},
       "removedWidgets": [],
       "type": "html"
      }
     },
     "output_type": "display_data"
    }
   ],
   "source": [
    "%scala\n",
    "import org.apache.spark.sql.functions._\n",
    "val df = spark.sql(\"select * from my_table\")\n"
   ]
  },
  {
   "cell_type": "code",
   "execution_count": 0,
   "metadata": {
    "application/vnd.databricks.v1+cell": {
     "cellMetadata": {
      "byteLimit": 2048000,
      "rowLimit": 10000
     },
     "inputWidgets": {},
     "nuid": "22265954-ff75-48e8-a1e6-ccd2aa3e2d9b",
     "showTitle": false,
     "title": ""
    }
   },
   "outputs": [
    {
     "output_type": "display_data",
     "data": {
      "text/html": [
       "<style scoped>\n",
       "  .ansiout {\n",
       "    display: block;\n",
       "    unicode-bidi: embed;\n",
       "    white-space: pre-wrap;\n",
       "    word-wrap: break-word;\n",
       "    word-break: break-all;\n",
       "    font-family: \"Source Code Pro\", \"Menlo\", monospace;;\n",
       "    font-size: 13px;\n",
       "    color: #555;\n",
       "    margin-left: 4px;\n",
       "    line-height: 19px;\n",
       "  }\n",
       "</style>\n",
       "<div class=\"ansiout\">+--------------------+-----+\n",
       "            category|count|\n",
       "+--------------------+-----+\n",
       "Clothing and Acce...|28971|\n",
       "            Footwear|  987|\n",
       "Bags, Wallets &amp; B...|   41|\n",
       "                Toys|    1|\n",
       "+--------------------+-----+\n",
       "\n",
       "category_count_df: org.apache.spark.sql.Dataset[org.apache.spark.sql.Row] = [category: string, count: bigint]\n",
       "</div>"
      ]
     },
     "metadata": {
      "application/vnd.databricks.v1+output": {
       "addedWidgets": {},
       "arguments": {},
       "data": "<div class=\"ansiout\">+--------------------+-----+\n|            category|count|\n+--------------------+-----+\n|Clothing and Acce...|28971|\n|            Footwear|  987|\n|Bags, Wallets &amp; B...|   41|\n|                Toys|    1|\n+--------------------+-----+\n\ncategory_count_df: org.apache.spark.sql.Dataset[org.apache.spark.sql.Row] = [category: string, count: bigint]\n</div>",
       "datasetInfos": [
        {
         "name": "category_count_df",
         "schema": {
          "fields": [
           {
            "metadata": {},
            "name": "category",
            "nullable": true,
            "type": "string"
           },
           {
            "metadata": {},
            "name": "count",
            "nullable": false,
            "type": "long"
           }
          ],
          "type": "struct"
         },
         "tableIdentifier": null,
         "typeStr": "org.apache.spark.sql.Dataset[org.apache.spark.sql.Row]"
        }
       ],
       "metadata": {
        "isDbfsCommandResult": false
       },
       "removedWidgets": [],
       "type": "html"
      }
     },
     "output_type": "display_data"
    }
   ],
   "source": [
    "%scala\n",
    "val category_count_df =df.filter(col(\"_id\").isNotNull and (col(\"_id\") =!= \"\"))\n",
    ".groupBy(\"category\")\n",
    ".count()\n",
    ".sort(col(\"count\").desc)\n",
    "\n",
    "\n",
    "category_count_df.show()"
   ]
  },
  {
   "cell_type": "code",
   "execution_count": 0,
   "metadata": {
    "application/vnd.databricks.v1+cell": {
     "cellMetadata": {
      "byteLimit": 2048000,
      "rowLimit": 10000
     },
     "inputWidgets": {},
     "nuid": "e908eb71-8fa1-4baa-a4a3-384b4b5b74e2",
     "showTitle": false,
     "title": ""
    }
   },
   "outputs": [
    {
     "output_type": "display_data",
     "data": {
      "text/html": [
       "<style scoped>\n",
       "  .ansiout {\n",
       "    display: block;\n",
       "    unicode-bidi: embed;\n",
       "    white-space: pre-wrap;\n",
       "    word-wrap: break-word;\n",
       "    word-break: break-all;\n",
       "    font-family: \"Source Code Pro\", \"Menlo\", monospace;;\n",
       "    font-size: 13px;\n",
       "    color: #555;\n",
       "    margin-left: 4px;\n",
       "    line-height: 19px;\n",
       "  }\n",
       "</style>\n",
       "<div class=\"ansiout\"></div>"
      ]
     },
     "metadata": {
      "application/vnd.databricks.v1+output": {
       "addedWidgets": {},
       "arguments": {},
       "data": "<div class=\"ansiout\"></div>",
       "datasetInfos": [],
       "metadata": {
        "isDbfsCommandResult": false
       },
       "removedWidgets": [],
       "type": "html"
      }
     },
     "output_type": "display_data"
    }
   ],
   "source": [
    "%scala\n",
    "category_count_df.write.format(\"delta\").mode(\"overwrite\").save(\"/mnt/datalake/delta/category_count\")\n"
   ]
  },
  {
   "cell_type": "code",
   "execution_count": 0,
   "metadata": {
    "application/vnd.databricks.v1+cell": {
     "cellMetadata": {
      "byteLimit": 2048000,
      "rowLimit": 10000
     },
     "inputWidgets": {},
     "nuid": "5475c306-5160-40f0-9124-75519437e030",
     "showTitle": false,
     "title": ""
    }
   },
   "outputs": [
    {
     "output_type": "stream",
     "name": "stdout",
     "output_type": "stream",
     "text": [
      "+--------------------+-----+\n|            category|count|\n+--------------------+-----+\n|Clothing and Acce...|28971|\n|            Footwear|  987|\n|Bags, Wallets & B...|   41|\n|                Toys|    1|\n+--------------------+-----+\n\n"
     ]
    }
   ],
   "source": [
    "spark.read.format(\"delta\").load(\"/mnt/datalake/delta/category_count\").show()"
   ]
  },
  {
   "cell_type": "markdown",
   "metadata": {
    "application/vnd.databricks.v1+cell": {
     "cellMetadata": {},
     "inputWidgets": {},
     "nuid": "e7d50a56-4354-4a04-b7ef-7476f1b1f66d",
     "showTitle": false,
     "title": ""
    }
   },
   "source": [
    "## Top 5 Subcategories with the Largest Product Range"
   ]
  },
  {
   "cell_type": "code",
   "execution_count": 0,
   "metadata": {
    "application/vnd.databricks.v1+cell": {
     "cellMetadata": {
      "byteLimit": 2048000,
      "rowLimit": 10000
     },
     "inputWidgets": {},
     "nuid": "bf8b132c-fe59-4718-9462-643d2ee71dc8",
     "showTitle": false,
     "title": ""
    }
   },
   "outputs": [
    {
     "output_type": "display_data",
     "data": {
      "text/html": [
       "<style scoped>\n",
       "  .ansiout {\n",
       "    display: block;\n",
       "    unicode-bidi: embed;\n",
       "    white-space: pre-wrap;\n",
       "    word-wrap: break-word;\n",
       "    word-break: break-all;\n",
       "    font-family: \"Source Code Pro\", \"Menlo\", monospace;;\n",
       "    font-size: 13px;\n",
       "    color: #555;\n",
       "    margin-left: 4px;\n",
       "    line-height: 19px;\n",
       "  }\n",
       "</style>\n",
       "<div class=\"ansiout\">+--------------------+------------+--------------+-----+--------------------+--------------------+--------------------+--------+--------------------+------------+----------------+--------------------+-----------------+-------------+------------+--------------------+--------------------+\n",
       "                 _id|actual_price|average_rating|brand|            category|          crawled_at|         description|discount|              images|out_of_stock|             pid|     product_details|           seller|selling_price|sub_category|               title|                 url|\n",
       "+--------------------+------------+--------------+-----+--------------------+--------------------+--------------------+--------+--------------------+------------+----------------+--------------------+-----------------+-------------+------------+--------------------+--------------------+\n",
       "fa8e22d6-c0b6-522...|       2,999|           3.9| York|Clothing and Acce...|02/10/2021, 20:11:51|Yorker trackpants...| 69% off|[https://rukminim...|       false|TKPFCZ9EA7H5FYZH|[{NULL, NULL, NUL...|Shyam Enterprises|          921|  Bottomwear|Solid Men Multico...|https://www.flipk...|\n",
       "893e6980-f2a0-531...|       1,499|           3.9| York|Clothing and Acce...|02/10/2021, 20:11:52|Yorker trackpants...| 66% off|[https://rukminim...|       false|TKPFCZ9EJZV2UVRZ|[{NULL, NULL, NUL...|Shyam Enterprises|          499|  Bottomwear|Solid Men Blue Tr...|https://www.flipk...|\n",
       "eb4c8eab-8206-59d...|       2,999|           3.9| York|Clothing and Acce...|02/10/2021, 20:11:52|Yorker trackpants...| 68% off|[https://rukminim...|       false|TKPFCZ9EHFCY5Z4Y|[{NULL, NULL, NUL...|Shyam Enterprises|          931|  Bottomwear|Solid Men Multico...|https://www.flipk...|\n",
       "3f3f97bb-5faf-57d...|       2,999|           3.9| York|Clothing and Acce...|02/10/2021, 20:11:53|Yorker trackpants...| 69% off|[https://rukminim...|       false|TKPFCZ9ESZZ7YWEF|[{NULL, NULL, NUL...|Shyam Enterprises|          911|  Bottomwear|Solid Men Multico...|https://www.flipk...|\n",
       "750caa3d-6264-53c...|       2,999|           3.9| York|Clothing and Acce...|02/10/2021, 20:11:53|Yorker trackpants...| 68% off|[https://rukminim...|       false|TKPFCZ9EVXKBSUD7|[{NULL, NULL, NUL...|Shyam Enterprises|          943|  Bottomwear|Solid Men Brown, ...|https://www.flipk...|\n",
       "9af4ac75-230b-5d5...|       4,499|           3.8| York|Clothing and Acce...|02/10/2021, 20:11:54|Yorker trackpants...| 74% off|[https://rukminim...|       false|TKPFCZ9EFK9DNWDA|[{NULL, NULL, NUL...|Shyam Enterprises|        1,169|  Bottomwear|Solid Men Multico...|https://www.flipk...|\n",
       "1b1d40cc-4eaa-54c...|       1,499|           3.8| York|Clothing and Acce...|02/10/2021, 20:11:54|Yorker trackpants...| 68% off|[https://rukminim...|       false|TKPFDABN3GXYPFHE|[{NULL, NULL, NUL...|Shyam Enterprises|          466|  Bottomwear|Solid Men Dark Bl...|https://www.flipk...|\n",
       "a33cf2e2-c5e4-5f0...|       1,499|           3.8| York|Clothing and Acce...|02/10/2021, 20:11:55|Yorker trackpants...| 63% off|[https://rukminim...|       false|TKPFCZ9ESGZYT8NH|[{NULL, NULL, NUL...|Shyam Enterprises|          545|  Bottomwear|Solid Men Beige T...|https://www.flipk...|\n",
       "ab4f0cca-6a84-51e...|       1,499|           3.8| York|Clothing and Acce...|02/10/2021, 20:11:55|Yorker trackpants...| 67% off|[https://rukminim...|       false|TKPFCZ9DYU33FFXS|[{NULL, NULL, NUL...|Shyam Enterprises|          489|  Bottomwear|Solid Men Black T...|https://www.flipk...|\n",
       "f8a91e89-c5db-5fa...|       1,499|           3.7| York|Clothing and Acce...|02/10/2021, 20:11:56|Yorker trackpants...| 64% off|[https://rukminim...|       false|TKPFDABN4NQFVKZY|[{NULL, NULL, NUL...|Shyam Enterprises|          531|  Bottomwear|Solid Men Grey Tr...|https://www.flipk...|\n",
       "002b976d-e1b3-500...|       4,499|           3.8| York|Clothing and Acce...|02/10/2021, 20:11:56|Yorker trackpants...| 76% off|[https://rukminim...|       false|TKPFCZ9ENWGMX23W|[{NULL, NULL, NUL...|Shyam Enterprises|        1,074|  Bottomwear|Checkered Men Blu...|https://www.flipk...|\n",
       "1259d286-33b5-5ba...|       1,800|           3.3| York|Clothing and Acce...|02/10/2021, 20:11:57|                    | 49% off|[https://rukminim...|       false|TKPFZFSHHACG3FHC|[{NULL, NULL, NUL...|Shyam Enterprises|          911|  Bottomwear|Solid Men Multico...|https://www.flipk...|\n",
       "79ed89b0-1e6e-592...|       1,800|           3.3| York|Clothing and Acce...|02/10/2021, 20:11:57|                    | 49% off|[https://rukminim...|       false|TKPFZFSHQPDRGZTM|[{NULL, NULL, NUL...|Shyam Enterprises|          911|  Bottomwear|Solid Men Multico...|https://www.flipk...|\n",
       "798fb84a-9a86-5fa...|       2,700|           3.3| York|Clothing and Acce...|02/10/2021, 20:11:58|                    | 61% off|[https://rukminim...|       false|TKPFZ4YTRF3ZRTTH|[{NULL, NULL, NUL...|Shyam Enterprises|        1,042|  Bottomwear|Self Design Men M...|https://www.flipk...|\n",
       "f764aca2-e9c4-5f1...|       2,700|           3.3| York|Clothing and Acce...|02/10/2021, 20:11:58|                    | 61% off|[https://rukminim...|       false|TKPFZ4YTJZWBFYFZ|[{NULL, NULL, NUL...|Shyam Enterprises|        1,043|  Bottomwear|Self Design Men M...|https://www.flipk...|\n",
       "05301848-4de8-50f...|       1,800|           3.3| York|Clothing and Acce...|02/10/2021, 20:11:59|                    | 48% off|[https://rukminim...|       false|TKPFZFSH3F9ZA7C6|[{NULL, NULL, NUL...|Shyam Enterprises|          921|  Bottomwear|Solid Men Multico...|https://www.flipk...|\n",
       "6b303174-c28d-56a...|       2,700|           3.3| York|Clothing and Acce...|02/10/2021, 20:11:59|                    | 61% off|[https://rukminim...|       false|TKPFZ4YT7ZNYXG27|[{NULL, NULL, NUL...|Shyam Enterprises|        1,046|  Bottomwear|Self Design Men M...|https://www.flipk...|\n",
       "420f2354-2c8e-55b...|       2,700|           3.3| York|Clothing and Acce...|02/10/2021, 20:12:00|                    | 61% off|[https://rukminim...|       false|TKPFZ4YTGNZJDZDU|[{NULL, NULL, NUL...|Shyam Enterprises|        1,044|  Bottomwear|Self Design Men M...|https://www.flipk...|\n",
       "c8f15cb0-3465-5cb...|       2,700|           3.3| York|Clothing and Acce...|02/10/2021, 20:12:00|                    | 61% off|[https://rukminim...|       false|TKPFZ4YTX94CY9JX|[{NULL, NULL, NUL...|Shyam Enterprises|        1,039|  Bottomwear|Self Design Men M...|https://www.flipk...|\n",
       "2cc3eb4c-42b5-5bc...|       2,999|           3.9| York|Clothing and Acce...|02/10/2021, 20:12:01|Yorker trackpants...| 69% off|[https://rukminim...|       false|TKPFCZ9EHCNAPKPU|[{NULL, NULL, NUL...|Shyam Enterprises|          921|  Bottomwear|Solid Men Multico...|https://www.flipk...|\n",
       "+--------------------+------------+--------------+-----+--------------------+--------------------+--------------------+--------+--------------------+------------+----------------+--------------------+-----------------+-------------+------------+--------------------+--------------------+\n",
       "only showing top 20 rows\n",
       "\n",
       "</div>"
      ]
     },
     "metadata": {
      "application/vnd.databricks.v1+output": {
       "addedWidgets": {},
       "arguments": {},
       "data": "<div class=\"ansiout\">+--------------------+------------+--------------+-----+--------------------+--------------------+--------------------+--------+--------------------+------------+----------------+--------------------+-----------------+-------------+------------+--------------------+--------------------+\n|                 _id|actual_price|average_rating|brand|            category|          crawled_at|         description|discount|              images|out_of_stock|             pid|     product_details|           seller|selling_price|sub_category|               title|                 url|\n+--------------------+------------+--------------+-----+--------------------+--------------------+--------------------+--------+--------------------+------------+----------------+--------------------+-----------------+-------------+------------+--------------------+--------------------+\n|fa8e22d6-c0b6-522...|       2,999|           3.9| York|Clothing and Acce...|02/10/2021, 20:11:51|Yorker trackpants...| 69% off|[https://rukminim...|       false|TKPFCZ9EA7H5FYZH|[{NULL, NULL, NUL...|Shyam Enterprises|          921|  Bottomwear|Solid Men Multico...|https://www.flipk...|\n|893e6980-f2a0-531...|       1,499|           3.9| York|Clothing and Acce...|02/10/2021, 20:11:52|Yorker trackpants...| 66% off|[https://rukminim...|       false|TKPFCZ9EJZV2UVRZ|[{NULL, NULL, NUL...|Shyam Enterprises|          499|  Bottomwear|Solid Men Blue Tr...|https://www.flipk...|\n|eb4c8eab-8206-59d...|       2,999|           3.9| York|Clothing and Acce...|02/10/2021, 20:11:52|Yorker trackpants...| 68% off|[https://rukminim...|       false|TKPFCZ9EHFCY5Z4Y|[{NULL, NULL, NUL...|Shyam Enterprises|          931|  Bottomwear|Solid Men Multico...|https://www.flipk...|\n|3f3f97bb-5faf-57d...|       2,999|           3.9| York|Clothing and Acce...|02/10/2021, 20:11:53|Yorker trackpants...| 69% off|[https://rukminim...|       false|TKPFCZ9ESZZ7YWEF|[{NULL, NULL, NUL...|Shyam Enterprises|          911|  Bottomwear|Solid Men Multico...|https://www.flipk...|\n|750caa3d-6264-53c...|       2,999|           3.9| York|Clothing and Acce...|02/10/2021, 20:11:53|Yorker trackpants...| 68% off|[https://rukminim...|       false|TKPFCZ9EVXKBSUD7|[{NULL, NULL, NUL...|Shyam Enterprises|          943|  Bottomwear|Solid Men Brown, ...|https://www.flipk...|\n|9af4ac75-230b-5d5...|       4,499|           3.8| York|Clothing and Acce...|02/10/2021, 20:11:54|Yorker trackpants...| 74% off|[https://rukminim...|       false|TKPFCZ9EFK9DNWDA|[{NULL, NULL, NUL...|Shyam Enterprises|        1,169|  Bottomwear|Solid Men Multico...|https://www.flipk...|\n|1b1d40cc-4eaa-54c...|       1,499|           3.8| York|Clothing and Acce...|02/10/2021, 20:11:54|Yorker trackpants...| 68% off|[https://rukminim...|       false|TKPFDABN3GXYPFHE|[{NULL, NULL, NUL...|Shyam Enterprises|          466|  Bottomwear|Solid Men Dark Bl...|https://www.flipk...|\n|a33cf2e2-c5e4-5f0...|       1,499|           3.8| York|Clothing and Acce...|02/10/2021, 20:11:55|Yorker trackpants...| 63% off|[https://rukminim...|       false|TKPFCZ9ESGZYT8NH|[{NULL, NULL, NUL...|Shyam Enterprises|          545|  Bottomwear|Solid Men Beige T...|https://www.flipk...|\n|ab4f0cca-6a84-51e...|       1,499|           3.8| York|Clothing and Acce...|02/10/2021, 20:11:55|Yorker trackpants...| 67% off|[https://rukminim...|       false|TKPFCZ9DYU33FFXS|[{NULL, NULL, NUL...|Shyam Enterprises|          489|  Bottomwear|Solid Men Black T...|https://www.flipk...|\n|f8a91e89-c5db-5fa...|       1,499|           3.7| York|Clothing and Acce...|02/10/2021, 20:11:56|Yorker trackpants...| 64% off|[https://rukminim...|       false|TKPFDABN4NQFVKZY|[{NULL, NULL, NUL...|Shyam Enterprises|          531|  Bottomwear|Solid Men Grey Tr...|https://www.flipk...|\n|002b976d-e1b3-500...|       4,499|           3.8| York|Clothing and Acce...|02/10/2021, 20:11:56|Yorker trackpants...| 76% off|[https://rukminim...|       false|TKPFCZ9ENWGMX23W|[{NULL, NULL, NUL...|Shyam Enterprises|        1,074|  Bottomwear|Checkered Men Blu...|https://www.flipk...|\n|1259d286-33b5-5ba...|       1,800|           3.3| York|Clothing and Acce...|02/10/2021, 20:11:57|                    | 49% off|[https://rukminim...|       false|TKPFZFSHHACG3FHC|[{NULL, NULL, NUL...|Shyam Enterprises|          911|  Bottomwear|Solid Men Multico...|https://www.flipk...|\n|79ed89b0-1e6e-592...|       1,800|           3.3| York|Clothing and Acce...|02/10/2021, 20:11:57|                    | 49% off|[https://rukminim...|       false|TKPFZFSHQPDRGZTM|[{NULL, NULL, NUL...|Shyam Enterprises|          911|  Bottomwear|Solid Men Multico...|https://www.flipk...|\n|798fb84a-9a86-5fa...|       2,700|           3.3| York|Clothing and Acce...|02/10/2021, 20:11:58|                    | 61% off|[https://rukminim...|       false|TKPFZ4YTRF3ZRTTH|[{NULL, NULL, NUL...|Shyam Enterprises|        1,042|  Bottomwear|Self Design Men M...|https://www.flipk...|\n|f764aca2-e9c4-5f1...|       2,700|           3.3| York|Clothing and Acce...|02/10/2021, 20:11:58|                    | 61% off|[https://rukminim...|       false|TKPFZ4YTJZWBFYFZ|[{NULL, NULL, NUL...|Shyam Enterprises|        1,043|  Bottomwear|Self Design Men M...|https://www.flipk...|\n|05301848-4de8-50f...|       1,800|           3.3| York|Clothing and Acce...|02/10/2021, 20:11:59|                    | 48% off|[https://rukminim...|       false|TKPFZFSH3F9ZA7C6|[{NULL, NULL, NUL...|Shyam Enterprises|          921|  Bottomwear|Solid Men Multico...|https://www.flipk...|\n|6b303174-c28d-56a...|       2,700|           3.3| York|Clothing and Acce...|02/10/2021, 20:11:59|                    | 61% off|[https://rukminim...|       false|TKPFZ4YT7ZNYXG27|[{NULL, NULL, NUL...|Shyam Enterprises|        1,046|  Bottomwear|Self Design Men M...|https://www.flipk...|\n|420f2354-2c8e-55b...|       2,700|           3.3| York|Clothing and Acce...|02/10/2021, 20:12:00|                    | 61% off|[https://rukminim...|       false|TKPFZ4YTGNZJDZDU|[{NULL, NULL, NUL...|Shyam Enterprises|        1,044|  Bottomwear|Self Design Men M...|https://www.flipk...|\n|c8f15cb0-3465-5cb...|       2,700|           3.3| York|Clothing and Acce...|02/10/2021, 20:12:00|                    | 61% off|[https://rukminim...|       false|TKPFZ4YTX94CY9JX|[{NULL, NULL, NUL...|Shyam Enterprises|        1,039|  Bottomwear|Self Design Men M...|https://www.flipk...|\n|2cc3eb4c-42b5-5bc...|       2,999|           3.9| York|Clothing and Acce...|02/10/2021, 20:12:01|Yorker trackpants...| 69% off|[https://rukminim...|       false|TKPFCZ9EHCNAPKPU|[{NULL, NULL, NUL...|Shyam Enterprises|          921|  Bottomwear|Solid Men Multico...|https://www.flipk...|\n+--------------------+------------+--------------+-----+--------------------+--------------------+--------------------+--------+--------------------+------------+----------------+--------------------+-----------------+-------------+------------+--------------------+--------------------+\nonly showing top 20 rows\n\n</div>",
       "datasetInfos": [],
       "metadata": {
        "isDbfsCommandResult": false
       },
       "removedWidgets": [],
       "type": "html"
      }
     },
     "output_type": "display_data"
    }
   ],
   "source": [
    "%scala\n",
    "df.show()"
   ]
  },
  {
   "cell_type": "code",
   "execution_count": 0,
   "metadata": {
    "application/vnd.databricks.v1+cell": {
     "cellMetadata": {
      "byteLimit": 2048000,
      "rowLimit": 10000
     },
     "inputWidgets": {},
     "nuid": "57808e1f-47c5-44de-bf0d-14bc201c22b5",
     "showTitle": false,
     "title": ""
    }
   },
   "outputs": [
    {
     "output_type": "display_data",
     "data": {
      "text/html": [
       "<style scoped>\n",
       "  .ansiout {\n",
       "    display: block;\n",
       "    unicode-bidi: embed;\n",
       "    white-space: pre-wrap;\n",
       "    word-wrap: break-word;\n",
       "    word-break: break-all;\n",
       "    font-family: \"Source Code Pro\", \"Menlo\", monospace;;\n",
       "    font-size: 13px;\n",
       "    color: #555;\n",
       "    margin-left: 4px;\n",
       "    line-height: 19px;\n",
       "  }\n",
       "</style>\n",
       "<div class=\"ansiout\">+--------------------+-----+\n",
       "        sub_category|count|\n",
       "+--------------------+-----+\n",
       "             Topwear|16575|\n",
       "          Bottomwear| 3862|\n",
       "         Winter Wear| 2753|\n",
       "Innerwear and Swi...| 1774|\n",
       "Clothing Accessories| 1760|\n",
       "+--------------------+-----+\n",
       "\n",
       "subcategory_count_df: org.apache.spark.sql.Dataset[org.apache.spark.sql.Row] = [sub_category: string, count: bigint]\n",
       "</div>"
      ]
     },
     "metadata": {
      "application/vnd.databricks.v1+output": {
       "addedWidgets": {},
       "arguments": {},
       "data": "<div class=\"ansiout\">+--------------------+-----+\n|        sub_category|count|\n+--------------------+-----+\n|             Topwear|16575|\n|          Bottomwear| 3862|\n|         Winter Wear| 2753|\n|Innerwear and Swi...| 1774|\n|Clothing Accessories| 1760|\n+--------------------+-----+\n\nsubcategory_count_df: org.apache.spark.sql.Dataset[org.apache.spark.sql.Row] = [sub_category: string, count: bigint]\n</div>",
       "datasetInfos": [
        {
         "name": "subcategory_count_df",
         "schema": {
          "fields": [
           {
            "metadata": {},
            "name": "sub_category",
            "nullable": true,
            "type": "string"
           },
           {
            "metadata": {},
            "name": "count",
            "nullable": false,
            "type": "long"
           }
          ],
          "type": "struct"
         },
         "tableIdentifier": null,
         "typeStr": "org.apache.spark.sql.Dataset[org.apache.spark.sql.Row]"
        }
       ],
       "metadata": {
        "isDbfsCommandResult": false
       },
       "removedWidgets": [],
       "type": "html"
      }
     },
     "output_type": "display_data"
    }
   ],
   "source": [
    "%scala\n",
    "val subcategory_count_df = df.filter(col(\"_id\").isNotNull and (col(\"_id\") =!= \"\"))\n",
    ".groupBy(\"sub_category\")\n",
    ".count().alias(\"count\")\n",
    ".sort(col(\"count\").desc)\n",
    ".limit(5)\n",
    "subcategory_count_df.show()"
   ]
  },
  {
   "cell_type": "code",
   "execution_count": 0,
   "metadata": {
    "application/vnd.databricks.v1+cell": {
     "cellMetadata": {
      "byteLimit": 2048000,
      "rowLimit": 10000
     },
     "inputWidgets": {},
     "nuid": "a012ed08-c63e-41c6-b9bf-8a9749b65a34",
     "showTitle": false,
     "title": ""
    }
   },
   "outputs": [
    {
     "output_type": "display_data",
     "data": {
      "text/html": [
       "<style scoped>\n",
       "  .ansiout {\n",
       "    display: block;\n",
       "    unicode-bidi: embed;\n",
       "    white-space: pre-wrap;\n",
       "    word-wrap: break-word;\n",
       "    word-break: break-all;\n",
       "    font-family: \"Source Code Pro\", \"Menlo\", monospace;;\n",
       "    font-size: 13px;\n",
       "    color: #555;\n",
       "    margin-left: 4px;\n",
       "    line-height: 19px;\n",
       "  }\n",
       "</style>\n",
       "<div class=\"ansiout\"></div>"
      ]
     },
     "metadata": {
      "application/vnd.databricks.v1+output": {
       "addedWidgets": {},
       "arguments": {},
       "data": "<div class=\"ansiout\"></div>",
       "datasetInfos": [],
       "metadata": {
        "isDbfsCommandResult": false
       },
       "removedWidgets": [],
       "type": "html"
      }
     },
     "output_type": "display_data"
    }
   ],
   "source": [
    "%scala\n",
    "subcategory_count_df.write.mode(\"overwrite\").format(\"delta\").save(\"/mnt/datalake/delta/subcategory_count\")"
   ]
  },
  {
   "cell_type": "code",
   "execution_count": 0,
   "metadata": {
    "application/vnd.databricks.v1+cell": {
     "cellMetadata": {
      "byteLimit": 2048000,
      "rowLimit": 10000
     },
     "inputWidgets": {},
     "nuid": "a92884b6-45dc-4ad5-95fa-2505948c52d1",
     "showTitle": false,
     "title": ""
    }
   },
   "outputs": [
    {
     "output_type": "display_data",
     "data": {
      "text/html": [
       "<style scoped>\n",
       "  .ansiout {\n",
       "    display: block;\n",
       "    unicode-bidi: embed;\n",
       "    white-space: pre-wrap;\n",
       "    word-wrap: break-word;\n",
       "    word-break: break-all;\n",
       "    font-family: \"Source Code Pro\", \"Menlo\", monospace;;\n",
       "    font-size: 13px;\n",
       "    color: #555;\n",
       "    margin-left: 4px;\n",
       "    line-height: 19px;\n",
       "  }\n",
       "</style>\n",
       "<div class=\"ansiout\">+--------------------+-----+\n",
       "        sub_category|count|\n",
       "+--------------------+-----+\n",
       "             Topwear|16575|\n",
       "          Bottomwear| 3862|\n",
       "         Winter Wear| 2753|\n",
       "Innerwear and Swi...| 1774|\n",
       "Clothing Accessories| 1760|\n",
       "+--------------------+-----+\n",
       "\n",
       "</div>"
      ]
     },
     "metadata": {
      "application/vnd.databricks.v1+output": {
       "addedWidgets": {},
       "arguments": {},
       "data": "<div class=\"ansiout\">+--------------------+-----+\n|        sub_category|count|\n+--------------------+-----+\n|             Topwear|16575|\n|          Bottomwear| 3862|\n|         Winter Wear| 2753|\n|Innerwear and Swi...| 1774|\n|Clothing Accessories| 1760|\n+--------------------+-----+\n\n</div>",
       "datasetInfos": [],
       "metadata": {
        "isDbfsCommandResult": false
       },
       "removedWidgets": [],
       "type": "html"
      }
     },
     "output_type": "display_data"
    }
   ],
   "source": [
    "%scala\n",
    "spark.read.format(\"delta\").load(\"/mnt/datalake/delta/subcategory_count\").show()"
   ]
  },
  {
   "cell_type": "markdown",
   "metadata": {
    "application/vnd.databricks.v1+cell": {
     "cellMetadata": {},
     "inputWidgets": {},
     "nuid": "0bc3d00a-2d8f-497f-9ff8-56006768e558",
     "showTitle": false,
     "title": ""
    }
   },
   "source": [
    "## Top 10 Sellers with the Largest Product Offerings"
   ]
  },
  {
   "cell_type": "code",
   "execution_count": 0,
   "metadata": {
    "application/vnd.databricks.v1+cell": {
     "cellMetadata": {
      "byteLimit": 2048000,
      "rowLimit": 10000
     },
     "inputWidgets": {},
     "nuid": "bc6613e5-512e-4e9f-89bb-1e25656c2342",
     "showTitle": false,
     "title": ""
    }
   },
   "outputs": [
    {
     "output_type": "display_data",
     "data": {
      "text/html": [
       "<style scoped>\n",
       "  .ansiout {\n",
       "    display: block;\n",
       "    unicode-bidi: embed;\n",
       "    white-space: pre-wrap;\n",
       "    word-wrap: break-word;\n",
       "    word-break: break-all;\n",
       "    font-family: \"Source Code Pro\", \"Menlo\", monospace;;\n",
       "    font-size: 13px;\n",
       "    color: #555;\n",
       "    margin-left: 4px;\n",
       "    line-height: 19px;\n",
       "  }\n",
       "</style>\n",
       "<div class=\"ansiout\">root\n",
       "-- _id: string (nullable = true)\n",
       "-- actual_price: string (nullable = true)\n",
       "-- average_rating: string (nullable = true)\n",
       "-- brand: string (nullable = true)\n",
       "-- category: string (nullable = true)\n",
       "-- crawled_at: string (nullable = true)\n",
       "-- description: string (nullable = true)\n",
       "-- discount: string (nullable = true)\n",
       "-- images: array (nullable = true)\n",
       "    |-- element: string (containsNull = true)\n",
       "-- out_of_stock: boolean (nullable = true)\n",
       "-- pid: string (nullable = true)\n",
       "-- product_details: array (nullable = true)\n",
       "    |-- element: struct (containsNull = true)\n",
       "    |    |--  : string (nullable = true)\n",
       "    |    |-- Alteration Required: string (nullable = true)\n",
       "    |    |-- Animal Source: string (nullable = true)\n",
       "    |    |-- Belt Loops: string (nullable = true)\n",
       "    |    |-- Bottom Fabric: string (nullable = true)\n",
       "    |    |-- Bottom Length: string (nullable = true)\n",
       "    |    |-- Bottom Type: string (nullable = true)\n",
       "    |    |-- Brand: string (nullable = true)\n",
       "    |    |-- Brand Color: string (nullable = true)\n",
       "    |    |-- Brand Fit: string (nullable = true)\n",
       "    |    |-- Bust in inch: string (nullable = true)\n",
       "    |    |-- Care Instructions: string (nullable = true)\n",
       "    |    |-- Care instructions: string (nullable = true)\n",
       "    |    |-- Character: string (nullable = true)\n",
       "    |    |-- Clasp Material: string (nullable = true)\n",
       "    |    |-- Clasp Type: string (nullable = true)\n",
       "    |    |-- Closure: string (nullable = true)\n",
       "    |    |-- Coat Type: string (nullable = true)\n",
       "    |    |-- Collar: string (nullable = true)\n",
       "    |    |-- Color: string (nullable = true)\n",
       "    |    |-- Country of Origin: string (nullable = true)\n",
       "    |    |-- Covered in Warranty: string (nullable = true)\n",
       "    |    |-- Cuff: string (nullable = true)\n",
       "    |    |-- Depth: string (nullable = true)\n",
       "    |    |-- Design: string (nullable = true)\n",
       "    |    |-- Distressed: string (nullable = true)\n",
       "    |    |-- Domestic Warranty: string (nullable = true)\n",
       "    |    |-- Dupatta Length: string (nullable = true)\n",
       "    |    |-- Fabric: string (nullable = true)\n",
       "    |    |-- Fabric Care: string (nullable = true)\n",
       "    |    |-- Fabric Details: string (nullable = true)\n",
       "    |    |-- Fabric care: string (nullable = true)\n",
       "    |    |-- Faded: string (nullable = true)\n",
       "    |    |-- Fastener: string (nullable = true)\n",
       "    |    |-- Fit: string (nullable = true)\n",
       "    |    |-- Fly: string (nullable = true)\n",
       "    |    |-- Foot Coverage: string (nullable = true)\n",
       "    |    |-- Generic Name: string (nullable = true)\n",
       "    |    |-- Heel Pattern: string (nullable = true)\n",
       "    |    |-- Height: string (nullable = true)\n",
       "    |    |-- Hem: string (nullable = true)\n",
       "    |    |-- Hip in inch: string (nullable = true)\n",
       "    |    |-- Hooded: string (nullable = true)\n",
       "    |    |-- Ideal For: string (nullable = true)\n",
       "    |    |-- Inner Material: string (nullable = true)\n",
       "    |    |-- Inseam Length: string (nullable = true)\n",
       "    |    |-- Inside Leg in inch: string (nullable = true)\n",
       "    |    |-- International Warranty: string (nullable = true)\n",
       "    |    |-- Knit Type: string (nullable = true)\n",
       "    |    |-- Leather Type: string (nullable = true)\n",
       "    |    |-- Length: string (nullable = true)\n",
       "    |    |-- Length Type: string (nullable = true)\n",
       "    |    |-- Length in inch: string (nullable = true)\n",
       "    |    |-- Lining: string (nullable = true)\n",
       "    |    |-- Lining Material: string (nullable = true)\n",
       "    |    |-- Material: string (nullable = true)\n",
       "    |    |-- Maximum Age: string (nullable = true)\n",
       "    |    |-- Minimum Age: string (nullable = true)\n",
       "    |    |-- Model Details: string (nullable = true)\n",
       "    |    |-- Model Name: string (nullable = true)\n",
       "    |    |-- Model Number: string (nullable = true)\n",
       "    |    |-- Neck: string (nullable = true)\n",
       "    |    |-- Neck Type: string (nullable = true)\n",
       "    |    |-- Not Covered in Warranty: string (nullable = true)\n",
       "    |    |-- Number of Contents in Sales Package: string (nullable = true)\n",
       "    |    |-- Occasion: string (nullable = true)\n",
       "    |    |-- Other Details: string (nullable = true)\n",
       "    |    |-- Other Dimensions: string (nullable = true)\n",
       "    |    |-- Other Features: string (nullable = true)\n",
       "    |    |-- Outer Material: string (nullable = true)\n",
       "    |    |-- Pack Of: string (nullable = true)\n",
       "    |    |-- Pack of: string (nullable = true)\n",
       "    |    |-- Package contains: string (nullable = true)\n",
       "    |    |-- Pattern: string (nullable = true)\n",
       "    |    |-- Placket: string (nullable = true)\n",
       "    |    |-- Pleated: string (nullable = true)\n",
       "    |    |-- Pleats: string (nullable = true)\n",
       "    |    |-- Pocket Type: string (nullable = true)\n",
       "    |    |-- Pockets: string (nullable = true)\n",
       "    |    |-- Region: string (nullable = true)\n",
       "    |    |-- Reversible: string (nullable = true)\n",
       "    |    |-- Rise: string (nullable = true)\n",
       "    |    |-- Rise in inch: string (nullable = true)\n",
       "    |    |-- Sales Package: string (nullable = true)\n",
       "    |    |-- School Shoe: string (nullable = true)\n",
       "    |    |-- Season: string (nullable = true)\n",
       "    |    |-- Secondary Color: string (nullable = true)\n",
       "    |    |-- Series: string (nullable = true)\n",
       "    |    |-- Shade: string (nullable = true)\n",
       "    |    |-- Shoe Length: string (nullable = true)\n",
       "    |    |-- Shoulder in inch: string (nullable = true)\n",
       "    |    |-- Size: string (nullable = true)\n",
       "    |    |-- Sleeve: string (nullable = true)\n",
       "    |    |-- Sleeve Type: string (nullable = true)\n",
       "    |    |-- Sleeve in inch: string (nullable = true)\n",
       "    |    |-- Sole Material: string (nullable = true)\n",
       "    |    |-- Speciality Footwear: string (nullable = true)\n",
       "    |    |-- Stitching Type: string (nullable = true)\n",
       "    |    |-- Strap Material: string (nullable = true)\n",
       "    |    |-- Stretchable: string (nullable = true)\n",
       "    |    |-- Style: string (nullable = true)\n",
       "    |    |-- Style Code: string (nullable = true)\n",
       "    |    |-- Suitable For: string (nullable = true)\n",
       "    |    |-- Tanning Process: string (nullable = true)\n",
       "    |    |-- Technology Used: string (nullable = true)\n",
       "    |    |-- Thigh in inch: string (nullable = true)\n",
       "    |    |-- Thumb Hole: string (nullable = true)\n",
       "    |    |-- Tip Shape: string (nullable = true)\n",
       "    |    |-- Top Closure: string (nullable = true)\n",
       "    |    |-- Top Fabric: string (nullable = true)\n",
       "    |    |-- Top Length: string (nullable = true)\n",
       "    |    |-- Top Type: string (nullable = true)\n",
       "    |    |-- Type: string (nullable = true)\n",
       "    |    |-- Type for Flats: string (nullable = true)\n",
       "    |    |-- Upper Pattern: string (nullable = true)\n",
       "    |    |-- Vents: string (nullable = true)\n",
       "    |    |-- Waist in inch: string (nullable = true)\n",
       "    |    |-- Waistband: string (nullable = true)\n",
       "    |    |-- Warranty Service Type: string (nullable = true)\n",
       "    |    |-- Warranty Summary: string (nullable = true)\n",
       "    |    |-- Weave Type: string (nullable = true)\n",
       "    |    |-- Weave type: string (nullable = true)\n",
       "    |    |-- Weight: string (nullable = true)\n",
       "    |    |-- Width: string (nullable = true)\n",
       "    |    |-- Width at Base: string (nullable = true)\n",
       "    |    |-- Width in inch: string (nullable = true)\n",
       "-- seller: string (nullable = true)\n",
       "-- selling_price: string (nullable = true)\n",
       "-- sub_category: string (nullable = true)\n",
       "-- title: string (nullable = true)\n",
       "-- url: string (nullable = true)\n",
       "\n",
       "</div>"
      ]
     },
     "metadata": {
      "application/vnd.databricks.v1+output": {
       "addedWidgets": {},
       "arguments": {},
       "data": "<div class=\"ansiout\">root\n |-- _id: string (nullable = true)\n |-- actual_price: string (nullable = true)\n |-- average_rating: string (nullable = true)\n |-- brand: string (nullable = true)\n |-- category: string (nullable = true)\n |-- crawled_at: string (nullable = true)\n |-- description: string (nullable = true)\n |-- discount: string (nullable = true)\n |-- images: array (nullable = true)\n |    |-- element: string (containsNull = true)\n |-- out_of_stock: boolean (nullable = true)\n |-- pid: string (nullable = true)\n |-- product_details: array (nullable = true)\n |    |-- element: struct (containsNull = true)\n |    |    |--  : string (nullable = true)\n |    |    |-- Alteration Required: string (nullable = true)\n |    |    |-- Animal Source: string (nullable = true)\n |    |    |-- Belt Loops: string (nullable = true)\n |    |    |-- Bottom Fabric: string (nullable = true)\n |    |    |-- Bottom Length: string (nullable = true)\n |    |    |-- Bottom Type: string (nullable = true)\n |    |    |-- Brand: string (nullable = true)\n |    |    |-- Brand Color: string (nullable = true)\n |    |    |-- Brand Fit: string (nullable = true)\n |    |    |-- Bust in inch: string (nullable = true)\n |    |    |-- Care Instructions: string (nullable = true)\n |    |    |-- Care instructions: string (nullable = true)\n |    |    |-- Character: string (nullable = true)\n |    |    |-- Clasp Material: string (nullable = true)\n |    |    |-- Clasp Type: string (nullable = true)\n |    |    |-- Closure: string (nullable = true)\n |    |    |-- Coat Type: string (nullable = true)\n |    |    |-- Collar: string (nullable = true)\n |    |    |-- Color: string (nullable = true)\n |    |    |-- Country of Origin: string (nullable = true)\n |    |    |-- Covered in Warranty: string (nullable = true)\n |    |    |-- Cuff: string (nullable = true)\n |    |    |-- Depth: string (nullable = true)\n |    |    |-- Design: string (nullable = true)\n |    |    |-- Distressed: string (nullable = true)\n |    |    |-- Domestic Warranty: string (nullable = true)\n |    |    |-- Dupatta Length: string (nullable = true)\n |    |    |-- Fabric: string (nullable = true)\n |    |    |-- Fabric Care: string (nullable = true)\n |    |    |-- Fabric Details: string (nullable = true)\n |    |    |-- Fabric care: string (nullable = true)\n |    |    |-- Faded: string (nullable = true)\n |    |    |-- Fastener: string (nullable = true)\n |    |    |-- Fit: string (nullable = true)\n |    |    |-- Fly: string (nullable = true)\n |    |    |-- Foot Coverage: string (nullable = true)\n |    |    |-- Generic Name: string (nullable = true)\n |    |    |-- Heel Pattern: string (nullable = true)\n |    |    |-- Height: string (nullable = true)\n |    |    |-- Hem: string (nullable = true)\n |    |    |-- Hip in inch: string (nullable = true)\n |    |    |-- Hooded: string (nullable = true)\n |    |    |-- Ideal For: string (nullable = true)\n |    |    |-- Inner Material: string (nullable = true)\n |    |    |-- Inseam Length: string (nullable = true)\n |    |    |-- Inside Leg in inch: string (nullable = true)\n |    |    |-- International Warranty: string (nullable = true)\n |    |    |-- Knit Type: string (nullable = true)\n |    |    |-- Leather Type: string (nullable = true)\n |    |    |-- Length: string (nullable = true)\n |    |    |-- Length Type: string (nullable = true)\n |    |    |-- Length in inch: string (nullable = true)\n |    |    |-- Lining: string (nullable = true)\n |    |    |-- Lining Material: string (nullable = true)\n |    |    |-- Material: string (nullable = true)\n |    |    |-- Maximum Age: string (nullable = true)\n |    |    |-- Minimum Age: string (nullable = true)\n |    |    |-- Model Details: string (nullable = true)\n |    |    |-- Model Name: string (nullable = true)\n |    |    |-- Model Number: string (nullable = true)\n |    |    |-- Neck: string (nullable = true)\n |    |    |-- Neck Type: string (nullable = true)\n |    |    |-- Not Covered in Warranty: string (nullable = true)\n |    |    |-- Number of Contents in Sales Package: string (nullable = true)\n |    |    |-- Occasion: string (nullable = true)\n |    |    |-- Other Details: string (nullable = true)\n |    |    |-- Other Dimensions: string (nullable = true)\n |    |    |-- Other Features: string (nullable = true)\n |    |    |-- Outer Material: string (nullable = true)\n |    |    |-- Pack Of: string (nullable = true)\n |    |    |-- Pack of: string (nullable = true)\n |    |    |-- Package contains: string (nullable = true)\n |    |    |-- Pattern: string (nullable = true)\n |    |    |-- Placket: string (nullable = true)\n |    |    |-- Pleated: string (nullable = true)\n |    |    |-- Pleats: string (nullable = true)\n |    |    |-- Pocket Type: string (nullable = true)\n |    |    |-- Pockets: string (nullable = true)\n |    |    |-- Region: string (nullable = true)\n |    |    |-- Reversible: string (nullable = true)\n |    |    |-- Rise: string (nullable = true)\n |    |    |-- Rise in inch: string (nullable = true)\n |    |    |-- Sales Package: string (nullable = true)\n |    |    |-- School Shoe: string (nullable = true)\n |    |    |-- Season: string (nullable = true)\n |    |    |-- Secondary Color: string (nullable = true)\n |    |    |-- Series: string (nullable = true)\n |    |    |-- Shade: string (nullable = true)\n |    |    |-- Shoe Length: string (nullable = true)\n |    |    |-- Shoulder in inch: string (nullable = true)\n |    |    |-- Size: string (nullable = true)\n |    |    |-- Sleeve: string (nullable = true)\n |    |    |-- Sleeve Type: string (nullable = true)\n |    |    |-- Sleeve in inch: string (nullable = true)\n |    |    |-- Sole Material: string (nullable = true)\n |    |    |-- Speciality Footwear: string (nullable = true)\n |    |    |-- Stitching Type: string (nullable = true)\n |    |    |-- Strap Material: string (nullable = true)\n |    |    |-- Stretchable: string (nullable = true)\n |    |    |-- Style: string (nullable = true)\n |    |    |-- Style Code: string (nullable = true)\n |    |    |-- Suitable For: string (nullable = true)\n |    |    |-- Tanning Process: string (nullable = true)\n |    |    |-- Technology Used: string (nullable = true)\n |    |    |-- Thigh in inch: string (nullable = true)\n |    |    |-- Thumb Hole: string (nullable = true)\n |    |    |-- Tip Shape: string (nullable = true)\n |    |    |-- Top Closure: string (nullable = true)\n |    |    |-- Top Fabric: string (nullable = true)\n |    |    |-- Top Length: string (nullable = true)\n |    |    |-- Top Type: string (nullable = true)\n |    |    |-- Type: string (nullable = true)\n |    |    |-- Type for Flats: string (nullable = true)\n |    |    |-- Upper Pattern: string (nullable = true)\n |    |    |-- Vents: string (nullable = true)\n |    |    |-- Waist in inch: string (nullable = true)\n |    |    |-- Waistband: string (nullable = true)\n |    |    |-- Warranty Service Type: string (nullable = true)\n |    |    |-- Warranty Summary: string (nullable = true)\n |    |    |-- Weave Type: string (nullable = true)\n |    |    |-- Weave type: string (nullable = true)\n |    |    |-- Weight: string (nullable = true)\n |    |    |-- Width: string (nullable = true)\n |    |    |-- Width at Base: string (nullable = true)\n |    |    |-- Width in inch: string (nullable = true)\n |-- seller: string (nullable = true)\n |-- selling_price: string (nullable = true)\n |-- sub_category: string (nullable = true)\n |-- title: string (nullable = true)\n |-- url: string (nullable = true)\n\n</div>",
       "datasetInfos": [],
       "metadata": {
        "isDbfsCommandResult": false
       },
       "removedWidgets": [],
       "type": "html"
      }
     },
     "output_type": "display_data"
    }
   ],
   "source": [
    "%scala\n",
    "df.printSchema()"
   ]
  },
  {
   "cell_type": "code",
   "execution_count": 0,
   "metadata": {
    "application/vnd.databricks.v1+cell": {
     "cellMetadata": {
      "byteLimit": 2048000,
      "rowLimit": 10000
     },
     "inputWidgets": {},
     "nuid": "e061f819-dcb3-48df-9a4a-602ff99eefce",
     "showTitle": false,
     "title": ""
    }
   },
   "outputs": [
    {
     "output_type": "display_data",
     "data": {
      "text/html": [
       "<style scoped>\n",
       "  .ansiout {\n",
       "    display: block;\n",
       "    unicode-bidi: embed;\n",
       "    white-space: pre-wrap;\n",
       "    word-wrap: break-word;\n",
       "    word-break: break-all;\n",
       "    font-family: \"Source Code Pro\", \"Menlo\", monospace;;\n",
       "    font-size: 13px;\n",
       "    color: #555;\n",
       "    margin-left: 4px;\n",
       "    line-height: 19px;\n",
       "  }\n",
       "</style>\n",
       "<div class=\"ansiout\">seller_count_df: org.apache.spark.sql.Dataset[org.apache.spark.sql.Row] = [seller: string, count: bigint]\n",
       "</div>"
      ]
     },
     "metadata": {
      "application/vnd.databricks.v1+output": {
       "addedWidgets": {},
       "arguments": {},
       "data": "<div class=\"ansiout\">seller_count_df: org.apache.spark.sql.Dataset[org.apache.spark.sql.Row] = [seller: string, count: bigint]\n</div>",
       "datasetInfos": [
        {
         "name": "seller_count_df",
         "schema": {
          "fields": [
           {
            "metadata": {},
            "name": "seller",
            "nullable": true,
            "type": "string"
           },
           {
            "metadata": {},
            "name": "count",
            "nullable": false,
            "type": "long"
           }
          ],
          "type": "struct"
         },
         "tableIdentifier": null,
         "typeStr": "org.apache.spark.sql.Dataset[org.apache.spark.sql.Row]"
        }
       ],
       "metadata": {
        "isDbfsCommandResult": false
       },
       "removedWidgets": [],
       "type": "html"
      }
     },
     "output_type": "display_data"
    }
   ],
   "source": [
    "%scala\n",
    "val seller_count_df = df.filter(col(\"_id\").isNotNull and (col(\"_id\") =!= \"\"))\n",
    ".filter(col(\"seller\").isNotNull && length(trim(col(\"seller\"))).gt(0))\n",
    ".groupBy(\"seller\")\n",
    ".count().alias(\"count\")\n",
    ".sort(col(\"count\").desc)\n",
    ".limit(10)\n"
   ]
  },
  {
   "cell_type": "code",
   "execution_count": 0,
   "metadata": {
    "application/vnd.databricks.v1+cell": {
     "cellMetadata": {
      "byteLimit": 2048000,
      "rowLimit": 10000
     },
     "inputWidgets": {},
     "nuid": "8ac7c30a-08bf-4399-91fd-ecf6525208ae",
     "showTitle": false,
     "title": ""
    }
   },
   "outputs": [
    {
     "output_type": "display_data",
     "data": {
      "text/html": [
       "<style scoped>\n",
       "  .ansiout {\n",
       "    display: block;\n",
       "    unicode-bidi: embed;\n",
       "    white-space: pre-wrap;\n",
       "    word-wrap: break-word;\n",
       "    word-break: break-all;\n",
       "    font-family: \"Source Code Pro\", \"Menlo\", monospace;;\n",
       "    font-size: 13px;\n",
       "    color: #555;\n",
       "    margin-left: 4px;\n",
       "    line-height: 19px;\n",
       "  }\n",
       "</style>\n",
       "<div class=\"ansiout\">+--------------------+-----+\n",
       "              seller|count|\n",
       "+--------------------+-----+\n",
       "           RetailNet| 1615|\n",
       "               ARBOR|  976|\n",
       "      SandSMarketing|  927|\n",
       "BioworldMerchandi...|  846|\n",
       "               Keoti|  668|\n",
       "         AFFGARMENTS|  623|\n",
       "        Black Beatle|  560|\n",
       "      ArvindTrueBlue|  528|\n",
       "  AMALGUS ENTERPRISE|  492|\n",
       "Tayab Manch Fashions|  489|\n",
       "+--------------------+-----+\n",
       "\n",
       "</div>"
      ]
     },
     "metadata": {
      "application/vnd.databricks.v1+output": {
       "addedWidgets": {},
       "arguments": {},
       "data": "<div class=\"ansiout\">+--------------------+-----+\n|              seller|count|\n+--------------------+-----+\n|           RetailNet| 1615|\n|               ARBOR|  976|\n|      SandSMarketing|  927|\n|BioworldMerchandi...|  846|\n|               Keoti|  668|\n|         AFFGARMENTS|  623|\n|        Black Beatle|  560|\n|      ArvindTrueBlue|  528|\n|  AMALGUS ENTERPRISE|  492|\n|Tayab Manch Fashions|  489|\n+--------------------+-----+\n\n</div>",
       "datasetInfos": [],
       "metadata": {
        "isDbfsCommandResult": false
       },
       "removedWidgets": [],
       "type": "html"
      }
     },
     "output_type": "display_data"
    }
   ],
   "source": [
    "%scala\n",
    "seller_count_df.show()"
   ]
  },
  {
   "cell_type": "code",
   "execution_count": 0,
   "metadata": {
    "application/vnd.databricks.v1+cell": {
     "cellMetadata": {
      "byteLimit": 2048000,
      "rowLimit": 10000
     },
     "inputWidgets": {},
     "nuid": "2fec553e-d5d5-40b3-a609-a7de1910e4af",
     "showTitle": false,
     "title": ""
    }
   },
   "outputs": [
    {
     "output_type": "display_data",
     "data": {
      "text/html": [
       "<style scoped>\n",
       "  .ansiout {\n",
       "    display: block;\n",
       "    unicode-bidi: embed;\n",
       "    white-space: pre-wrap;\n",
       "    word-wrap: break-word;\n",
       "    word-break: break-all;\n",
       "    font-family: \"Source Code Pro\", \"Menlo\", monospace;;\n",
       "    font-size: 13px;\n",
       "    color: #555;\n",
       "    margin-left: 4px;\n",
       "    line-height: 19px;\n",
       "  }\n",
       "</style>\n",
       "<div class=\"ansiout\"></div>"
      ]
     },
     "metadata": {
      "application/vnd.databricks.v1+output": {
       "addedWidgets": {},
       "arguments": {},
       "data": "<div class=\"ansiout\"></div>",
       "datasetInfos": [],
       "metadata": {
        "isDbfsCommandResult": false
       },
       "removedWidgets": [],
       "type": "html"
      }
     },
     "output_type": "display_data"
    }
   ],
   "source": [
    "%scala\n",
    "seller_count_df.write.mode(\"overwrite\").format(\"delta\").save(\"/mnt/datalake/delta/seller_count\")"
   ]
  },
  {
   "cell_type": "code",
   "execution_count": 0,
   "metadata": {
    "application/vnd.databricks.v1+cell": {
     "cellMetadata": {
      "byteLimit": 2048000,
      "rowLimit": 10000
     },
     "inputWidgets": {},
     "nuid": "ffefe21d-9d64-4594-be17-a06a7ae1bac0",
     "showTitle": false,
     "title": ""
    }
   },
   "outputs": [
    {
     "output_type": "display_data",
     "data": {
      "text/html": [
       "<style scoped>\n",
       "  .ansiout {\n",
       "    display: block;\n",
       "    unicode-bidi: embed;\n",
       "    white-space: pre-wrap;\n",
       "    word-wrap: break-word;\n",
       "    word-break: break-all;\n",
       "    font-family: \"Source Code Pro\", \"Menlo\", monospace;;\n",
       "    font-size: 13px;\n",
       "    color: #555;\n",
       "    margin-left: 4px;\n",
       "    line-height: 19px;\n",
       "  }\n",
       "</style>\n",
       "<div class=\"ansiout\">+--------------------+-----+\n",
       "              seller|count|\n",
       "+--------------------+-----+\n",
       "           RetailNet| 1615|\n",
       "               ARBOR|  976|\n",
       "      SandSMarketing|  927|\n",
       "BioworldMerchandi...|  846|\n",
       "               Keoti|  668|\n",
       "         AFFGARMENTS|  623|\n",
       "        Black Beatle|  560|\n",
       "      ArvindTrueBlue|  528|\n",
       "  AMALGUS ENTERPRISE|  492|\n",
       "Tayab Manch Fashions|  489|\n",
       "+--------------------+-----+\n",
       "\n",
       "</div>"
      ]
     },
     "metadata": {
      "application/vnd.databricks.v1+output": {
       "addedWidgets": {},
       "arguments": {},
       "data": "<div class=\"ansiout\">+--------------------+-----+\n|              seller|count|\n+--------------------+-----+\n|           RetailNet| 1615|\n|               ARBOR|  976|\n|      SandSMarketing|  927|\n|BioworldMerchandi...|  846|\n|               Keoti|  668|\n|         AFFGARMENTS|  623|\n|        Black Beatle|  560|\n|      ArvindTrueBlue|  528|\n|  AMALGUS ENTERPRISE|  492|\n|Tayab Manch Fashions|  489|\n+--------------------+-----+\n\n</div>",
       "datasetInfos": [],
       "metadata": {
        "isDbfsCommandResult": false
       },
       "removedWidgets": [],
       "type": "html"
      }
     },
     "output_type": "display_data"
    }
   ],
   "source": [
    "%scala\n",
    "spark.read.format(\"delta\").load(\"/mnt/datalake/delta/seller_count\").show()"
   ]
  },
  {
   "cell_type": "code",
   "execution_count": 0,
   "metadata": {
    "application/vnd.databricks.v1+cell": {
     "cellMetadata": {},
     "inputWidgets": {},
     "nuid": "174156f3-389b-4679-88ca-71b6884b8340",
     "showTitle": false,
     "title": ""
    }
   },
   "outputs": [],
   "source": []
  }
 ],
 "metadata": {
  "application/vnd.databricks.v1+notebook": {
   "dashboards": [],
   "language": "python",
   "notebookMetadata": {
    "mostRecentlyExecutedCommandWithImplicitDF": {
     "commandId": 3754703242820382,
     "dataframes": [
      "_sqldf"
     ]
    },
    "pythonIndentUnit": 4
   },
   "notebookName": "Flipkart Ecommerce Analysis",
   "widgets": {}
  }
 },
 "nbformat": 4,
 "nbformat_minor": 0
}
