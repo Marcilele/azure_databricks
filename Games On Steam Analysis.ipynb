{
 "cells": [
  {
   "cell_type": "code",
   "execution_count": 0,
   "metadata": {
    "application/vnd.databricks.v1+cell": {
     "cellMetadata": {
      "byteLimit": 2048000,
      "rowLimit": 10000
     },
     "inputWidgets": {},
     "nuid": "76e78759-210e-4215-80ab-103f6d51c38f",
     "showTitle": false,
     "title": ""
    }
   },
   "outputs": [
    {
     "output_type": "display_data",
     "data": {
      "text/html": [
       "<style scoped>\n",
       "  .table-result-container {\n",
       "    max-height: 300px;\n",
       "    overflow: auto;\n",
       "  }\n",
       "  table, th, td {\n",
       "    border: 1px solid black;\n",
       "    border-collapse: collapse;\n",
       "  }\n",
       "  th, td {\n",
       "    padding: 5px;\n",
       "  }\n",
       "  th {\n",
       "    text-align: left;\n",
       "  }\n",
       "</style><div class='table-result-container'><table class='table-result'><thead style='background-color: white'><tr><th>path</th><th>name</th><th>size</th><th>modificationTime</th></tr></thead><tbody><tr><td>abfss://datalake@datalakegen2storagelele.dfs.core.windows.net/delta/</td><td>delta/</td><td>0</td><td>1697997388000</td></tr><tr><td>abfss://datalake@datalakegen2storagelele.dfs.core.windows.net/example/</td><td>example/</td><td>0</td><td>1697901489000</td></tr></tbody></table></div>"
      ]
     },
     "metadata": {
      "application/vnd.databricks.v1+output": {
       "addedWidgets": {},
       "aggData": [],
       "aggError": "",
       "aggOverflow": false,
       "aggSchema": [],
       "aggSeriesLimitReached": false,
       "aggType": "",
       "arguments": {},
       "columnCustomDisplayInfos": {},
       "data": [
        [
         "abfss://datalake@datalakegen2storagelele.dfs.core.windows.net/delta/",
         "delta/",
         0,
         1697997388000
        ],
        [
         "abfss://datalake@datalakegen2storagelele.dfs.core.windows.net/example/",
         "example/",
         0,
         1697901489000
        ]
       ],
       "datasetInfos": [],
       "dbfsResultPath": null,
       "isJsonSchema": true,
       "metadata": {
        "isDbfsCommandResult": false
       },
       "overflow": false,
       "plotOptions": {
        "customPlotOptions": {},
        "displayType": "table",
        "pivotAggregation": null,
        "pivotColumns": null,
        "xColumns": null,
        "yColumns": null
       },
       "removedWidgets": [],
       "schema": [
        {
         "metadata": "{}",
         "name": "path",
         "type": "\"string\""
        },
        {
         "metadata": "{}",
         "name": "name",
         "type": "\"string\""
        },
        {
         "metadata": "{}",
         "name": "size",
         "type": "\"long\""
        },
        {
         "metadata": "{}",
         "name": "modificationTime",
         "type": "\"long\""
        }
       ],
       "type": "table"
      }
     },
     "output_type": "display_data"
    }
   ],
   "source": [
    "%fs ls abfss://datalake@datalakegen2storagelele.dfs.core.windows.net"
   ]
  },
  {
   "cell_type": "code",
   "execution_count": 0,
   "metadata": {
    "application/vnd.databricks.v1+cell": {
     "cellMetadata": {
      "byteLimit": 2048000,
      "rowLimit": 10000
     },
     "inputWidgets": {},
     "nuid": "f8126952-a3e2-4526-8282-f812b1a9f7c8",
     "showTitle": false,
     "title": ""
    }
   },
   "outputs": [
    {
     "output_type": "display_data",
     "data": {
      "text/html": [
       "<style scoped>\n",
       "  .table-result-container {\n",
       "    max-height: 300px;\n",
       "    overflow: auto;\n",
       "  }\n",
       "  table, th, td {\n",
       "    border: 1px solid black;\n",
       "    border-collapse: collapse;\n",
       "  }\n",
       "  th, td {\n",
       "    padding: 5px;\n",
       "  }\n",
       "  th {\n",
       "    text-align: left;\n",
       "  }\n",
       "</style><div class='table-result-container'><table class='table-result'><thead style='background-color: white'><tr><th>path</th><th>name</th><th>size</th><th>modificationTime</th></tr></thead><tbody><tr><td>dbfs:/mnt/datalake/example/games/games.csv</td><td>games.csv</td><td>4835545</td><td>1698006177000</td></tr><tr><td>dbfs:/mnt/datalake/example/games/games_metadata.json</td><td>games_metadata.json</td><td>17836350</td><td>1698006188000</td></tr><tr><td>dbfs:/mnt/datalake/example/games/recommendations.csv</td><td>recommendations.csv</td><td>1858800401</td><td>1698006438000</td></tr><tr><td>dbfs:/mnt/datalake/example/games/users.csv</td><td>users.csv</td><td>183760643</td><td>1698006222000</td></tr></tbody></table></div>"
      ]
     },
     "metadata": {
      "application/vnd.databricks.v1+output": {
       "addedWidgets": {},
       "aggData": [],
       "aggError": "",
       "aggOverflow": false,
       "aggSchema": [],
       "aggSeriesLimitReached": false,
       "aggType": "",
       "arguments": {},
       "columnCustomDisplayInfos": {},
       "data": [
        [
         "dbfs:/mnt/datalake/example/games/games.csv",
         "games.csv",
         4835545,
         1698006177000
        ],
        [
         "dbfs:/mnt/datalake/example/games/games_metadata.json",
         "games_metadata.json",
         17836350,
         1698006188000
        ],
        [
         "dbfs:/mnt/datalake/example/games/recommendations.csv",
         "recommendations.csv",
         1858800401,
         1698006438000
        ],
        [
         "dbfs:/mnt/datalake/example/games/users.csv",
         "users.csv",
         183760643,
         1698006222000
        ]
       ],
       "datasetInfos": [],
       "dbfsResultPath": null,
       "isJsonSchema": true,
       "metadata": {
        "isDbfsCommandResult": false
       },
       "overflow": false,
       "plotOptions": {
        "customPlotOptions": {},
        "displayType": "table",
        "pivotAggregation": null,
        "pivotColumns": null,
        "xColumns": null,
        "yColumns": null
       },
       "removedWidgets": [],
       "schema": [
        {
         "metadata": "{}",
         "name": "path",
         "type": "\"string\""
        },
        {
         "metadata": "{}",
         "name": "name",
         "type": "\"string\""
        },
        {
         "metadata": "{}",
         "name": "size",
         "type": "\"long\""
        },
        {
         "metadata": "{}",
         "name": "modificationTime",
         "type": "\"long\""
        }
       ],
       "type": "table"
      }
     },
     "output_type": "display_data"
    }
   ],
   "source": [
    "%fs ls /mnt/datalake/example/games"
   ]
  },
  {
   "cell_type": "markdown",
   "metadata": {
    "application/vnd.databricks.v1+cell": {
     "cellMetadata": {},
     "inputWidgets": {},
     "nuid": "450ab5df-e79a-4e16-899f-41a2b87d5f5f",
     "showTitle": false,
     "title": ""
    }
   },
   "source": [
    "## Annual Game Release Count\n"
   ]
  },
  {
   "cell_type": "code",
   "execution_count": 0,
   "metadata": {
    "application/vnd.databricks.v1+cell": {
     "cellMetadata": {
      "byteLimit": 2048000,
      "rowLimit": 10000
     },
     "inputWidgets": {},
     "nuid": "cf5d96b8-73db-47e1-b01f-a9c0a17e84c5",
     "showTitle": false,
     "title": ""
    }
   },
   "outputs": [
    {
     "output_type": "display_data",
     "data": {
      "text/html": [
       "<style scoped>\n",
       "  .ansiout {\n",
       "    display: block;\n",
       "    unicode-bidi: embed;\n",
       "    white-space: pre-wrap;\n",
       "    word-wrap: break-word;\n",
       "    word-break: break-all;\n",
       "    font-family: \"Source Code Pro\", \"Menlo\", monospace;;\n",
       "    font-size: 13px;\n",
       "    color: #555;\n",
       "    margin-left: 4px;\n",
       "    line-height: 19px;\n",
       "  }\n",
       "</style>\n",
       "<div class=\"ansiout\">+------+--------------------+------------+----+-----+-----+---------------+--------------+------------+-----------+--------------+--------+----------+\n",
       "app_id|               title|date_release| win|  mac|linux|         rating|positive_ratio|user_reviews|price_final|price_original|discount|steam_deck|\n",
       "+------+--------------------+------------+----+-----+-----+---------------+--------------+------------+-----------+--------------+--------+----------+\n",
       " 13500|Prince of Persia:...|  2008-11-21|true|false|false|  Very Positive|            84|        2199|       9.99|          9.99|     0.0|      true|\n",
       " 22364|BRINK: Agents of ...|  2011-08-03|true|false|false|       Positive|            85|          21|       2.99|          2.99|     0.0|      true|\n",
       "113020|Monaco: What's Yo...|  2013-04-24|true| true| true|  Very Positive|            92|        3722|      14.99|         14.99|     0.0|      true|\n",
       "226560|  Escape Dead Island|  2014-11-18|true|false|false|          Mixed|            61|         873|      14.99|         14.99|     0.0|      true|\n",
       "249050|Dungeon of the EN...|  2014-10-27|true| true|false|  Very Positive|            88|        8784|      11.99|         11.99|     0.0|      true|\n",
       "250180|        METAL SLUG 3|  2015-09-14|true|false|false|  Very Positive|            90|        5579|       7.99|          7.99|     0.0|      true|\n",
       "253980|             Enclave|  2013-10-04|true| true| true|Mostly Positive|            75|        1608|       4.99|          4.99|     0.0|      true|\n",
       "271850|Men of War: Assau...|  2014-05-16|true|false|false|          Mixed|            61|         199|       6.99|          6.99|     0.0|      true|\n",
       "282900|Hyperdimension Ne...|  2015-01-29|true|false|false|  Very Positive|            94|        9686|      14.99|         14.99|     0.0|      true|\n",
       " 19810|The Sum of All Fears|  2008-10-10|true|false|false|Mostly Positive|            75|          33|       9.99|          9.99|     0.0|      true|\n",
       " 15270|          Cold Fear™|  2008-05-13|true|false|false|  Very Positive|            85|         800|       9.99|          9.99|     0.0|      true|\n",
       " 21130|LEGO® Harry Potte...|  2010-06-25|true|false|false|  Very Positive|            85|        5169|      19.99|         19.99|     0.0|      true|\n",
       " 22130|Hearts of Iron 2 ...|  2009-01-23|true|false|false|  Very Positive|            85|         462|      14.99|         14.99|     0.0|      true|\n",
       " 29180|               Osmos|  2009-08-18|true| true| true|  Very Positive|            88|         532|       9.99|          9.99|     0.0|      true|\n",
       " 32750|          Comanche 4|  2009-06-18|true|false|false|  Very Positive|            90|         222|       9.99|          9.99|     0.0|      true|\n",
       "241620|          Inquisitor|  2013-08-01|true|false|false|Mostly Positive|            70|         390|       9.99|          9.99|     0.0|      true|\n",
       "244910|            Homesick|  2015-05-28|true|false|false|Mostly Positive|            77|        1139|      14.99|         14.99|     0.0|      true|\n",
       "245950|Borderlands 2: He...|  2014-02-11|true| true| true|  Very Positive|            84|         294|       0.89|          2.99|    70.0|      true|\n",
       "250460|  Bridge Constructor|  2013-10-16|true| true| true|Mostly Positive|            77|         716|       2.39|         19.99|    88.0|      true|\n",
       "278890|              Angvik|  2014-02-24|true| true|false|  Very Positive|            88|        1986|       2.99|          2.99|     0.0|      true|\n",
       "+------+--------------------+------------+----+-----+-----+---------------+--------------+------------+-----------+--------------+--------+----------+\n",
       "only showing top 20 rows\n",
       "\n",
       "df: org.apache.spark.sql.DataFrame = [app_id: string, title: string ... 11 more fields]\n",
       "</div>"
      ]
     },
     "metadata": {
      "application/vnd.databricks.v1+output": {
       "addedWidgets": {},
       "arguments": {},
       "data": "<div class=\"ansiout\">+------+--------------------+------------+----+-----+-----+---------------+--------------+------------+-----------+--------------+--------+----------+\n|app_id|               title|date_release| win|  mac|linux|         rating|positive_ratio|user_reviews|price_final|price_original|discount|steam_deck|\n+------+--------------------+------------+----+-----+-----+---------------+--------------+------------+-----------+--------------+--------+----------+\n| 13500|Prince of Persia:...|  2008-11-21|true|false|false|  Very Positive|            84|        2199|       9.99|          9.99|     0.0|      true|\n| 22364|BRINK: Agents of ...|  2011-08-03|true|false|false|       Positive|            85|          21|       2.99|          2.99|     0.0|      true|\n|113020|Monaco: What's Yo...|  2013-04-24|true| true| true|  Very Positive|            92|        3722|      14.99|         14.99|     0.0|      true|\n|226560|  Escape Dead Island|  2014-11-18|true|false|false|          Mixed|            61|         873|      14.99|         14.99|     0.0|      true|\n|249050|Dungeon of the EN...|  2014-10-27|true| true|false|  Very Positive|            88|        8784|      11.99|         11.99|     0.0|      true|\n|250180|        METAL SLUG 3|  2015-09-14|true|false|false|  Very Positive|            90|        5579|       7.99|          7.99|     0.0|      true|\n|253980|             Enclave|  2013-10-04|true| true| true|Mostly Positive|            75|        1608|       4.99|          4.99|     0.0|      true|\n|271850|Men of War: Assau...|  2014-05-16|true|false|false|          Mixed|            61|         199|       6.99|          6.99|     0.0|      true|\n|282900|Hyperdimension Ne...|  2015-01-29|true|false|false|  Very Positive|            94|        9686|      14.99|         14.99|     0.0|      true|\n| 19810|The Sum of All Fears|  2008-10-10|true|false|false|Mostly Positive|            75|          33|       9.99|          9.99|     0.0|      true|\n| 15270|          Cold Fear™|  2008-05-13|true|false|false|  Very Positive|            85|         800|       9.99|          9.99|     0.0|      true|\n| 21130|LEGO® Harry Potte...|  2010-06-25|true|false|false|  Very Positive|            85|        5169|      19.99|         19.99|     0.0|      true|\n| 22130|Hearts of Iron 2 ...|  2009-01-23|true|false|false|  Very Positive|            85|         462|      14.99|         14.99|     0.0|      true|\n| 29180|               Osmos|  2009-08-18|true| true| true|  Very Positive|            88|         532|       9.99|          9.99|     0.0|      true|\n| 32750|          Comanche 4|  2009-06-18|true|false|false|  Very Positive|            90|         222|       9.99|          9.99|     0.0|      true|\n|241620|          Inquisitor|  2013-08-01|true|false|false|Mostly Positive|            70|         390|       9.99|          9.99|     0.0|      true|\n|244910|            Homesick|  2015-05-28|true|false|false|Mostly Positive|            77|        1139|      14.99|         14.99|     0.0|      true|\n|245950|Borderlands 2: He...|  2014-02-11|true| true| true|  Very Positive|            84|         294|       0.89|          2.99|    70.0|      true|\n|250460|  Bridge Constructor|  2013-10-16|true| true| true|Mostly Positive|            77|         716|       2.39|         19.99|    88.0|      true|\n|278890|              Angvik|  2014-02-24|true| true|false|  Very Positive|            88|        1986|       2.99|          2.99|     0.0|      true|\n+------+--------------------+------------+----+-----+-----+---------------+--------------+------------+-----------+--------------+--------+----------+\nonly showing top 20 rows\n\ndf: org.apache.spark.sql.DataFrame = [app_id: string, title: string ... 11 more fields]\n</div>",
       "datasetInfos": [
        {
         "name": "df",
         "schema": {
          "fields": [
           {
            "metadata": {},
            "name": "app_id",
            "nullable": true,
            "type": "string"
           },
           {
            "metadata": {},
            "name": "title",
            "nullable": true,
            "type": "string"
           },
           {
            "metadata": {},
            "name": "date_release",
            "nullable": true,
            "type": "string"
           },
           {
            "metadata": {},
            "name": "win",
            "nullable": true,
            "type": "string"
           },
           {
            "metadata": {},
            "name": "mac",
            "nullable": true,
            "type": "string"
           },
           {
            "metadata": {},
            "name": "linux",
            "nullable": true,
            "type": "string"
           },
           {
            "metadata": {},
            "name": "rating",
            "nullable": true,
            "type": "string"
           },
           {
            "metadata": {},
            "name": "positive_ratio",
            "nullable": true,
            "type": "string"
           },
           {
            "metadata": {},
            "name": "user_reviews",
            "nullable": true,
            "type": "string"
           },
           {
            "metadata": {},
            "name": "price_final",
            "nullable": true,
            "type": "string"
           },
           {
            "metadata": {},
            "name": "price_original",
            "nullable": true,
            "type": "string"
           },
           {
            "metadata": {},
            "name": "discount",
            "nullable": true,
            "type": "string"
           },
           {
            "metadata": {},
            "name": "steam_deck",
            "nullable": true,
            "type": "string"
           }
          ],
          "type": "struct"
         },
         "tableIdentifier": null,
         "typeStr": "org.apache.spark.sql.DataFrame"
        }
       ],
       "metadata": {
        "isDbfsCommandResult": false
       },
       "removedWidgets": [],
       "type": "html"
      }
     },
     "output_type": "display_data"
    }
   ],
   "source": [
    "%scala\n",
    "val df = spark.read.format(\"csv\")\n",
    ".option(\"header\", \"true\")\n",
    ".option(\"delimiter\", \",\")\n",
    ".load(\"dbfs:/mnt/datalake/example/games/games.csv\")\n",
    "df.show()"
   ]
  },
  {
   "cell_type": "code",
   "execution_count": 0,
   "metadata": {
    "application/vnd.databricks.v1+cell": {
     "cellMetadata": {
      "byteLimit": 2048000,
      "rowLimit": 10000
     },
     "inputWidgets": {},
     "nuid": "61f39d25-553d-462a-bf27-af33417efcf7",
     "showTitle": false,
     "title": ""
    }
   },
   "outputs": [
    {
     "output_type": "display_data",
     "data": {
      "text/html": [
       "<style scoped>\n",
       "  .ansiout {\n",
       "    display: block;\n",
       "    unicode-bidi: embed;\n",
       "    white-space: pre-wrap;\n",
       "    word-wrap: break-word;\n",
       "    word-break: break-all;\n",
       "    font-family: \"Source Code Pro\", \"Menlo\", monospace;;\n",
       "    font-size: 13px;\n",
       "    color: #555;\n",
       "    margin-left: 4px;\n",
       "    line-height: 19px;\n",
       "  }\n",
       "</style>\n",
       "<div class=\"ansiout\">root\n",
       "-- app_id: string (nullable = true)\n",
       "-- title: string (nullable = true)\n",
       "-- date_release: string (nullable = true)\n",
       "-- win: string (nullable = true)\n",
       "-- mac: string (nullable = true)\n",
       "-- linux: string (nullable = true)\n",
       "-- rating: string (nullable = true)\n",
       "-- positive_ratio: string (nullable = true)\n",
       "-- user_reviews: string (nullable = true)\n",
       "-- price_final: string (nullable = true)\n",
       "-- price_original: string (nullable = true)\n",
       "-- discount: string (nullable = true)\n",
       "-- steam_deck: string (nullable = true)\n",
       "\n",
       "</div>"
      ]
     },
     "metadata": {
      "application/vnd.databricks.v1+output": {
       "addedWidgets": {},
       "arguments": {},
       "data": "<div class=\"ansiout\">root\n |-- app_id: string (nullable = true)\n |-- title: string (nullable = true)\n |-- date_release: string (nullable = true)\n |-- win: string (nullable = true)\n |-- mac: string (nullable = true)\n |-- linux: string (nullable = true)\n |-- rating: string (nullable = true)\n |-- positive_ratio: string (nullable = true)\n |-- user_reviews: string (nullable = true)\n |-- price_final: string (nullable = true)\n |-- price_original: string (nullable = true)\n |-- discount: string (nullable = true)\n |-- steam_deck: string (nullable = true)\n\n</div>",
       "datasetInfos": [],
       "metadata": {
        "isDbfsCommandResult": false
       },
       "removedWidgets": [],
       "type": "html"
      }
     },
     "output_type": "display_data"
    }
   ],
   "source": [
    "%scala\n",
    "df.printSchema()"
   ]
  },
  {
   "cell_type": "code",
   "execution_count": 0,
   "metadata": {
    "application/vnd.databricks.v1+cell": {
     "cellMetadata": {
      "byteLimit": 2048000,
      "rowLimit": 10000
     },
     "inputWidgets": {},
     "nuid": "4ee37e59-3d81-4219-9fda-4d9e2047d4c5",
     "showTitle": false,
     "title": ""
    }
   },
   "outputs": [
    {
     "output_type": "display_data",
     "data": {
      "text/html": [
       "<style scoped>\n",
       "  .ansiout {\n",
       "    display: block;\n",
       "    unicode-bidi: embed;\n",
       "    white-space: pre-wrap;\n",
       "    word-wrap: break-word;\n",
       "    word-break: break-all;\n",
       "    font-family: \"Source Code Pro\", \"Menlo\", monospace;;\n",
       "    font-size: 13px;\n",
       "    color: #555;\n",
       "    margin-left: 4px;\n",
       "    line-height: 19px;\n",
       "  }\n",
       "</style>\n",
       "<div class=\"ansiout\">import org.apache.spark.sql.functions._\n",
       "</div>"
      ]
     },
     "metadata": {
      "application/vnd.databricks.v1+output": {
       "addedWidgets": {},
       "arguments": {},
       "data": "<div class=\"ansiout\">import org.apache.spark.sql.functions._\n</div>",
       "datasetInfos": [],
       "metadata": {
        "isDbfsCommandResult": false
       },
       "removedWidgets": [],
       "type": "html"
      }
     },
     "output_type": "display_data"
    }
   ],
   "source": [
    "%scala\n",
    "import org.apache.spark.sql.functions._"
   ]
  },
  {
   "cell_type": "code",
   "execution_count": 0,
   "metadata": {
    "application/vnd.databricks.v1+cell": {
     "cellMetadata": {
      "byteLimit": 2048000,
      "rowLimit": 10000
     },
     "inputWidgets": {},
     "nuid": "a236b78e-b685-4c7d-8727-10243be113e8",
     "showTitle": false,
     "title": ""
    }
   },
   "outputs": [
    {
     "output_type": "display_data",
     "data": {
      "text/html": [
       "<style scoped>\n",
       "  .ansiout {\n",
       "    display: block;\n",
       "    unicode-bidi: embed;\n",
       "    white-space: pre-wrap;\n",
       "    word-wrap: break-word;\n",
       "    word-break: break-all;\n",
       "    font-family: \"Source Code Pro\", \"Menlo\", monospace;;\n",
       "    font-size: 13px;\n",
       "    color: #555;\n",
       "    margin-left: 4px;\n",
       "    line-height: 19px;\n",
       "  }\n",
       "</style>\n",
       "<div class=\"ansiout\">+----+-----+\n",
       "year|count|\n",
       "+----+-----+\n",
       "2022| 7271|\n",
       "2021| 6776|\n",
       "2020| 6138|\n",
       "2018| 5462|\n",
       "2019| 5057|\n",
       "2017| 4990|\n",
       "2016| 4210|\n",
       "2023| 3103|\n",
       "2015| 2963|\n",
       "2014| 1921|\n",
       "2013|  822|\n",
       "2012|  565|\n",
       "2011|  376|\n",
       "2009|  322|\n",
       "2010|  284|\n",
       "2008|  146|\n",
       "2007|   82|\n",
       "2006|   56|\n",
       "2004|    4|\n",
       "2005|    3|\n",
       "+----+-----+\n",
       "only showing top 20 rows\n",
       "\n",
       "annual_release_count: org.apache.spark.sql.Dataset[org.apache.spark.sql.Row] = [year: int, count: bigint]\n",
       "</div>"
      ]
     },
     "metadata": {
      "application/vnd.databricks.v1+output": {
       "addedWidgets": {},
       "arguments": {},
       "data": "<div class=\"ansiout\">+----+-----+\n|year|count|\n+----+-----+\n|2022| 7271|\n|2021| 6776|\n|2020| 6138|\n|2018| 5462|\n|2019| 5057|\n|2017| 4990|\n|2016| 4210|\n|2023| 3103|\n|2015| 2963|\n|2014| 1921|\n|2013|  822|\n|2012|  565|\n|2011|  376|\n|2009|  322|\n|2010|  284|\n|2008|  146|\n|2007|   82|\n|2006|   56|\n|2004|    4|\n|2005|    3|\n+----+-----+\nonly showing top 20 rows\n\nannual_release_count: org.apache.spark.sql.Dataset[org.apache.spark.sql.Row] = [year: int, count: bigint]\n</div>",
       "datasetInfos": [
        {
         "name": "annual_release_count",
         "schema": {
          "fields": [
           {
            "metadata": {},
            "name": "year",
            "nullable": true,
            "type": "integer"
           },
           {
            "metadata": {},
            "name": "count",
            "nullable": false,
            "type": "long"
           }
          ],
          "type": "struct"
         },
         "tableIdentifier": null,
         "typeStr": "org.apache.spark.sql.Dataset[org.apache.spark.sql.Row]"
        }
       ],
       "metadata": {
        "isDbfsCommandResult": false
       },
       "removedWidgets": [],
       "type": "html"
      }
     },
     "output_type": "display_data"
    }
   ],
   "source": [
    "%scala\n",
    "val annual_release_count = df.filter(col(\"app_id\").isNotNull and (col(\"app_id\") =!= \"\"))\n",
    ".groupBy(year(to_date(col(\"date_release\"), \"yyyy-MM-dd\")).as(\"year\"))\n",
    ".agg(count(\"*\").alias(\"count\"))\n",
    ".sort(col(\"count\").desc)\n",
    "\n",
    "annual_release_count.show()"
   ]
  },
  {
   "cell_type": "code",
   "execution_count": 0,
   "metadata": {
    "application/vnd.databricks.v1+cell": {
     "cellMetadata": {
      "byteLimit": 2048000,
      "rowLimit": 10000
     },
     "inputWidgets": {},
     "nuid": "b48b1ae0-c7f4-4d4b-b0c9-ab21cc775bdc",
     "showTitle": false,
     "title": ""
    }
   },
   "outputs": [
    {
     "output_type": "display_data",
     "data": {
      "text/html": [
       "<style scoped>\n",
       "  .ansiout {\n",
       "    display: block;\n",
       "    unicode-bidi: embed;\n",
       "    white-space: pre-wrap;\n",
       "    word-wrap: break-word;\n",
       "    word-break: break-all;\n",
       "    font-family: \"Source Code Pro\", \"Menlo\", monospace;;\n",
       "    font-size: 13px;\n",
       "    color: #555;\n",
       "    margin-left: 4px;\n",
       "    line-height: 19px;\n",
       "  }\n",
       "</style>\n",
       "<div class=\"ansiout\"></div>"
      ]
     },
     "metadata": {
      "application/vnd.databricks.v1+output": {
       "addedWidgets": {},
       "arguments": {},
       "data": "<div class=\"ansiout\"></div>",
       "datasetInfos": [],
       "metadata": {
        "isDbfsCommandResult": false
       },
       "removedWidgets": [],
       "type": "html"
      }
     },
     "output_type": "display_data"
    }
   ],
   "source": [
    "%scala\n",
    "annual_release_count.write.format(\"delta\").mode(\"overwrite\").save(\"/mnt/datalake/delta/games/annual_release_count\")"
   ]
  },
  {
   "cell_type": "markdown",
   "metadata": {
    "application/vnd.databricks.v1+cell": {
     "cellMetadata": {},
     "inputWidgets": {},
     "nuid": "035b0f38-4132-43b5-afc2-5ce96336f8ed",
     "showTitle": false,
     "title": ""
    }
   },
   "source": [
    "## Operating System Breakdown for Game Distribution"
   ]
  },
  {
   "cell_type": "code",
   "execution_count": 0,
   "metadata": {
    "application/vnd.databricks.v1+cell": {
     "cellMetadata": {
      "byteLimit": 2048000,
      "rowLimit": 10000
     },
     "inputWidgets": {},
     "nuid": "1049c6bd-39df-4e63-a08c-e71b2085fd61",
     "showTitle": false,
     "title": ""
    }
   },
   "outputs": [
    {
     "output_type": "display_data",
     "data": {
      "text/html": [
       "<style scoped>\n",
       "  .ansiout {\n",
       "    display: block;\n",
       "    unicode-bidi: embed;\n",
       "    white-space: pre-wrap;\n",
       "    word-wrap: break-word;\n",
       "    word-break: break-all;\n",
       "    font-family: \"Source Code Pro\", \"Menlo\", monospace;;\n",
       "    font-size: 13px;\n",
       "    color: #555;\n",
       "    margin-left: 4px;\n",
       "    line-height: 19px;\n",
       "  }\n",
       "</style>\n",
       "<div class=\"ansiout\">root\n",
       "-- app_id: string (nullable = true)\n",
       "-- title: string (nullable = true)\n",
       "-- date_release: string (nullable = true)\n",
       "-- win: string (nullable = true)\n",
       "-- mac: string (nullable = true)\n",
       "-- linux: string (nullable = true)\n",
       "-- rating: string (nullable = true)\n",
       "-- positive_ratio: string (nullable = true)\n",
       "-- user_reviews: string (nullable = true)\n",
       "-- price_final: string (nullable = true)\n",
       "-- price_original: string (nullable = true)\n",
       "-- discount: string (nullable = true)\n",
       "-- steam_deck: string (nullable = true)\n",
       "\n",
       "</div>"
      ]
     },
     "metadata": {
      "application/vnd.databricks.v1+output": {
       "addedWidgets": {},
       "arguments": {},
       "data": "<div class=\"ansiout\">root\n |-- app_id: string (nullable = true)\n |-- title: string (nullable = true)\n |-- date_release: string (nullable = true)\n |-- win: string (nullable = true)\n |-- mac: string (nullable = true)\n |-- linux: string (nullable = true)\n |-- rating: string (nullable = true)\n |-- positive_ratio: string (nullable = true)\n |-- user_reviews: string (nullable = true)\n |-- price_final: string (nullable = true)\n |-- price_original: string (nullable = true)\n |-- discount: string (nullable = true)\n |-- steam_deck: string (nullable = true)\n\n</div>",
       "datasetInfos": [],
       "metadata": {
        "isDbfsCommandResult": false
       },
       "removedWidgets": [],
       "type": "html"
      }
     },
     "output_type": "display_data"
    }
   ],
   "source": [
    "%scala\n",
    "df.printSchema()"
   ]
  },
  {
   "cell_type": "code",
   "execution_count": 0,
   "metadata": {
    "application/vnd.databricks.v1+cell": {
     "cellMetadata": {
      "byteLimit": 2048000,
      "rowLimit": 10000
     },
     "inputWidgets": {},
     "nuid": "a5870eb3-d830-44d7-839f-e78e6981753f",
     "showTitle": false,
     "title": ""
    }
   },
   "outputs": [
    {
     "output_type": "display_data",
     "data": {
      "text/html": [
       "<style scoped>\n",
       "  .ansiout {\n",
       "    display: block;\n",
       "    unicode-bidi: embed;\n",
       "    white-space: pre-wrap;\n",
       "    word-wrap: break-word;\n",
       "    word-break: break-all;\n",
       "    font-family: \"Source Code Pro\", \"Menlo\", monospace;;\n",
       "    font-size: 13px;\n",
       "    color: #555;\n",
       "    margin-left: 4px;\n",
       "    line-height: 19px;\n",
       "  }\n",
       "</style>\n",
       "<div class=\"ansiout\">+---------+---------+-----------+\n",
       "win_count|mac_count|linux_count|\n",
       "+---------+---------+-----------+\n",
       "    49769|    12964|       9010|\n",
       "+---------+---------+-----------+\n",
       "\n",
       "operating_distribution_count: org.apache.spark.sql.DataFrame = [win_count: bigint, mac_count: bigint ... 1 more field]\n",
       "</div>"
      ]
     },
     "metadata": {
      "application/vnd.databricks.v1+output": {
       "addedWidgets": {},
       "arguments": {},
       "data": "<div class=\"ansiout\">+---------+---------+-----------+\n|win_count|mac_count|linux_count|\n+---------+---------+-----------+\n|    49769|    12964|       9010|\n+---------+---------+-----------+\n\noperating_distribution_count: org.apache.spark.sql.DataFrame = [win_count: bigint, mac_count: bigint ... 1 more field]\n</div>",
       "datasetInfos": [
        {
         "name": "operating_distribution_count",
         "schema": {
          "fields": [
           {
            "metadata": {},
            "name": "win_count",
            "nullable": true,
            "type": "long"
           },
           {
            "metadata": {},
            "name": "mac_count",
            "nullable": true,
            "type": "long"
           },
           {
            "metadata": {},
            "name": "linux_count",
            "nullable": true,
            "type": "long"
           }
          ],
          "type": "struct"
         },
         "tableIdentifier": null,
         "typeStr": "org.apache.spark.sql.DataFrame"
        }
       ],
       "metadata": {
        "isDbfsCommandResult": false
       },
       "removedWidgets": [],
       "type": "html"
      }
     },
     "output_type": "display_data"
    }
   ],
   "source": [
    "%scala\n",
    "val operating_distribution_count = df.agg(\n",
    "  sum(when($\"win\"=== \"true\", 1).otherwise(0)).alias(\"win_count\"),\n",
    "  sum(when($\"mac\" === \"true\", 1).otherwise(0)).alias(\"mac_count\"),\n",
    "  sum(when($\"linux\" === \"true\", 1).otherwise(0)).alias(\"linux_count\")\n",
    "\n",
    ")\n",
    "operating_distribution_count.show()"
   ]
  },
  {
   "cell_type": "code",
   "execution_count": 0,
   "metadata": {
    "application/vnd.databricks.v1+cell": {
     "cellMetadata": {
      "byteLimit": 2048000,
      "rowLimit": 10000
     },
     "inputWidgets": {},
     "nuid": "f2bf2b43-1008-407d-a129-e889a5e817a6",
     "showTitle": false,
     "title": ""
    }
   },
   "outputs": [
    {
     "output_type": "display_data",
     "data": {
      "text/html": [
       "<style scoped>\n",
       "  .ansiout {\n",
       "    display: block;\n",
       "    unicode-bidi: embed;\n",
       "    white-space: pre-wrap;\n",
       "    word-wrap: break-word;\n",
       "    word-break: break-all;\n",
       "    font-family: \"Source Code Pro\", \"Menlo\", monospace;;\n",
       "    font-size: 13px;\n",
       "    color: #555;\n",
       "    margin-left: 4px;\n",
       "    line-height: 19px;\n",
       "  }\n",
       "</style>\n",
       "<div class=\"ansiout\"></div>"
      ]
     },
     "metadata": {
      "application/vnd.databricks.v1+output": {
       "addedWidgets": {},
       "arguments": {},
       "data": "<div class=\"ansiout\"></div>",
       "datasetInfos": [],
       "metadata": {
        "isDbfsCommandResult": false
       },
       "removedWidgets": [],
       "type": "html"
      }
     },
     "output_type": "display_data"
    }
   ],
   "source": [
    "%scala\n",
    "operating_distribution_count.write.format(\"delta\").mode(\"overwrite\").save(\"/mnt/datalake/delta/games/operating_distribution_count\")"
   ]
  },
  {
   "cell_type": "markdown",
   "metadata": {
    "application/vnd.databricks.v1+cell": {
     "cellMetadata": {},
     "inputWidgets": {},
     "nuid": "0f9d1f66-3221-42e6-a16c-a1a5aadc5552",
     "showTitle": false,
     "title": ""
    }
   },
   "source": [
    "## Correlation Between Game Playtime and User Recommendations"
   ]
  },
  {
   "cell_type": "code",
   "execution_count": 0,
   "metadata": {
    "application/vnd.databricks.v1+cell": {
     "cellMetadata": {
      "byteLimit": 2048000,
      "rowLimit": 10000
     },
     "inputWidgets": {},
     "nuid": "9abf09b5-8713-49de-875c-20c5c0b79a0b",
     "showTitle": false,
     "title": ""
    }
   },
   "outputs": [
    {
     "output_type": "display_data",
     "data": {
      "text/html": [
       "<style scoped>\n",
       "  .ansiout {\n",
       "    display: block;\n",
       "    unicode-bidi: embed;\n",
       "    white-space: pre-wrap;\n",
       "    word-wrap: break-word;\n",
       "    word-break: break-all;\n",
       "    font-family: \"Source Code Pro\", \"Menlo\", monospace;;\n",
       "    font-size: 13px;\n",
       "    color: #555;\n",
       "    margin-left: 4px;\n",
       "    line-height: 19px;\n",
       "  }\n",
       "</style>\n",
       "<div class=\"ansiout\">df_recommendation: org.apache.spark.sql.DataFrame = [app_id: string, helpful: string ... 6 more fields]\n",
       "</div>"
      ]
     },
     "metadata": {
      "application/vnd.databricks.v1+output": {
       "addedWidgets": {},
       "arguments": {},
       "data": "<div class=\"ansiout\">df_recommendation: org.apache.spark.sql.DataFrame = [app_id: string, helpful: string ... 6 more fields]\n</div>",
       "datasetInfos": [
        {
         "name": "df_recommendation",
         "schema": {
          "fields": [
           {
            "metadata": {},
            "name": "app_id",
            "nullable": true,
            "type": "string"
           },
           {
            "metadata": {},
            "name": "helpful",
            "nullable": true,
            "type": "string"
           },
           {
            "metadata": {},
            "name": "funny",
            "nullable": true,
            "type": "string"
           },
           {
            "metadata": {},
            "name": "date",
            "nullable": true,
            "type": "string"
           },
           {
            "metadata": {},
            "name": "is_recommended",
            "nullable": true,
            "type": "string"
           },
           {
            "metadata": {},
            "name": "hours",
            "nullable": true,
            "type": "string"
           },
           {
            "metadata": {},
            "name": "user_id",
            "nullable": true,
            "type": "string"
           },
           {
            "metadata": {},
            "name": "review_id",
            "nullable": true,
            "type": "string"
           }
          ],
          "type": "struct"
         },
         "tableIdentifier": null,
         "typeStr": "org.apache.spark.sql.DataFrame"
        }
       ],
       "metadata": {
        "isDbfsCommandResult": false
       },
       "removedWidgets": [],
       "type": "html"
      }
     },
     "output_type": "display_data"
    }
   ],
   "source": [
    "%scala\n",
    "val df_recommendation = spark.read.format(\"csv\")\n",
    ".option(\"header\", \"true\")\n",
    ".option(\"delimiter\", \",\")\n",
    ".load(\"dbfs:/mnt/datalake/example/games/recommendations.csv\")"
   ]
  },
  {
   "cell_type": "code",
   "execution_count": 0,
   "metadata": {
    "application/vnd.databricks.v1+cell": {
     "cellMetadata": {
      "byteLimit": 2048000,
      "rowLimit": 10000
     },
     "inputWidgets": {},
     "nuid": "e68a397d-8787-4959-9e7e-dd3bf51c5890",
     "showTitle": false,
     "title": ""
    }
   },
   "outputs": [
    {
     "output_type": "display_data",
     "data": {
      "text/html": [
       "<style scoped>\n",
       "  .ansiout {\n",
       "    display: block;\n",
       "    unicode-bidi: embed;\n",
       "    white-space: pre-wrap;\n",
       "    word-wrap: break-word;\n",
       "    word-break: break-all;\n",
       "    font-family: \"Source Code Pro\", \"Menlo\", monospace;;\n",
       "    font-size: 13px;\n",
       "    color: #555;\n",
       "    margin-left: 4px;\n",
       "    line-height: 19px;\n",
       "  }\n",
       "</style>\n",
       "<div class=\"ansiout\">+-------+-------+-----+----------+--------------+-----+-------+---------+\n",
       " app_id|helpful|funny|      date|is_recommended|hours|user_id|review_id|\n",
       "+-------+-------+-----+----------+--------------+-----+-------+---------+\n",
       " 975370|      0|    0|2022-12-12|          true| 36.3|  49078|        0|\n",
       " 304390|      4|    0|2017-02-17|         false| 11.5|   2461|        1|\n",
       "1085660|      2|    0|2019-11-17|          true|336.5| 240559|        2|\n",
       " 703080|      0|    0|2022-09-23|          true| 27.4| 245798|        3|\n",
       " 526870|      0|    0|2021-01-10|          true|  7.9|  22629|        4|\n",
       " 306130|      0|    0|2021-10-10|          true|  8.6|  43219|        5|\n",
       " 238960|      0|    0|2017-11-25|          true|538.8|  83923|        6|\n",
       "    730|      0|    0|2021-11-30|         false|157.5|  60124|        7|\n",
       " 255710|      0|    0|2021-05-21|          true| 18.7| 335753|        8|\n",
       " 289070|      0|    0|2020-05-26|          true|397.5| 430344|        9|\n",
       " 431960|      0|    0|2020-10-14|          true| 30.3| 189377|       10|\n",
       "1086940|      0|    0|2020-10-07|          true| 50.0|  81591|       11|\n",
       "1938090|      0|    0|2022-11-16|          true| 46.7| 152852|       12|\n",
       "1286830|      2|    0|2020-07-26|          true| 19.3| 107678|       13|\n",
       "1172620|      0|    0|2020-11-04|          true| 89.1| 116515|       14|\n",
       " 306130|      0|    0|2021-05-12|          true| 61.1|  71726|       15|\n",
       " 635260|      0|    0|2022-01-30|          true|177.0|  72831|       16|\n",
       "1151340|      0|    0|2020-07-01|          true| 86.3| 118655|       17|\n",
       " 289070|      0|    0|2020-05-29|          true|244.1| 247788|       18|\n",
       " 392160|      3|    0|2018-12-26|         false|320.5| 387036|       19|\n",
       "+-------+-------+-----+----------+--------------+-----+-------+---------+\n",
       "only showing top 20 rows\n",
       "\n",
       "</div>"
      ]
     },
     "metadata": {
      "application/vnd.databricks.v1+output": {
       "addedWidgets": {},
       "arguments": {},
       "data": "<div class=\"ansiout\">+-------+-------+-----+----------+--------------+-----+-------+---------+\n| app_id|helpful|funny|      date|is_recommended|hours|user_id|review_id|\n+-------+-------+-----+----------+--------------+-----+-------+---------+\n| 975370|      0|    0|2022-12-12|          true| 36.3|  49078|        0|\n| 304390|      4|    0|2017-02-17|         false| 11.5|   2461|        1|\n|1085660|      2|    0|2019-11-17|          true|336.5| 240559|        2|\n| 703080|      0|    0|2022-09-23|          true| 27.4| 245798|        3|\n| 526870|      0|    0|2021-01-10|          true|  7.9|  22629|        4|\n| 306130|      0|    0|2021-10-10|          true|  8.6|  43219|        5|\n| 238960|      0|    0|2017-11-25|          true|538.8|  83923|        6|\n|    730|      0|    0|2021-11-30|         false|157.5|  60124|        7|\n| 255710|      0|    0|2021-05-21|          true| 18.7| 335753|        8|\n| 289070|      0|    0|2020-05-26|          true|397.5| 430344|        9|\n| 431960|      0|    0|2020-10-14|          true| 30.3| 189377|       10|\n|1086940|      0|    0|2020-10-07|          true| 50.0|  81591|       11|\n|1938090|      0|    0|2022-11-16|          true| 46.7| 152852|       12|\n|1286830|      2|    0|2020-07-26|          true| 19.3| 107678|       13|\n|1172620|      0|    0|2020-11-04|          true| 89.1| 116515|       14|\n| 306130|      0|    0|2021-05-12|          true| 61.1|  71726|       15|\n| 635260|      0|    0|2022-01-30|          true|177.0|  72831|       16|\n|1151340|      0|    0|2020-07-01|          true| 86.3| 118655|       17|\n| 289070|      0|    0|2020-05-29|          true|244.1| 247788|       18|\n| 392160|      3|    0|2018-12-26|         false|320.5| 387036|       19|\n+-------+-------+-----+----------+--------------+-----+-------+---------+\nonly showing top 20 rows\n\n</div>",
       "datasetInfos": [],
       "metadata": {
        "isDbfsCommandResult": false
       },
       "removedWidgets": [],
       "type": "html"
      }
     },
     "output_type": "display_data"
    }
   ],
   "source": [
    "%scala\n",
    "df_recommendation.show()"
   ]
  },
  {
   "cell_type": "code",
   "execution_count": 0,
   "metadata": {
    "application/vnd.databricks.v1+cell": {
     "cellMetadata": {
      "byteLimit": 2048000,
      "rowLimit": 10000
     },
     "inputWidgets": {},
     "nuid": "37635394-af53-48f0-a080-5a25b04c66a8",
     "showTitle": false,
     "title": ""
    }
   },
   "outputs": [
    {
     "output_type": "display_data",
     "data": {
      "text/html": [
       "<style scoped>\n",
       "  .ansiout {\n",
       "    display: block;\n",
       "    unicode-bidi: embed;\n",
       "    white-space: pre-wrap;\n",
       "    word-wrap: break-word;\n",
       "    word-break: break-all;\n",
       "    font-family: \"Source Code Pro\", \"Menlo\", monospace;;\n",
       "    font-size: 13px;\n",
       "    color: #555;\n",
       "    margin-left: 4px;\n",
       "    line-height: 19px;\n",
       "  }\n",
       "</style>\n",
       "<div class=\"ansiout\">+--------------+--------------------+\n",
       "is_recommended|average_hours_played|\n",
       "+--------------+--------------------+\n",
       "         false|                83.7|\n",
       "          true|              107.27|\n",
       "+--------------+--------------------+\n",
       "\n",
       "correlation_recommendation_time: org.apache.spark.sql.DataFrame = [is_recommended: string, average_hours_played: double]\n",
       "</div>"
      ]
     },
     "metadata": {
      "application/vnd.databricks.v1+output": {
       "addedWidgets": {},
       "arguments": {},
       "data": "<div class=\"ansiout\">+--------------+--------------------+\n|is_recommended|average_hours_played|\n+--------------+--------------------+\n|         false|                83.7|\n|          true|              107.27|\n+--------------+--------------------+\n\ncorrelation_recommendation_time: org.apache.spark.sql.DataFrame = [is_recommended: string, average_hours_played: double]\n</div>",
       "datasetInfos": [
        {
         "name": "correlation_recommendation_time",
         "schema": {
          "fields": [
           {
            "metadata": {},
            "name": "is_recommended",
            "nullable": true,
            "type": "string"
           },
           {
            "metadata": {},
            "name": "average_hours_played",
            "nullable": true,
            "type": "double"
           }
          ],
          "type": "struct"
         },
         "tableIdentifier": null,
         "typeStr": "org.apache.spark.sql.DataFrame"
        }
       ],
       "metadata": {
        "isDbfsCommandResult": false
       },
       "removedWidgets": [],
       "type": "html"
      }
     },
     "output_type": "display_data"
    }
   ],
   "source": [
    "%scala\n",
    "val correlation_recommendation_time = df_recommendation.filter(col(\"is_recommended\").isNotNull and (col(\"is_recommended\") =!= \"\"))\n",
    ".groupBy(\"is_recommended\")\n",
    ".agg(round(avg(col(\"hours\")), 2).alias(\"average_hours_played\"))\n",
    "\n",
    "correlation_recommendation_time.show()"
   ]
  },
  {
   "cell_type": "code",
   "execution_count": 0,
   "metadata": {
    "application/vnd.databricks.v1+cell": {
     "cellMetadata": {
      "byteLimit": 2048000,
      "rowLimit": 10000
     },
     "inputWidgets": {},
     "nuid": "2a80a460-b004-48d9-8e89-c64769c68b15",
     "showTitle": false,
     "title": ""
    }
   },
   "outputs": [
    {
     "output_type": "display_data",
     "data": {
      "text/html": [
       "<style scoped>\n",
       "  .ansiout {\n",
       "    display: block;\n",
       "    unicode-bidi: embed;\n",
       "    white-space: pre-wrap;\n",
       "    word-wrap: break-word;\n",
       "    word-break: break-all;\n",
       "    font-family: \"Source Code Pro\", \"Menlo\", monospace;;\n",
       "    font-size: 13px;\n",
       "    color: #555;\n",
       "    margin-left: 4px;\n",
       "    line-height: 19px;\n",
       "  }\n",
       "</style>\n",
       "<div class=\"ansiout\">root\n",
       "-- is_recommended: string (nullable = true)\n",
       "-- average_hours_played: double (nullable = true)\n",
       "\n",
       "</div>"
      ]
     },
     "metadata": {
      "application/vnd.databricks.v1+output": {
       "addedWidgets": {},
       "arguments": {},
       "data": "<div class=\"ansiout\">root\n |-- is_recommended: string (nullable = true)\n |-- average_hours_played: double (nullable = true)\n\n</div>",
       "datasetInfos": [],
       "metadata": {
        "isDbfsCommandResult": false
       },
       "removedWidgets": [],
       "type": "html"
      }
     },
     "output_type": "display_data"
    }
   ],
   "source": [
    "%scala\n",
    "correlation_recommendation_time.printSchema()"
   ]
  },
  {
   "cell_type": "code",
   "execution_count": 0,
   "metadata": {
    "application/vnd.databricks.v1+cell": {
     "cellMetadata": {
      "byteLimit": 2048000,
      "rowLimit": 10000
     },
     "inputWidgets": {},
     "nuid": "53c6a29e-6471-429f-9096-1efaadddf5bf",
     "showTitle": false,
     "title": ""
    }
   },
   "outputs": [
    {
     "output_type": "display_data",
     "data": {
      "text/html": [
       "<style scoped>\n",
       "  .ansiout {\n",
       "    display: block;\n",
       "    unicode-bidi: embed;\n",
       "    white-space: pre-wrap;\n",
       "    word-wrap: break-word;\n",
       "    word-break: break-all;\n",
       "    font-family: \"Source Code Pro\", \"Menlo\", monospace;;\n",
       "    font-size: 13px;\n",
       "    color: #555;\n",
       "    margin-left: 4px;\n",
       "    line-height: 19px;\n",
       "  }\n",
       "</style>\n",
       "<div class=\"ansiout\"></div>"
      ]
     },
     "metadata": {
      "application/vnd.databricks.v1+output": {
       "addedWidgets": {},
       "arguments": {},
       "data": "<div class=\"ansiout\"></div>",
       "datasetInfos": [],
       "metadata": {
        "isDbfsCommandResult": false
       },
       "removedWidgets": [],
       "type": "html"
      }
     },
     "output_type": "display_data"
    }
   ],
   "source": [
    "%scala\n",
    "correlation_recommendation_time.write.format(\"delta\").mode(\"overwrite\").save(\"/mnt/datalake/delta/games/correlation_recommendation_time\")"
   ]
  },
  {
   "cell_type": "markdown",
   "metadata": {
    "application/vnd.databricks.v1+cell": {
     "cellMetadata": {},
     "inputWidgets": {},
     "nuid": "1799c242-662b-48f2-aef3-523c787c0351",
     "showTitle": false,
     "title": ""
    }
   },
   "source": [
    "## User Feedback On Steam Games"
   ]
  },
  {
   "cell_type": "code",
   "execution_count": 0,
   "metadata": {
    "application/vnd.databricks.v1+cell": {
     "cellMetadata": {
      "byteLimit": 2048000,
      "rowLimit": 10000
     },
     "inputWidgets": {},
     "nuid": "b2176a51-9285-4a0d-a52b-676dcf6f88e8",
     "showTitle": false,
     "title": ""
    }
   },
   "outputs": [
    {
     "output_type": "display_data",
     "data": {
      "text/html": [
       "<style scoped>\n",
       "  .ansiout {\n",
       "    display: block;\n",
       "    unicode-bidi: embed;\n",
       "    white-space: pre-wrap;\n",
       "    word-wrap: break-word;\n",
       "    word-break: break-all;\n",
       "    font-family: \"Source Code Pro\", \"Menlo\", monospace;;\n",
       "    font-size: 13px;\n",
       "    color: #555;\n",
       "    margin-left: 4px;\n",
       "    line-height: 19px;\n",
       "  }\n",
       "</style>\n",
       "<div class=\"ansiout\">+------+--------------------+------------+----+-----+-----+---------------+--------------+------------+-----------+--------------+--------+----------+\n",
       "app_id|               title|date_release| win|  mac|linux|         rating|positive_ratio|user_reviews|price_final|price_original|discount|steam_deck|\n",
       "+------+--------------------+------------+----+-----+-----+---------------+--------------+------------+-----------+--------------+--------+----------+\n",
       " 13500|Prince of Persia:...|  2008-11-21|true|false|false|  Very Positive|            84|        2199|       9.99|          9.99|     0.0|      true|\n",
       " 22364|BRINK: Agents of ...|  2011-08-03|true|false|false|       Positive|            85|          21|       2.99|          2.99|     0.0|      true|\n",
       "113020|Monaco: What's Yo...|  2013-04-24|true| true| true|  Very Positive|            92|        3722|      14.99|         14.99|     0.0|      true|\n",
       "226560|  Escape Dead Island|  2014-11-18|true|false|false|          Mixed|            61|         873|      14.99|         14.99|     0.0|      true|\n",
       "249050|Dungeon of the EN...|  2014-10-27|true| true|false|  Very Positive|            88|        8784|      11.99|         11.99|     0.0|      true|\n",
       "250180|        METAL SLUG 3|  2015-09-14|true|false|false|  Very Positive|            90|        5579|       7.99|          7.99|     0.0|      true|\n",
       "253980|             Enclave|  2013-10-04|true| true| true|Mostly Positive|            75|        1608|       4.99|          4.99|     0.0|      true|\n",
       "271850|Men of War: Assau...|  2014-05-16|true|false|false|          Mixed|            61|         199|       6.99|          6.99|     0.0|      true|\n",
       "282900|Hyperdimension Ne...|  2015-01-29|true|false|false|  Very Positive|            94|        9686|      14.99|         14.99|     0.0|      true|\n",
       " 19810|The Sum of All Fears|  2008-10-10|true|false|false|Mostly Positive|            75|          33|       9.99|          9.99|     0.0|      true|\n",
       " 15270|          Cold Fear™|  2008-05-13|true|false|false|  Very Positive|            85|         800|       9.99|          9.99|     0.0|      true|\n",
       " 21130|LEGO® Harry Potte...|  2010-06-25|true|false|false|  Very Positive|            85|        5169|      19.99|         19.99|     0.0|      true|\n",
       " 22130|Hearts of Iron 2 ...|  2009-01-23|true|false|false|  Very Positive|            85|         462|      14.99|         14.99|     0.0|      true|\n",
       " 29180|               Osmos|  2009-08-18|true| true| true|  Very Positive|            88|         532|       9.99|          9.99|     0.0|      true|\n",
       " 32750|          Comanche 4|  2009-06-18|true|false|false|  Very Positive|            90|         222|       9.99|          9.99|     0.0|      true|\n",
       "241620|          Inquisitor|  2013-08-01|true|false|false|Mostly Positive|            70|         390|       9.99|          9.99|     0.0|      true|\n",
       "244910|            Homesick|  2015-05-28|true|false|false|Mostly Positive|            77|        1139|      14.99|         14.99|     0.0|      true|\n",
       "245950|Borderlands 2: He...|  2014-02-11|true| true| true|  Very Positive|            84|         294|       0.89|          2.99|    70.0|      true|\n",
       "250460|  Bridge Constructor|  2013-10-16|true| true| true|Mostly Positive|            77|         716|       2.39|         19.99|    88.0|      true|\n",
       "278890|              Angvik|  2014-02-24|true| true|false|  Very Positive|            88|        1986|       2.99|          2.99|     0.0|      true|\n",
       "+------+--------------------+------------+----+-----+-----+---------------+--------------+------------+-----------+--------------+--------+----------+\n",
       "only showing top 20 rows\n",
       "\n",
       "</div>"
      ]
     },
     "metadata": {
      "application/vnd.databricks.v1+output": {
       "addedWidgets": {},
       "arguments": {},
       "data": "<div class=\"ansiout\">+------+--------------------+------------+----+-----+-----+---------------+--------------+------------+-----------+--------------+--------+----------+\n|app_id|               title|date_release| win|  mac|linux|         rating|positive_ratio|user_reviews|price_final|price_original|discount|steam_deck|\n+------+--------------------+------------+----+-----+-----+---------------+--------------+------------+-----------+--------------+--------+----------+\n| 13500|Prince of Persia:...|  2008-11-21|true|false|false|  Very Positive|            84|        2199|       9.99|          9.99|     0.0|      true|\n| 22364|BRINK: Agents of ...|  2011-08-03|true|false|false|       Positive|            85|          21|       2.99|          2.99|     0.0|      true|\n|113020|Monaco: What's Yo...|  2013-04-24|true| true| true|  Very Positive|            92|        3722|      14.99|         14.99|     0.0|      true|\n|226560|  Escape Dead Island|  2014-11-18|true|false|false|          Mixed|            61|         873|      14.99|         14.99|     0.0|      true|\n|249050|Dungeon of the EN...|  2014-10-27|true| true|false|  Very Positive|            88|        8784|      11.99|         11.99|     0.0|      true|\n|250180|        METAL SLUG 3|  2015-09-14|true|false|false|  Very Positive|            90|        5579|       7.99|          7.99|     0.0|      true|\n|253980|             Enclave|  2013-10-04|true| true| true|Mostly Positive|            75|        1608|       4.99|          4.99|     0.0|      true|\n|271850|Men of War: Assau...|  2014-05-16|true|false|false|          Mixed|            61|         199|       6.99|          6.99|     0.0|      true|\n|282900|Hyperdimension Ne...|  2015-01-29|true|false|false|  Very Positive|            94|        9686|      14.99|         14.99|     0.0|      true|\n| 19810|The Sum of All Fears|  2008-10-10|true|false|false|Mostly Positive|            75|          33|       9.99|          9.99|     0.0|      true|\n| 15270|          Cold Fear™|  2008-05-13|true|false|false|  Very Positive|            85|         800|       9.99|          9.99|     0.0|      true|\n| 21130|LEGO® Harry Potte...|  2010-06-25|true|false|false|  Very Positive|            85|        5169|      19.99|         19.99|     0.0|      true|\n| 22130|Hearts of Iron 2 ...|  2009-01-23|true|false|false|  Very Positive|            85|         462|      14.99|         14.99|     0.0|      true|\n| 29180|               Osmos|  2009-08-18|true| true| true|  Very Positive|            88|         532|       9.99|          9.99|     0.0|      true|\n| 32750|          Comanche 4|  2009-06-18|true|false|false|  Very Positive|            90|         222|       9.99|          9.99|     0.0|      true|\n|241620|          Inquisitor|  2013-08-01|true|false|false|Mostly Positive|            70|         390|       9.99|          9.99|     0.0|      true|\n|244910|            Homesick|  2015-05-28|true|false|false|Mostly Positive|            77|        1139|      14.99|         14.99|     0.0|      true|\n|245950|Borderlands 2: He...|  2014-02-11|true| true| true|  Very Positive|            84|         294|       0.89|          2.99|    70.0|      true|\n|250460|  Bridge Constructor|  2013-10-16|true| true| true|Mostly Positive|            77|         716|       2.39|         19.99|    88.0|      true|\n|278890|              Angvik|  2014-02-24|true| true|false|  Very Positive|            88|        1986|       2.99|          2.99|     0.0|      true|\n+------+--------------------+------------+----+-----+-----+---------------+--------------+------------+-----------+--------------+--------+----------+\nonly showing top 20 rows\n\n</div>",
       "datasetInfos": [],
       "metadata": {
        "isDbfsCommandResult": false
       },
       "removedWidgets": [],
       "type": "html"
      }
     },
     "output_type": "display_data"
    }
   ],
   "source": [
    "%scala\n",
    "df.show()"
   ]
  },
  {
   "cell_type": "code",
   "execution_count": 0,
   "metadata": {
    "application/vnd.databricks.v1+cell": {
     "cellMetadata": {
      "byteLimit": 2048000,
      "rowLimit": 10000
     },
     "inputWidgets": {},
     "nuid": "68e7e4ab-1d69-4013-b22b-c11c0bf171f0",
     "showTitle": false,
     "title": ""
    }
   },
   "outputs": [
    {
     "output_type": "display_data",
     "data": {
      "text/html": [
       "<style scoped>\n",
       "  .ansiout {\n",
       "    display: block;\n",
       "    unicode-bidi: embed;\n",
       "    white-space: pre-wrap;\n",
       "    word-wrap: break-word;\n",
       "    word-break: break-all;\n",
       "    font-family: \"Source Code Pro\", \"Menlo\", monospace;;\n",
       "    font-size: 13px;\n",
       "    color: #555;\n",
       "    margin-left: 4px;\n",
       "    line-height: 19px;\n",
       "  }\n",
       "</style>\n",
       "<div class=\"ansiout\">rating_count: org.apache.spark.sql.Dataset[org.apache.spark.sql.Row] = [rating: string, count: bigint]\n",
       "</div>"
      ]
     },
     "metadata": {
      "application/vnd.databricks.v1+output": {
       "addedWidgets": {},
       "arguments": {},
       "data": "<div class=\"ansiout\">rating_count: org.apache.spark.sql.Dataset[org.apache.spark.sql.Row] = [rating: string, count: bigint]\n</div>",
       "datasetInfos": [
        {
         "name": "rating_count",
         "schema": {
          "fields": [
           {
            "metadata": {},
            "name": "rating",
            "nullable": true,
            "type": "string"
           },
           {
            "metadata": {},
            "name": "count",
            "nullable": false,
            "type": "long"
           }
          ],
          "type": "struct"
         },
         "tableIdentifier": null,
         "typeStr": "org.apache.spark.sql.Dataset[org.apache.spark.sql.Row]"
        }
       ],
       "metadata": {
        "isDbfsCommandResult": false
       },
       "removedWidgets": [],
       "type": "html"
      }
     },
     "output_type": "display_data"
    }
   ],
   "source": [
    "%scala\n",
    "val rating_count = df.filter(col(\"app_id\").isNotNull and (col(\"app_id\") =!= \"\"))\n",
    ".groupBy(\"rating\")\n",
    ".count()\n",
    ".sort(col(\"count\").desc)"
   ]
  },
  {
   "cell_type": "code",
   "execution_count": 0,
   "metadata": {
    "application/vnd.databricks.v1+cell": {
     "cellMetadata": {
      "byteLimit": 2048000,
      "rowLimit": 10000
     },
     "inputWidgets": {},
     "nuid": "312f4405-d24a-4155-acb4-0ff371a77fe7",
     "showTitle": false,
     "title": ""
    }
   },
   "outputs": [
    {
     "output_type": "display_data",
     "data": {
      "text/html": [
       "<style scoped>\n",
       "  .ansiout {\n",
       "    display: block;\n",
       "    unicode-bidi: embed;\n",
       "    white-space: pre-wrap;\n",
       "    word-wrap: break-word;\n",
       "    word-break: break-all;\n",
       "    font-family: \"Source Code Pro\", \"Menlo\", monospace;;\n",
       "    font-size: 13px;\n",
       "    color: #555;\n",
       "    margin-left: 4px;\n",
       "    line-height: 19px;\n",
       "  }\n",
       "</style>\n",
       "<div class=\"ansiout\">+--------------------+-----+\n",
       "              rating|count|\n",
       "+--------------------+-----+\n",
       "            Positive|13473|\n",
       "       Very Positive|13000|\n",
       "               Mixed|12086|\n",
       "     Mostly Positive| 8690|\n",
       "     Mostly Negative| 1843|\n",
       "Overwhelmingly Po...| 1096|\n",
       "            Negative|  303|\n",
       "       Very Negative|   59|\n",
       "Overwhelmingly Ne...|   14|\n",
       "+--------------------+-----+\n",
       "\n",
       "</div>"
      ]
     },
     "metadata": {
      "application/vnd.databricks.v1+output": {
       "addedWidgets": {},
       "arguments": {},
       "data": "<div class=\"ansiout\">+--------------------+-----+\n|              rating|count|\n+--------------------+-----+\n|            Positive|13473|\n|       Very Positive|13000|\n|               Mixed|12086|\n|     Mostly Positive| 8690|\n|     Mostly Negative| 1843|\n|Overwhelmingly Po...| 1096|\n|            Negative|  303|\n|       Very Negative|   59|\n|Overwhelmingly Ne...|   14|\n+--------------------+-----+\n\n</div>",
       "datasetInfos": [],
       "metadata": {
        "isDbfsCommandResult": false
       },
       "removedWidgets": [],
       "type": "html"
      }
     },
     "output_type": "display_data"
    }
   ],
   "source": [
    "%scala\n",
    "rating_count.show()"
   ]
  },
  {
   "cell_type": "code",
   "execution_count": 0,
   "metadata": {
    "application/vnd.databricks.v1+cell": {
     "cellMetadata": {
      "byteLimit": 2048000,
      "rowLimit": 10000
     },
     "inputWidgets": {},
     "nuid": "97d6fbca-cc0b-4f41-a2fe-9166a7b41ee5",
     "showTitle": false,
     "title": ""
    }
   },
   "outputs": [
    {
     "output_type": "display_data",
     "data": {
      "text/html": [
       "<style scoped>\n",
       "  .ansiout {\n",
       "    display: block;\n",
       "    unicode-bidi: embed;\n",
       "    white-space: pre-wrap;\n",
       "    word-wrap: break-word;\n",
       "    word-break: break-all;\n",
       "    font-family: \"Source Code Pro\", \"Menlo\", monospace;;\n",
       "    font-size: 13px;\n",
       "    color: #555;\n",
       "    margin-left: 4px;\n",
       "    line-height: 19px;\n",
       "  }\n",
       "</style>\n",
       "<div class=\"ansiout\"></div>"
      ]
     },
     "metadata": {
      "application/vnd.databricks.v1+output": {
       "addedWidgets": {},
       "arguments": {},
       "data": "<div class=\"ansiout\"></div>",
       "datasetInfos": [],
       "metadata": {
        "isDbfsCommandResult": false
       },
       "removedWidgets": [],
       "type": "html"
      }
     },
     "output_type": "display_data"
    }
   ],
   "source": [
    "%scala\n",
    "rating_count.write.format(\"delta\").mode(\"overwrite\").save(\"/mnt/datalake/delta/games/rating_count\")"
   ]
  },
  {
   "cell_type": "markdown",
   "metadata": {
    "application/vnd.databricks.v1+cell": {
     "cellMetadata": {},
     "inputWidgets": {},
     "nuid": "f5899ece-6751-4a87-89da-730166a13eb1",
     "showTitle": false,
     "title": ""
    }
   },
   "source": [
    "## Steam Game Tag Distribution"
   ]
  },
  {
   "cell_type": "code",
   "execution_count": 0,
   "metadata": {
    "application/vnd.databricks.v1+cell": {
     "cellMetadata": {
      "byteLimit": 2048000,
      "rowLimit": 10000
     },
     "inputWidgets": {},
     "nuid": "19720eff-39ff-4232-8003-3764567ce073",
     "showTitle": false,
     "title": ""
    }
   },
   "outputs": [
    {
     "output_type": "display_data",
     "data": {
      "text/html": [
       "<style scoped>\n",
       "  .ansiout {\n",
       "    display: block;\n",
       "    unicode-bidi: embed;\n",
       "    white-space: pre-wrap;\n",
       "    word-wrap: break-word;\n",
       "    word-break: break-all;\n",
       "    font-family: \"Source Code Pro\", \"Menlo\", monospace;;\n",
       "    font-size: 13px;\n",
       "    color: #555;\n",
       "    margin-left: 4px;\n",
       "    line-height: 19px;\n",
       "  }\n",
       "</style>\n",
       "<div class=\"ansiout\">+------+--------------------+--------------------+\n",
       "app_id|         description|                tags|\n",
       "+------+--------------------+--------------------+\n",
       " 13500|Enter the dark un...|[Action, Adventur...|\n",
       " 22364|                    |            [Action]|\n",
       "113020|Monaco: What's Yo...|[Co-op, Stealth, ...|\n",
       "226560|Escape Dead Islan...|[Zombies, Adventu...|\n",
       "249050|Dungeon of the En...|[Roguelike, Strat...|\n",
       "250180|“METAL SLUG 3”, t...|[Arcade, Classic,...|\n",
       "253980|Experience incred...|[RPG, Action, Fan...|\n",
       "271850|                    |[Strategy, Simula...|\n",
       "282900|Packed with fast-...|[Anime, JRPG, Fem...|\n",
       " 19810|Lead a team of do...|  [Action, Tactical]|\n",
       " 15270|In a ferocious Ar...|[Horror, Action, ...|\n",
       " 21130|Build the adventu...|[LEGO, Adventure,...|\n",
       " 22130|Includes Hearts o...|[Strategy, Grand ...|\n",
       " 29180|Enter the ambient...|[Indie, Casual, P...|\n",
       " 32750|The best-selling ...|[Action, Simulati...|\n",
       "241620|Action-oriented c...|[RPG, Indie, Isom...|\n",
       "244910|Explore an abando...|[Atmospheric, Puz...|\n",
       "245950|                    |[Action, RPG, FPS...|\n",
       "250460|Become an apprais...|[Simulation, Casu...|\n",
       "278890|Angvik is a platf...|[Indie, Platforme...|\n",
       "+------+--------------------+--------------------+\n",
       "only showing top 20 rows\n",
       "\n",
       "df_game_tag: org.apache.spark.sql.DataFrame = [app_id: bigint, description: string ... 1 more field]\n",
       "</div>"
      ]
     },
     "metadata": {
      "application/vnd.databricks.v1+output": {
       "addedWidgets": {},
       "arguments": {},
       "data": "<div class=\"ansiout\">+------+--------------------+--------------------+\n|app_id|         description|                tags|\n+------+--------------------+--------------------+\n| 13500|Enter the dark un...|[Action, Adventur...|\n| 22364|                    |            [Action]|\n|113020|Monaco: What's Yo...|[Co-op, Stealth, ...|\n|226560|Escape Dead Islan...|[Zombies, Adventu...|\n|249050|Dungeon of the En...|[Roguelike, Strat...|\n|250180|“METAL SLUG 3”, t...|[Arcade, Classic,...|\n|253980|Experience incred...|[RPG, Action, Fan...|\n|271850|                    |[Strategy, Simula...|\n|282900|Packed with fast-...|[Anime, JRPG, Fem...|\n| 19810|Lead a team of do...|  [Action, Tactical]|\n| 15270|In a ferocious Ar...|[Horror, Action, ...|\n| 21130|Build the adventu...|[LEGO, Adventure,...|\n| 22130|Includes Hearts o...|[Strategy, Grand ...|\n| 29180|Enter the ambient...|[Indie, Casual, P...|\n| 32750|The best-selling ...|[Action, Simulati...|\n|241620|Action-oriented c...|[RPG, Indie, Isom...|\n|244910|Explore an abando...|[Atmospheric, Puz...|\n|245950|                    |[Action, RPG, FPS...|\n|250460|Become an apprais...|[Simulation, Casu...|\n|278890|Angvik is a platf...|[Indie, Platforme...|\n+------+--------------------+--------------------+\nonly showing top 20 rows\n\ndf_game_tag: org.apache.spark.sql.DataFrame = [app_id: bigint, description: string ... 1 more field]\n</div>",
       "datasetInfos": [
        {
         "name": "df_game_tag",
         "schema": {
          "fields": [
           {
            "metadata": {},
            "name": "app_id",
            "nullable": true,
            "type": "long"
           },
           {
            "metadata": {},
            "name": "description",
            "nullable": true,
            "type": "string"
           },
           {
            "metadata": {},
            "name": "tags",
            "nullable": true,
            "type": {
             "containsNull": true,
             "elementType": "string",
             "type": "array"
            }
           }
          ],
          "type": "struct"
         },
         "tableIdentifier": null,
         "typeStr": "org.apache.spark.sql.DataFrame"
        }
       ],
       "metadata": {
        "isDbfsCommandResult": false
       },
       "removedWidgets": [],
       "type": "html"
      }
     },
     "output_type": "display_data"
    }
   ],
   "source": [
    "%scala\n",
    "val df_game_tag = spark.read.format(\"json\")\n",
    ".json(\"dbfs:/mnt/datalake/example/games/games_metadata.json\")\n",
    "df_game_tag.show()"
   ]
  },
  {
   "cell_type": "code",
   "execution_count": 0,
   "metadata": {
    "application/vnd.databricks.v1+cell": {
     "cellMetadata": {
      "byteLimit": 2048000,
      "rowLimit": 10000
     },
     "inputWidgets": {},
     "nuid": "55808404-14b5-43f0-becc-9bbcce7b05d6",
     "showTitle": false,
     "title": ""
    }
   },
   "outputs": [
    {
     "output_type": "display_data",
     "data": {
      "text/html": [
       "<style scoped>\n",
       "  .ansiout {\n",
       "    display: block;\n",
       "    unicode-bidi: embed;\n",
       "    white-space: pre-wrap;\n",
       "    word-wrap: break-word;\n",
       "    word-break: break-all;\n",
       "    font-family: \"Source Code Pro\", \"Menlo\", monospace;;\n",
       "    font-size: 13px;\n",
       "    color: #555;\n",
       "    margin-left: 4px;\n",
       "    line-height: 19px;\n",
       "  }\n",
       "</style>\n",
       "<div class=\"ansiout\">+------+-----------------+\n",
       "app_id|              tag|\n",
       "+------+-----------------+\n",
       " 13500|           Action|\n",
       " 13500|        Adventure|\n",
       " 13500|          Parkour|\n",
       " 13500|     Third Person|\n",
       " 13500| Great Soundtrack|\n",
       " 13500|     Singleplayer|\n",
       " 13500|       Platformer|\n",
       " 13500|      Time Travel|\n",
       " 13500|      Atmospheric|\n",
       " 13500|          Classic|\n",
       " 13500|   Hack and Slash|\n",
       " 13500|Time Manipulation|\n",
       " 13500|             Gore|\n",
       " 13500|          Fantasy|\n",
       " 13500|       Story Rich|\n",
       " 13500|             Dark|\n",
       " 13500|       Open World|\n",
       " 13500|       Controller|\n",
       " 13500|     Dark Fantasy|\n",
       " 13500|           Puzzle|\n",
       "+------+-----------------+\n",
       "only showing top 20 rows\n",
       "\n",
       "explod_df: org.apache.spark.sql.DataFrame = [app_id: bigint, tag: string]\n",
       "</div>"
      ]
     },
     "metadata": {
      "application/vnd.databricks.v1+output": {
       "addedWidgets": {},
       "arguments": {},
       "data": "<div class=\"ansiout\">+------+-----------------+\n|app_id|              tag|\n+------+-----------------+\n| 13500|           Action|\n| 13500|        Adventure|\n| 13500|          Parkour|\n| 13500|     Third Person|\n| 13500| Great Soundtrack|\n| 13500|     Singleplayer|\n| 13500|       Platformer|\n| 13500|      Time Travel|\n| 13500|      Atmospheric|\n| 13500|          Classic|\n| 13500|   Hack and Slash|\n| 13500|Time Manipulation|\n| 13500|             Gore|\n| 13500|          Fantasy|\n| 13500|       Story Rich|\n| 13500|             Dark|\n| 13500|       Open World|\n| 13500|       Controller|\n| 13500|     Dark Fantasy|\n| 13500|           Puzzle|\n+------+-----------------+\nonly showing top 20 rows\n\nexplod_df: org.apache.spark.sql.DataFrame = [app_id: bigint, tag: string]\n</div>",
       "datasetInfos": [
        {
         "name": "explod_df",
         "schema": {
          "fields": [
           {
            "metadata": {},
            "name": "app_id",
            "nullable": true,
            "type": "long"
           },
           {
            "metadata": {},
            "name": "tag",
            "nullable": true,
            "type": "string"
           }
          ],
          "type": "struct"
         },
         "tableIdentifier": null,
         "typeStr": "org.apache.spark.sql.DataFrame"
        }
       ],
       "metadata": {
        "isDbfsCommandResult": false
       },
       "removedWidgets": [],
       "type": "html"
      }
     },
     "output_type": "display_data"
    }
   ],
   "source": [
    "%scala\n",
    "val explod_df = df_game_tag.select($\"app_id\", explode($\"tags\").alias(\"tag\"))\n",
    "explod_df.show()"
   ]
  },
  {
   "cell_type": "code",
   "execution_count": 0,
   "metadata": {
    "application/vnd.databricks.v1+cell": {
     "cellMetadata": {
      "byteLimit": 2048000,
      "rowLimit": 10000
     },
     "inputWidgets": {},
     "nuid": "d2c59943-6fd4-4a84-909a-b3f16d2ff8b1",
     "showTitle": false,
     "title": ""
    }
   },
   "outputs": [
    {
     "output_type": "display_data",
     "data": {
      "text/html": [
       "<style scoped>\n",
       "  .ansiout {\n",
       "    display: block;\n",
       "    unicode-bidi: embed;\n",
       "    white-space: pre-wrap;\n",
       "    word-wrap: break-word;\n",
       "    word-break: break-all;\n",
       "    font-family: \"Source Code Pro\", \"Menlo\", monospace;;\n",
       "    font-size: 13px;\n",
       "    color: #555;\n",
       "    margin-left: 4px;\n",
       "    line-height: 19px;\n",
       "  }\n",
       "</style>\n",
       "<div class=\"ansiout\">+--------------+-----+\n",
       "           tag|count|\n",
       "+--------------+-----+\n",
       "         Indie|28166|\n",
       "  Singleplayer|23070|\n",
       "        Action|22342|\n",
       "     Adventure|20540|\n",
       "        Casual|17989|\n",
       "    Simulation|12939|\n",
       "            2D|11539|\n",
       "      Strategy|11299|\n",
       "           RPG|10373|\n",
       "   Atmospheric| 8941|\n",
       "        Puzzle| 7650|\n",
       "    Story Rich| 7336|\n",
       "   Multiplayer| 6995|\n",
       "            3D| 6254|\n",
       "Pixel Graphics| 6083|\n",
       "   Exploration| 5918|\n",
       "  First-Person| 5788|\n",
       "          Cute| 5772|\n",
       "      Colorful| 5770|\n",
       "  Free to Play| 5731|\n",
       "+--------------+-----+\n",
       "only showing top 20 rows\n",
       "\n",
       "tag_count: org.apache.spark.sql.Dataset[org.apache.spark.sql.Row] = [tag: string, count: bigint]\n",
       "</div>"
      ]
     },
     "metadata": {
      "application/vnd.databricks.v1+output": {
       "addedWidgets": {},
       "arguments": {},
       "data": "<div class=\"ansiout\">+--------------+-----+\n|           tag|count|\n+--------------+-----+\n|         Indie|28166|\n|  Singleplayer|23070|\n|        Action|22342|\n|     Adventure|20540|\n|        Casual|17989|\n|    Simulation|12939|\n|            2D|11539|\n|      Strategy|11299|\n|           RPG|10373|\n|   Atmospheric| 8941|\n|        Puzzle| 7650|\n|    Story Rich| 7336|\n|   Multiplayer| 6995|\n|            3D| 6254|\n|Pixel Graphics| 6083|\n|   Exploration| 5918|\n|  First-Person| 5788|\n|          Cute| 5772|\n|      Colorful| 5770|\n|  Free to Play| 5731|\n+--------------+-----+\nonly showing top 20 rows\n\ntag_count: org.apache.spark.sql.Dataset[org.apache.spark.sql.Row] = [tag: string, count: bigint]\n</div>",
       "datasetInfos": [
        {
         "name": "tag_count",
         "schema": {
          "fields": [
           {
            "metadata": {},
            "name": "tag",
            "nullable": true,
            "type": "string"
           },
           {
            "metadata": {},
            "name": "count",
            "nullable": false,
            "type": "long"
           }
          ],
          "type": "struct"
         },
         "tableIdentifier": null,
         "typeStr": "org.apache.spark.sql.Dataset[org.apache.spark.sql.Row]"
        }
       ],
       "metadata": {
        "isDbfsCommandResult": false
       },
       "removedWidgets": [],
       "type": "html"
      }
     },
     "output_type": "display_data"
    }
   ],
   "source": [
    "%scala\n",
    "val tag_count =explod_df.groupBy(\"tag\").count().orderBy(desc(\"count\"))\n",
    "tag_count.show()"
   ]
  },
  {
   "cell_type": "code",
   "execution_count": 0,
   "metadata": {
    "application/vnd.databricks.v1+cell": {
     "cellMetadata": {
      "byteLimit": 2048000,
      "rowLimit": 10000
     },
     "inputWidgets": {},
     "nuid": "7a17d2ed-cba3-41b5-ae65-1f0192097ce1",
     "showTitle": false,
     "title": ""
    }
   },
   "outputs": [
    {
     "output_type": "display_data",
     "data": {
      "text/html": [
       "<style scoped>\n",
       "  .ansiout {\n",
       "    display: block;\n",
       "    unicode-bidi: embed;\n",
       "    white-space: pre-wrap;\n",
       "    word-wrap: break-word;\n",
       "    word-break: break-all;\n",
       "    font-family: \"Source Code Pro\", \"Menlo\", monospace;;\n",
       "    font-size: 13px;\n",
       "    color: #555;\n",
       "    margin-left: 4px;\n",
       "    line-height: 19px;\n",
       "  }\n",
       "</style>\n",
       "<div class=\"ansiout\"></div>"
      ]
     },
     "metadata": {
      "application/vnd.databricks.v1+output": {
       "addedWidgets": {},
       "arguments": {},
       "data": "<div class=\"ansiout\"></div>",
       "datasetInfos": [],
       "metadata": {
        "isDbfsCommandResult": false
       },
       "removedWidgets": [],
       "type": "html"
      }
     },
     "output_type": "display_data"
    }
   ],
   "source": [
    "%scala\n",
    "tag_count.write.format(\"delta\").mode(\"overwrite\").save(\"/mnt/datalake/delta/games/tag_count\")"
   ]
  },
  {
   "cell_type": "markdown",
   "metadata": {
    "application/vnd.databricks.v1+cell": {
     "cellMetadata": {},
     "inputWidgets": {},
     "nuid": "01806ce1-a1c8-4655-8ae2-542af21df0ee",
     "showTitle": false,
     "title": ""
    }
   },
   "source": [
    "## Top 10 Days with the Most Game Reviews on Steam"
   ]
  },
  {
   "cell_type": "code",
   "execution_count": 0,
   "metadata": {
    "application/vnd.databricks.v1+cell": {
     "cellMetadata": {
      "byteLimit": 2048000,
      "rowLimit": 10000
     },
     "inputWidgets": {},
     "nuid": "2f084948-7b3b-408f-a15e-20f55b8c4993",
     "showTitle": false,
     "title": ""
    }
   },
   "outputs": [
    {
     "output_type": "display_data",
     "data": {
      "text/html": [
       "<style scoped>\n",
       "  .ansiout {\n",
       "    display: block;\n",
       "    unicode-bidi: embed;\n",
       "    white-space: pre-wrap;\n",
       "    word-wrap: break-word;\n",
       "    word-break: break-all;\n",
       "    font-family: \"Source Code Pro\", \"Menlo\", monospace;;\n",
       "    font-size: 13px;\n",
       "    color: #555;\n",
       "    margin-left: 4px;\n",
       "    line-height: 19px;\n",
       "  }\n",
       "</style>\n",
       "<div class=\"ansiout\">+-------+-------+-----+----------+--------------+-----+-------+---------+\n",
       " app_id|helpful|funny|      date|is_recommended|hours|user_id|review_id|\n",
       "+-------+-------+-----+----------+--------------+-----+-------+---------+\n",
       " 975370|      0|    0|2022-12-12|          true| 36.3|  49078|        0|\n",
       " 304390|      4|    0|2017-02-17|         false| 11.5|   2461|        1|\n",
       "1085660|      2|    0|2019-11-17|          true|336.5| 240559|        2|\n",
       " 703080|      0|    0|2022-09-23|          true| 27.4| 245798|        3|\n",
       " 526870|      0|    0|2021-01-10|          true|  7.9|  22629|        4|\n",
       " 306130|      0|    0|2021-10-10|          true|  8.6|  43219|        5|\n",
       " 238960|      0|    0|2017-11-25|          true|538.8|  83923|        6|\n",
       "    730|      0|    0|2021-11-30|         false|157.5|  60124|        7|\n",
       " 255710|      0|    0|2021-05-21|          true| 18.7| 335753|        8|\n",
       " 289070|      0|    0|2020-05-26|          true|397.5| 430344|        9|\n",
       "+-------+-------+-----+----------+--------------+-----+-------+---------+\n",
       "\n",
       "</div>"
      ]
     },
     "metadata": {
      "application/vnd.databricks.v1+output": {
       "addedWidgets": {},
       "arguments": {},
       "data": "<div class=\"ansiout\">+-------+-------+-----+----------+--------------+-----+-------+---------+\n| app_id|helpful|funny|      date|is_recommended|hours|user_id|review_id|\n+-------+-------+-----+----------+--------------+-----+-------+---------+\n| 975370|      0|    0|2022-12-12|          true| 36.3|  49078|        0|\n| 304390|      4|    0|2017-02-17|         false| 11.5|   2461|        1|\n|1085660|      2|    0|2019-11-17|          true|336.5| 240559|        2|\n| 703080|      0|    0|2022-09-23|          true| 27.4| 245798|        3|\n| 526870|      0|    0|2021-01-10|          true|  7.9|  22629|        4|\n| 306130|      0|    0|2021-10-10|          true|  8.6|  43219|        5|\n| 238960|      0|    0|2017-11-25|          true|538.8|  83923|        6|\n|    730|      0|    0|2021-11-30|         false|157.5|  60124|        7|\n| 255710|      0|    0|2021-05-21|          true| 18.7| 335753|        8|\n| 289070|      0|    0|2020-05-26|          true|397.5| 430344|        9|\n+-------+-------+-----+----------+--------------+-----+-------+---------+\n\n</div>",
       "datasetInfos": [],
       "metadata": {
        "isDbfsCommandResult": false
       },
       "removedWidgets": [],
       "type": "html"
      }
     },
     "output_type": "display_data"
    }
   ],
   "source": [
    "%scala\n",
    "df_recommendation.limit(10).show()"
   ]
  },
  {
   "cell_type": "code",
   "execution_count": 0,
   "metadata": {
    "application/vnd.databricks.v1+cell": {
     "cellMetadata": {
      "byteLimit": 2048000,
      "rowLimit": 10000
     },
     "inputWidgets": {},
     "nuid": "fc696512-ab5f-4010-90d6-ff9b09e07759",
     "showTitle": false,
     "title": ""
    }
   },
   "outputs": [
    {
     "output_type": "display_data",
     "data": {
      "text/html": [
       "<style scoped>\n",
       "  .ansiout {\n",
       "    display: block;\n",
       "    unicode-bidi: embed;\n",
       "    white-space: pre-wrap;\n",
       "    word-wrap: break-word;\n",
       "    word-break: break-all;\n",
       "    font-family: \"Source Code Pro\", \"Menlo\", monospace;;\n",
       "    font-size: 13px;\n",
       "    color: #555;\n",
       "    margin-left: 4px;\n",
       "    line-height: 19px;\n",
       "  }\n",
       "</style>\n",
       "<div class=\"ansiout\">+----------+------+\n",
       "      date| count|\n",
       "+----------+------+\n",
       "2019-06-29|193332|\n",
       "2022-11-22|140930|\n",
       "2021-11-24|135778|\n",
       "2022-11-23|134615|\n",
       "2019-06-30|130128|\n",
       "2021-11-25|129705|\n",
       "2020-11-25|125285|\n",
       "2020-11-26|116691|\n",
       "2019-07-01|101642|\n",
       "2022-11-24| 94313|\n",
       "+----------+------+\n",
       "\n",
       "top_10_day_reviews: org.apache.spark.sql.Dataset[org.apache.spark.sql.Row] = [date: string, count: bigint]\n",
       "</div>"
      ]
     },
     "metadata": {
      "application/vnd.databricks.v1+output": {
       "addedWidgets": {},
       "arguments": {},
       "data": "<div class=\"ansiout\">+----------+------+\n|      date| count|\n+----------+------+\n|2019-06-29|193332|\n|2022-11-22|140930|\n|2021-11-24|135778|\n|2022-11-23|134615|\n|2019-06-30|130128|\n|2021-11-25|129705|\n|2020-11-25|125285|\n|2020-11-26|116691|\n|2019-07-01|101642|\n|2022-11-24| 94313|\n+----------+------+\n\ntop_10_day_reviews: org.apache.spark.sql.Dataset[org.apache.spark.sql.Row] = [date: string, count: bigint]\n</div>",
       "datasetInfos": [
        {
         "name": "top_10_day_reviews",
         "schema": {
          "fields": [
           {
            "metadata": {},
            "name": "date",
            "nullable": true,
            "type": "string"
           },
           {
            "metadata": {},
            "name": "count",
            "nullable": false,
            "type": "long"
           }
          ],
          "type": "struct"
         },
         "tableIdentifier": null,
         "typeStr": "org.apache.spark.sql.Dataset[org.apache.spark.sql.Row]"
        }
       ],
       "metadata": {
        "isDbfsCommandResult": false
       },
       "removedWidgets": [],
       "type": "html"
      }
     },
     "output_type": "display_data"
    }
   ],
   "source": [
    "%scala\n",
    "val top_10_day_reviews = df_recommendation.filter(col(\"app_id\").isNotNull and (col(\"app_id\") =!= \"\"))\n",
    ".filter(col(\"date\").isNotNull and (col(\"date\") =!= \"\"))\n",
    ".select(\"app_id\", \"date\")\n",
    ".groupBy(\"date\")\n",
    ".count()\n",
    ".sort(desc(\"count\"))\n",
    ".limit(10)\n",
    "top_10_day_reviews.show()"
   ]
  },
  {
   "cell_type": "code",
   "execution_count": 0,
   "metadata": {
    "application/vnd.databricks.v1+cell": {
     "cellMetadata": {
      "byteLimit": 2048000,
      "rowLimit": 10000
     },
     "inputWidgets": {},
     "nuid": "705fcb1e-6bfb-40f8-8d70-a1856e30f2e6",
     "showTitle": false,
     "title": ""
    }
   },
   "outputs": [
    {
     "output_type": "display_data",
     "data": {
      "text/html": [
       "<style scoped>\n",
       "  .ansiout {\n",
       "    display: block;\n",
       "    unicode-bidi: embed;\n",
       "    white-space: pre-wrap;\n",
       "    word-wrap: break-word;\n",
       "    word-break: break-all;\n",
       "    font-family: \"Source Code Pro\", \"Menlo\", monospace;;\n",
       "    font-size: 13px;\n",
       "    color: #555;\n",
       "    margin-left: 4px;\n",
       "    line-height: 19px;\n",
       "  }\n",
       "</style>\n",
       "<div class=\"ansiout\"></div>"
      ]
     },
     "metadata": {
      "application/vnd.databricks.v1+output": {
       "addedWidgets": {},
       "arguments": {},
       "data": "<div class=\"ansiout\"></div>",
       "datasetInfos": [],
       "metadata": {
        "isDbfsCommandResult": false
       },
       "removedWidgets": [],
       "type": "html"
      }
     },
     "output_type": "display_data"
    }
   ],
   "source": [
    "%scala\n",
    "top_10_day_reviews.write.mode(\"overwrite\").format(\"delta\").save(\"/mnt/datalake/delta/games/top_10_day_reviews\")"
   ]
  },
  {
   "cell_type": "markdown",
   "metadata": {
    "application/vnd.databricks.v1+cell": {
     "cellMetadata": {},
     "inputWidgets": {},
     "nuid": "a942206a-86ce-48f3-bb97-75cba03352ee",
     "showTitle": false,
     "title": ""
    }
   },
   "source": [
    "## Insights into User Responses to Steam Recommendation Reviews"
   ]
  },
  {
   "cell_type": "code",
   "execution_count": 0,
   "metadata": {
    "application/vnd.databricks.v1+cell": {
     "cellMetadata": {
      "byteLimit": 2048000,
      "rowLimit": 10000
     },
     "inputWidgets": {},
     "nuid": "e8c4cfed-b0f2-4e6f-8781-17b764496d88",
     "showTitle": false,
     "title": ""
    }
   },
   "outputs": [
    {
     "output_type": "display_data",
     "data": {
      "text/html": [
       "<style scoped>\n",
       "  .ansiout {\n",
       "    display: block;\n",
       "    unicode-bidi: embed;\n",
       "    white-space: pre-wrap;\n",
       "    word-wrap: break-word;\n",
       "    word-break: break-all;\n",
       "    font-family: \"Source Code Pro\", \"Menlo\", monospace;;\n",
       "    font-size: 13px;\n",
       "    color: #555;\n",
       "    margin-left: 4px;\n",
       "    line-height: 19px;\n",
       "  }\n",
       "</style>\n",
       "<div class=\"ansiout\">+-------+-------+-----+----------+--------------+-----+-------+---------+\n",
       " app_id|helpful|funny|      date|is_recommended|hours|user_id|review_id|\n",
       "+-------+-------+-----+----------+--------------+-----+-------+---------+\n",
       " 975370|      0|    0|2022-12-12|          true| 36.3|  49078|        0|\n",
       " 304390|      4|    0|2017-02-17|         false| 11.5|   2461|        1|\n",
       "1085660|      2|    0|2019-11-17|          true|336.5| 240559|        2|\n",
       " 703080|      0|    0|2022-09-23|          true| 27.4| 245798|        3|\n",
       " 526870|      0|    0|2021-01-10|          true|  7.9|  22629|        4|\n",
       " 306130|      0|    0|2021-10-10|          true|  8.6|  43219|        5|\n",
       " 238960|      0|    0|2017-11-25|          true|538.8|  83923|        6|\n",
       "    730|      0|    0|2021-11-30|         false|157.5|  60124|        7|\n",
       " 255710|      0|    0|2021-05-21|          true| 18.7| 335753|        8|\n",
       " 289070|      0|    0|2020-05-26|          true|397.5| 430344|        9|\n",
       "+-------+-------+-----+----------+--------------+-----+-------+---------+\n",
       "\n",
       "</div>"
      ]
     },
     "metadata": {
      "application/vnd.databricks.v1+output": {
       "addedWidgets": {},
       "arguments": {},
       "data": "<div class=\"ansiout\">+-------+-------+-----+----------+--------------+-----+-------+---------+\n| app_id|helpful|funny|      date|is_recommended|hours|user_id|review_id|\n+-------+-------+-----+----------+--------------+-----+-------+---------+\n| 975370|      0|    0|2022-12-12|          true| 36.3|  49078|        0|\n| 304390|      4|    0|2017-02-17|         false| 11.5|   2461|        1|\n|1085660|      2|    0|2019-11-17|          true|336.5| 240559|        2|\n| 703080|      0|    0|2022-09-23|          true| 27.4| 245798|        3|\n| 526870|      0|    0|2021-01-10|          true|  7.9|  22629|        4|\n| 306130|      0|    0|2021-10-10|          true|  8.6|  43219|        5|\n| 238960|      0|    0|2017-11-25|          true|538.8|  83923|        6|\n|    730|      0|    0|2021-11-30|         false|157.5|  60124|        7|\n| 255710|      0|    0|2021-05-21|          true| 18.7| 335753|        8|\n| 289070|      0|    0|2020-05-26|          true|397.5| 430344|        9|\n+-------+-------+-----+----------+--------------+-----+-------+---------+\n\n</div>",
       "datasetInfos": [],
       "metadata": {
        "isDbfsCommandResult": false
       },
       "removedWidgets": [],
       "type": "html"
      }
     },
     "output_type": "display_data"
    }
   ],
   "source": [
    "%scala\n",
    "df_recommendation.limit(10).show()"
   ]
  },
  {
   "cell_type": "code",
   "execution_count": 0,
   "metadata": {
    "application/vnd.databricks.v1+cell": {
     "cellMetadata": {
      "byteLimit": 2048000,
      "rowLimit": 10000
     },
     "inputWidgets": {},
     "nuid": "4becdd8f-1c99-4cd1-9cfc-0bfc157787bb",
     "showTitle": false,
     "title": ""
    }
   },
   "outputs": [
    {
     "output_type": "display_data",
     "data": {
      "text/html": [
       "<style scoped>\n",
       "  .ansiout {\n",
       "    display: block;\n",
       "    unicode-bidi: embed;\n",
       "    white-space: pre-wrap;\n",
       "    word-wrap: break-word;\n",
       "    word-break: break-all;\n",
       "    font-family: \"Source Code Pro\", \"Menlo\", monospace;;\n",
       "    font-size: 13px;\n",
       "    color: #555;\n",
       "    margin-left: 4px;\n",
       "    line-height: 19px;\n",
       "  }\n",
       "</style>\n",
       "<div class=\"ansiout\">root\n",
       "-- app_id: string (nullable = true)\n",
       "-- helpful: string (nullable = true)\n",
       "-- funny: string (nullable = true)\n",
       "-- date: string (nullable = true)\n",
       "-- is_recommended: string (nullable = true)\n",
       "-- hours: string (nullable = true)\n",
       "-- user_id: string (nullable = true)\n",
       "-- review_id: string (nullable = true)\n",
       "\n",
       "</div>"
      ]
     },
     "metadata": {
      "application/vnd.databricks.v1+output": {
       "addedWidgets": {},
       "arguments": {},
       "data": "<div class=\"ansiout\">root\n |-- app_id: string (nullable = true)\n |-- helpful: string (nullable = true)\n |-- funny: string (nullable = true)\n |-- date: string (nullable = true)\n |-- is_recommended: string (nullable = true)\n |-- hours: string (nullable = true)\n |-- user_id: string (nullable = true)\n |-- review_id: string (nullable = true)\n\n</div>",
       "datasetInfos": [],
       "metadata": {
        "isDbfsCommandResult": false
       },
       "removedWidgets": [],
       "type": "html"
      }
     },
     "output_type": "display_data"
    }
   ],
   "source": [
    "%scala\n",
    "df_recommendation.printSchema()"
   ]
  },
  {
   "cell_type": "code",
   "execution_count": 0,
   "metadata": {
    "application/vnd.databricks.v1+cell": {
     "cellMetadata": {
      "byteLimit": 2048000,
      "rowLimit": 10000
     },
     "inputWidgets": {},
     "nuid": "328125e8-5db4-4a8d-9119-bb6d0609a7ec",
     "showTitle": false,
     "title": ""
    }
   },
   "outputs": [
    {
     "output_type": "display_data",
     "data": {
      "text/html": [
       "<style scoped>\n",
       "  .ansiout {\n",
       "    display: block;\n",
       "    unicode-bidi: embed;\n",
       "    white-space: pre-wrap;\n",
       "    word-wrap: break-word;\n",
       "    word-break: break-all;\n",
       "    font-family: \"Source Code Pro\", \"Menlo\", monospace;;\n",
       "    font-size: 13px;\n",
       "    color: #555;\n",
       "    margin-left: 4px;\n",
       "    line-height: 19px;\n",
       "  }\n",
       "</style>\n",
       "<div class=\"ansiout\">convert_df: org.apache.spark.sql.DataFrame = [app_id: string, helpful: int ... 6 more fields]\n",
       "</div>"
      ]
     },
     "metadata": {
      "application/vnd.databricks.v1+output": {
       "addedWidgets": {},
       "arguments": {},
       "data": "<div class=\"ansiout\">convert_df: org.apache.spark.sql.DataFrame = [app_id: string, helpful: int ... 6 more fields]\n</div>",
       "datasetInfos": [
        {
         "name": "convert_df",
         "schema": {
          "fields": [
           {
            "metadata": {},
            "name": "app_id",
            "nullable": true,
            "type": "string"
           },
           {
            "metadata": {},
            "name": "helpful",
            "nullable": true,
            "type": "integer"
           },
           {
            "metadata": {},
            "name": "funny",
            "nullable": true,
            "type": "integer"
           },
           {
            "metadata": {},
            "name": "date",
            "nullable": true,
            "type": "string"
           },
           {
            "metadata": {},
            "name": "is_recommended",
            "nullable": true,
            "type": "string"
           },
           {
            "metadata": {},
            "name": "hours",
            "nullable": true,
            "type": "string"
           },
           {
            "metadata": {},
            "name": "user_id",
            "nullable": true,
            "type": "string"
           },
           {
            "metadata": {},
            "name": "review_id",
            "nullable": true,
            "type": "string"
           }
          ],
          "type": "struct"
         },
         "tableIdentifier": null,
         "typeStr": "org.apache.spark.sql.DataFrame"
        }
       ],
       "metadata": {
        "isDbfsCommandResult": false
       },
       "removedWidgets": [],
       "type": "html"
      }
     },
     "output_type": "display_data"
    }
   ],
   "source": [
    "%scala\n",
    "val convert_df = df_recommendation.filter(col(\"app_id\").isNotNull and (col(\"app_id\") =!= \"\"))\n",
    ".withColumn(\"helpful\", col(\"helpful\").cast(\"int\"))\n",
    ".withColumn(\"funny\", col(\"funny\").cast(\"int\"))\n"
   ]
  },
  {
   "cell_type": "code",
   "execution_count": 0,
   "metadata": {
    "application/vnd.databricks.v1+cell": {
     "cellMetadata": {
      "byteLimit": 2048000,
      "rowLimit": 10000
     },
     "inputWidgets": {},
     "nuid": "609e09a3-e733-4795-a953-e14b918e285e",
     "showTitle": false,
     "title": ""
    }
   },
   "outputs": [
    {
     "output_type": "display_data",
     "data": {
      "text/html": [
       "<style scoped>\n",
       "  .ansiout {\n",
       "    display: block;\n",
       "    unicode-bidi: embed;\n",
       "    white-space: pre-wrap;\n",
       "    word-wrap: break-word;\n",
       "    word-break: break-all;\n",
       "    font-family: \"Source Code Pro\", \"Menlo\", monospace;;\n",
       "    font-size: 13px;\n",
       "    color: #555;\n",
       "    margin-left: 4px;\n",
       "    line-height: 19px;\n",
       "  }\n",
       "</style>\n",
       "<div class=\"ansiout\">feedback_df: org.apache.spark.sql.DataFrame = [helpful_count: bigint, funny_count: bigint]\n",
       "</div>"
      ]
     },
     "metadata": {
      "application/vnd.databricks.v1+output": {
       "addedWidgets": {},
       "arguments": {},
       "data": "<div class=\"ansiout\">feedback_df: org.apache.spark.sql.DataFrame = [helpful_count: bigint, funny_count: bigint]\n</div>",
       "datasetInfos": [
        {
         "name": "feedback_df",
         "schema": {
          "fields": [
           {
            "metadata": {},
            "name": "helpful_count",
            "nullable": true,
            "type": "long"
           },
           {
            "metadata": {},
            "name": "funny_count",
            "nullable": true,
            "type": "long"
           }
          ],
          "type": "struct"
         },
         "tableIdentifier": null,
         "typeStr": "org.apache.spark.sql.DataFrame"
        }
       ],
       "metadata": {
        "isDbfsCommandResult": false
       },
       "removedWidgets": [],
       "type": "html"
      }
     },
     "output_type": "display_data"
    }
   ],
   "source": [
    "%scala\n",
    "val feedback_df = convert_df.agg(sum(\"helpful\").alias(\"helpful_count\"), sum(\"funny\").alias(\"funny_count\"))"
   ]
  },
  {
   "cell_type": "code",
   "execution_count": 0,
   "metadata": {
    "application/vnd.databricks.v1+cell": {
     "cellMetadata": {
      "byteLimit": 2048000,
      "rowLimit": 10000
     },
     "inputWidgets": {},
     "nuid": "13c1b832-06b3-44fc-8311-19dc609c6e53",
     "showTitle": false,
     "title": ""
    }
   },
   "outputs": [
    {
     "output_type": "display_data",
     "data": {
      "text/html": [
       "<style scoped>\n",
       "  .ansiout {\n",
       "    display: block;\n",
       "    unicode-bidi: embed;\n",
       "    white-space: pre-wrap;\n",
       "    word-wrap: break-word;\n",
       "    word-break: break-all;\n",
       "    font-family: \"Source Code Pro\", \"Menlo\", monospace;;\n",
       "    font-size: 13px;\n",
       "    color: #555;\n",
       "    margin-left: 4px;\n",
       "    line-height: 19px;\n",
       "  }\n",
       "</style>\n",
       "<div class=\"ansiout\">+-------------+-----------+\n",
       "helpful_count|funny_count|\n",
       "+-------------+-----------+\n",
       "    125876064|   41676097|\n",
       "+-------------+-----------+\n",
       "\n",
       "</div>"
      ]
     },
     "metadata": {
      "application/vnd.databricks.v1+output": {
       "addedWidgets": {},
       "arguments": {},
       "data": "<div class=\"ansiout\">+-------------+-----------+\n|helpful_count|funny_count|\n+-------------+-----------+\n|    125876064|   41676097|\n+-------------+-----------+\n\n</div>",
       "datasetInfos": [],
       "metadata": {
        "isDbfsCommandResult": false
       },
       "removedWidgets": [],
       "type": "html"
      }
     },
     "output_type": "display_data"
    }
   ],
   "source": [
    "%scala\n",
    "feedback_df.show()"
   ]
  },
  {
   "cell_type": "code",
   "execution_count": 0,
   "metadata": {
    "application/vnd.databricks.v1+cell": {
     "cellMetadata": {
      "byteLimit": 2048000,
      "rowLimit": 10000
     },
     "inputWidgets": {},
     "nuid": "19ac6692-c204-4992-8f75-1c4e92c2f0dc",
     "showTitle": false,
     "title": ""
    }
   },
   "outputs": [
    {
     "output_type": "display_data",
     "data": {
      "text/html": [
       "<style scoped>\n",
       "  .ansiout {\n",
       "    display: block;\n",
       "    unicode-bidi: embed;\n",
       "    white-space: pre-wrap;\n",
       "    word-wrap: break-word;\n",
       "    word-break: break-all;\n",
       "    font-family: \"Source Code Pro\", \"Menlo\", monospace;;\n",
       "    font-size: 13px;\n",
       "    color: #555;\n",
       "    margin-left: 4px;\n",
       "    line-height: 19px;\n",
       "  }\n",
       "</style>\n",
       "<div class=\"ansiout\"></div>"
      ]
     },
     "metadata": {
      "application/vnd.databricks.v1+output": {
       "addedWidgets": {},
       "arguments": {},
       "data": "<div class=\"ansiout\"></div>",
       "datasetInfos": [],
       "metadata": {
        "isDbfsCommandResult": false
       },
       "removedWidgets": [],
       "type": "html"
      }
     },
     "output_type": "display_data"
    }
   ],
   "source": [
    "%scala\n",
    "feedback_df.write.mode(\"overwrite\").format(\"delta\").save(\"/mnt/datalake/delta/games/feedback_df\")"
   ]
  },
  {
   "cell_type": "code",
   "execution_count": 0,
   "metadata": {
    "application/vnd.databricks.v1+cell": {
     "cellMetadata": {},
     "inputWidgets": {},
     "nuid": "2b5a12e9-bf7d-4a3d-801a-e6cbc5757afa",
     "showTitle": false,
     "title": ""
    }
   },
   "outputs": [],
   "source": []
  }
 ],
 "metadata": {
  "application/vnd.databricks.v1+notebook": {
   "dashboards": [],
   "language": "python",
   "notebookMetadata": {
    "mostRecentlyExecutedCommandWithImplicitDF": {
     "commandId": 928362790602248,
     "dataframes": [
      "_sqldf"
     ]
    },
    "pythonIndentUnit": 4
   },
   "notebookName": "Games On Steam Analysis",
   "widgets": {}
  }
 },
 "nbformat": 4,
 "nbformat_minor": 0
}
